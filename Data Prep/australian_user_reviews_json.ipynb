{
 "cells": [
  {
   "cell_type": "markdown",
   "metadata": {},
   "source": [
    "# CARGA DEL DATASET Y LIBRERIAS"
   ]
  },
  {
   "cell_type": "markdown",
   "metadata": {},
   "source": [
    "## Importacion de Librerias"
   ]
  },
  {
   "cell_type": "code",
   "execution_count": 1,
   "metadata": {},
   "outputs": [
    {
     "name": "stderr",
     "output_type": "stream",
     "text": [
      "[nltk_data] Downloading package vader_lexicon to\n",
      "[nltk_data]     C:\\Users\\Peter\\AppData\\Roaming\\nltk_data...\n",
      "[nltk_data]   Package vader_lexicon is already up-to-date!\n"
     ]
    },
    {
     "data": {
      "text/plain": [
       "True"
      ]
     },
     "execution_count": 1,
     "metadata": {},
     "output_type": "execute_result"
    }
   ],
   "source": [
    "import pandas as pd\n",
    "from datetime import datetime\n",
    "import numpy as np\n",
    "import nltk\n",
    "from nltk.sentiment.vader import SentimentIntensityAnalyzer\n",
    "nltk.download('vader_lexicon')"
   ]
  },
  {
   "cell_type": "markdown",
   "metadata": {},
   "source": [
    "## Carga del dataset crudo para su tratamiento"
   ]
  },
  {
   "cell_type": "code",
   "execution_count": 3,
   "metadata": {},
   "outputs": [],
   "source": [
    "data = []\n",
    "\n",
    "# Leer el archivo línea por línea y cargar los objetos JSON\n",
    "#with open('../raw_data/australian_user_reviews.json', encoding='utf-8') as json_file:\n",
    "with open(f'D:\\PEDRO\\AHORA\\A LA CARGA!!\\WORKING AREA\\Cursos and Tuts\\Henry\\Labs\\PIML3\\DESARROLLO DEL PI\\A Local/raw_data/australian_user_reviews.json', encoding='utf-8') as json_file:\n",
    "    for line in json_file:\n",
    "        data.append(eval(line))  # Convertir la línea en un objeto Python\n",
    "\n",
    "# Crear el DataFrame a partir de la lista de objetos JSON\n",
    "df_user_reviews = pd.DataFrame(data)"
   ]
  },
  {
   "cell_type": "markdown",
   "metadata": {},
   "source": [
    "# LIMPIEZA Y TRANSFORMACION DE DATASET CRUDO"
   ]
  },
  {
   "cell_type": "markdown",
   "metadata": {},
   "source": [
    "## Exploracion Basica"
   ]
  },
  {
   "cell_type": "code",
   "execution_count": null,
   "metadata": {},
   "outputs": [
    {
     "name": "stdout",
     "output_type": "stream",
     "text": [
      "Numero de filas y campos:  (25799, 3)\n",
      "Tipos de las columnas:\n",
      "user_id     object\n",
      "user_url    object\n",
      "reviews     object\n",
      "dtype: object\n",
      "Datos faltantes:\n",
      "user_id     0\n",
      "user_url    0\n",
      "reviews     0\n",
      "dtype: int64\n",
      "Primera fila de los campos 'user_id' 'user_url':\n"
     ]
    },
    {
     "data": {
      "text/html": [
       "<div>\n",
       "<style scoped>\n",
       "    .dataframe tbody tr th:only-of-type {\n",
       "        vertical-align: middle;\n",
       "    }\n",
       "\n",
       "    .dataframe tbody tr th {\n",
       "        vertical-align: top;\n",
       "    }\n",
       "\n",
       "    .dataframe thead th {\n",
       "        text-align: right;\n",
       "    }\n",
       "</style>\n",
       "<table border=\"1\" class=\"dataframe\">\n",
       "  <thead>\n",
       "    <tr style=\"text-align: right;\">\n",
       "      <th></th>\n",
       "      <th>user_id</th>\n",
       "      <th>user_url</th>\n",
       "      <th>reviews</th>\n",
       "    </tr>\n",
       "  </thead>\n",
       "  <tbody>\n",
       "    <tr>\n",
       "      <th>0</th>\n",
       "      <td>76561197970982479</td>\n",
       "      <td>http://steamcommunity.com/profiles/76561197970...</td>\n",
       "      <td>[{'funny': '', 'posted': 'Posted November 5, 2...</td>\n",
       "    </tr>\n",
       "  </tbody>\n",
       "</table>\n",
       "</div>"
      ],
      "text/plain": [
       "             user_id                                           user_url   \n",
       "0  76561197970982479  http://steamcommunity.com/profiles/76561197970...  \\\n",
       "\n",
       "                                             reviews  \n",
       "0  [{'funny': '', 'posted': 'Posted November 5, 2...  "
      ]
     },
     "execution_count": 57,
     "metadata": {},
     "output_type": "execute_result"
    }
   ],
   "source": [
    "print('Numero de filas y campos: ',df_user_reviews.shape)\n",
    "print('Tipos de las columnas:')\n",
    "print(df_user_reviews.dtypes)\n",
    "print('Datos faltantes:')\n",
    "print(df_user_reviews.isnull().sum())\n",
    "print(\"Primera fila de los campos 'user_id' 'user_url':\")\n",
    "df_user_reviews.head(1)\n",
    "\n",
    "#df_user_reviews_userdata_prepared[['user_id','user_url']].head(5)"
   ]
  },
  {
   "cell_type": "markdown",
   "metadata": {},
   "source": [
    "Al parecer el campo 'reviews' esta anidado; checkamos su primer valor"
   ]
  },
  {
   "cell_type": "code",
   "execution_count": null,
   "metadata": {},
   "outputs": [
    {
     "name": "stdout",
     "output_type": "stream",
     "text": [
      "Primer contenido de las columna 'reviews':\n"
     ]
    },
    {
     "data": {
      "text/plain": [
       "[{'funny': '',\n",
       "  'posted': 'Posted November 5, 2011.',\n",
       "  'last_edited': '',\n",
       "  'item_id': '1250',\n",
       "  'helpful': 'No ratings yet',\n",
       "  'recommend': True,\n",
       "  'review': 'Simple yet with great replayability. In my opinion does \"zombie\" hordes and team work better than left 4 dead plus has a global leveling system. Alot of down to earth \"zombie\" splattering fun for the whole family. Amazed this sort of FPS is so rare.'},\n",
       " {'funny': '',\n",
       "  'posted': 'Posted July 15, 2011.',\n",
       "  'last_edited': '',\n",
       "  'item_id': '22200',\n",
       "  'helpful': 'No ratings yet',\n",
       "  'recommend': True,\n",
       "  'review': \"It's unique and worth a playthrough.\"},\n",
       " {'funny': '',\n",
       "  'posted': 'Posted April 21, 2011.',\n",
       "  'last_edited': '',\n",
       "  'item_id': '43110',\n",
       "  'helpful': 'No ratings yet',\n",
       "  'recommend': True,\n",
       "  'review': 'Great atmosphere. The gunplay can be a bit chunky at times but at the end of the day this game is definitely worth it and I hope they do a sequel...so buy the game so I get a sequel!'}]"
      ]
     },
     "execution_count": 58,
     "metadata": {},
     "output_type": "execute_result"
    }
   ],
   "source": [
    "print(\"Primer contenido de las columna 'reviews':\")\n",
    "df_user_reviews['reviews'][0]"
   ]
  },
  {
   "cell_type": "markdown",
   "metadata": {},
   "source": [
    "Vemos que debemos desanidar 'reviews', pero previo a eso existen tratamientos previos que realizar"
   ]
  },
  {
   "cell_type": "markdown",
   "metadata": {},
   "source": [
    "## Tratamientos previos al desanidado del campo 'reviews'"
   ]
  },
  {
   "cell_type": "markdown",
   "metadata": {},
   "source": [
    "Antes del desanidado verificamos si existen ides duplicados en 'user_id'. Para eliminar estos duplicados primero debemos verificar registros con valores faltantes en 'reviews', pues de nada sirven registros con ides unicos en 'user_id' y valores vacios en 'reviews'"
   ]
  },
  {
   "cell_type": "markdown",
   "metadata": {},
   "source": [
    "### Exploramos el campo 'user_id'"
   ]
  },
  {
   "cell_type": "markdown",
   "metadata": {},
   "source": [
    "Los ides deben ser unicos, por lo que verificamos si existen valores repetidos"
   ]
  },
  {
   "cell_type": "code",
   "execution_count": null,
   "metadata": {},
   "outputs": [
    {
     "name": "stdout",
     "output_type": "stream",
     "text": [
      "Total de valores en 'user_id':  25799\n",
      "Número de valores únicos en 'user_id':  25485\n"
     ]
    }
   ],
   "source": [
    "#Muestra los valores unicos en 'user_id'\n",
    "ides = df_user_reviews['user_id'] #muestra los valores en 'user_id'\n",
    "print(\"Total de valores en 'user_id': \", len(ides))\n",
    "\n",
    "ides_unicos = df_user_reviews['user_id'].unique() #muestra valores únicos en  'user_id'\n",
    "print(\"Número de valores únicos en 'user_id': \", len(ides_unicos))"
   ]
  },
  {
   "cell_type": "markdown",
   "metadata": {},
   "source": [
    "Encontramos muchos valores repetidos en 'user_id'      \n",
    "Para analizar estas ocurrencias vamos a capturar 3 ides que se repiten y mostrar todas las filas implicadas  \n",
    "Para acelerar la tarea trabajamos sin el campo 'reviews'"
   ]
  },
  {
   "cell_type": "code",
   "execution_count": null,
   "metadata": {},
   "outputs": [
    {
     "name": "stdout",
     "output_type": "stream",
     "text": [
      "Los 3 primeros ides repetidos son: ['76561198027488037', '76561198045953692', '76561198051777058']\n"
     ]
    },
    {
     "data": {
      "text/html": [
       "<div>\n",
       "<style scoped>\n",
       "    .dataframe tbody tr th:only-of-type {\n",
       "        vertical-align: middle;\n",
       "    }\n",
       "\n",
       "    .dataframe tbody tr th {\n",
       "        vertical-align: top;\n",
       "    }\n",
       "\n",
       "    .dataframe thead th {\n",
       "        text-align: right;\n",
       "    }\n",
       "</style>\n",
       "<table border=\"1\" class=\"dataframe\">\n",
       "  <thead>\n",
       "    <tr style=\"text-align: right;\">\n",
       "      <th></th>\n",
       "      <th>user_id</th>\n",
       "      <th>user_url</th>\n",
       "    </tr>\n",
       "  </thead>\n",
       "  <tbody>\n",
       "    <tr>\n",
       "      <th>1103</th>\n",
       "      <td>76561198045953692</td>\n",
       "      <td>http://steamcommunity.com/profiles/76561198045...</td>\n",
       "    </tr>\n",
       "    <tr>\n",
       "      <th>2197</th>\n",
       "      <td>76561198051777058</td>\n",
       "      <td>http://steamcommunity.com/profiles/76561198051...</td>\n",
       "    </tr>\n",
       "    <tr>\n",
       "      <th>5098</th>\n",
       "      <td>76561198045953692</td>\n",
       "      <td>http://steamcommunity.com/profiles/76561198045...</td>\n",
       "    </tr>\n",
       "    <tr>\n",
       "      <th>6935</th>\n",
       "      <td>76561198027488037</td>\n",
       "      <td>http://steamcommunity.com/profiles/76561198027...</td>\n",
       "    </tr>\n",
       "    <tr>\n",
       "      <th>6936</th>\n",
       "      <td>76561198027488037</td>\n",
       "      <td>http://steamcommunity.com/profiles/76561198027...</td>\n",
       "    </tr>\n",
       "    <tr>\n",
       "      <th>7364</th>\n",
       "      <td>76561198051777058</td>\n",
       "      <td>http://steamcommunity.com/profiles/76561198051...</td>\n",
       "    </tr>\n",
       "    <tr>\n",
       "      <th>12678</th>\n",
       "      <td>76561198045953692</td>\n",
       "      <td>http://steamcommunity.com/profiles/76561198045...</td>\n",
       "    </tr>\n",
       "    <tr>\n",
       "      <th>15693</th>\n",
       "      <td>76561198027488037</td>\n",
       "      <td>http://steamcommunity.com/profiles/76561198027...</td>\n",
       "    </tr>\n",
       "    <tr>\n",
       "      <th>16451</th>\n",
       "      <td>76561198051777058</td>\n",
       "      <td>http://steamcommunity.com/profiles/76561198051...</td>\n",
       "    </tr>\n",
       "  </tbody>\n",
       "</table>\n",
       "</div>"
      ],
      "text/plain": [
       "                 user_id                                           user_url\n",
       "1103   76561198045953692  http://steamcommunity.com/profiles/76561198045...\n",
       "2197   76561198051777058  http://steamcommunity.com/profiles/76561198051...\n",
       "5098   76561198045953692  http://steamcommunity.com/profiles/76561198045...\n",
       "6935   76561198027488037  http://steamcommunity.com/profiles/76561198027...\n",
       "6936   76561198027488037  http://steamcommunity.com/profiles/76561198027...\n",
       "7364   76561198051777058  http://steamcommunity.com/profiles/76561198051...\n",
       "12678  76561198045953692  http://steamcommunity.com/profiles/76561198045...\n",
       "15693  76561198027488037  http://steamcommunity.com/profiles/76561198027...\n",
       "16451  76561198051777058  http://steamcommunity.com/profiles/76561198051..."
      ]
     },
     "execution_count": 60,
     "metadata": {},
     "output_type": "execute_result"
    }
   ],
   "source": [
    "# Filtrar las columnas a mantener\n",
    "columnas_a_mantener = ['user_id','user_url']\n",
    "df_user_reviews_no_reviews = df_user_reviews[columnas_a_mantener]\n",
    "\n",
    "# Identifica todos los user_id duplicados y cuenta sus ocurrencias\n",
    "duplicados = df_user_reviews_no_reviews['user_id'].value_counts()\n",
    "\n",
    "# Captura en una lista tres user_id con ocurrencias repetidas .\n",
    "user_id_repetidos = duplicados[duplicados > 1].head(3).index.tolist()\n",
    "print('Los 3 primeros ides repetidos son:',user_id_repetidos)\n",
    "\n",
    "# Filtra y muestra las filas correspondientes a estos user_id\n",
    "filas_repetidas = df_user_reviews_no_reviews[df_user_reviews_no_reviews['user_id'].isin(user_id_repetidos)]\n",
    "filas_repetidas"
   ]
  },
  {
   "cell_type": "markdown",
   "metadata": {},
   "source": [
    "### Tratamiento del Campo 'reviews'"
   ]
  },
  {
   "cell_type": "markdown",
   "metadata": {},
   "source": [
    "Antes de eliminar ides repetidos checkamos si algo extraño en el campo 'reviews' de esos 3 ides repetidos  \n",
    "Para esto usamos 'df_user_reviews'"
   ]
  },
  {
   "cell_type": "code",
   "execution_count": null,
   "metadata": {},
   "outputs": [
    {
     "name": "stdout",
     "output_type": "stream",
     "text": [
      "                 user_id                                           user_url   \n",
      "6935   76561198027488037  http://steamcommunity.com/profiles/76561198027...  \\\n",
      "6936   76561198027488037  http://steamcommunity.com/profiles/76561198027...   \n",
      "15693  76561198027488037  http://steamcommunity.com/profiles/76561198027...   \n",
      "\n",
      "                                                 reviews  \n",
      "6935   [{'funny': '', 'posted': 'Posted May 12.', 'la...  \n",
      "6936   [{'funny': '', 'posted': 'Posted May 12.', 'la...  \n",
      "15693  [{'funny': '', 'posted': 'Posted May 12.', 'la...  \n",
      "                 user_id                                           user_url   \n",
      "1103   76561198045953692  http://steamcommunity.com/profiles/76561198045...  \\\n",
      "5098   76561198045953692  http://steamcommunity.com/profiles/76561198045...   \n",
      "12678  76561198045953692  http://steamcommunity.com/profiles/76561198045...   \n",
      "\n",
      "                                                 reviews  \n",
      "1103   [{'funny': '', 'posted': 'Posted July 23, 2014...  \n",
      "5098   [{'funny': '', 'posted': 'Posted July 23, 2014...  \n",
      "12678  [{'funny': '', 'posted': 'Posted July 23, 2014...  \n",
      "                 user_id                                           user_url   \n",
      "2197   76561198051777058  http://steamcommunity.com/profiles/76561198051...  \\\n",
      "7364   76561198051777058  http://steamcommunity.com/profiles/76561198051...   \n",
      "16451  76561198051777058  http://steamcommunity.com/profiles/76561198051...   \n",
      "\n",
      "                                                 reviews  \n",
      "2197   [{'funny': '', 'posted': 'Posted July 1, 2014....  \n",
      "7364   [{'funny': '', 'posted': 'Posted July 1, 2014....  \n",
      "16451  [{'funny': '', 'posted': 'Posted July 1, 2014....  \n"
     ]
    }
   ],
   "source": [
    "for id_repetido in user_id_repetidos:\n",
    "    filas_repetida = df_user_reviews[df_user_reviews['user_id'] == id_repetido]\n",
    "    print(filas_repetida)"
   ]
  },
  {
   "cell_type": "markdown",
   "metadata": {},
   "source": [
    "Vemos que efectivamente existen registros repetidos en 'df_user_reviews', pero en cuanto al campo 'reviews', solo checkando 3 registros no es posible sacar conclusiones.  \n",
    "Intentamos eliminar datos faltantes en 'reviews'"
   ]
  },
  {
   "cell_type": "code",
   "execution_count": null,
   "metadata": {},
   "outputs": [
    {
     "name": "stdout",
     "output_type": "stream",
     "text": [
      "Numero de filas y campos antes de la eliminacion:  (25799, 3)\n",
      "Numero de filas y campos despues de la eliminacion:  (25771, 3)\n"
     ]
    }
   ],
   "source": [
    "print('Numero de filas y campos antes de la eliminacion: ',df_user_reviews.shape)\n",
    "df_user_reviews = df_user_reviews[df_user_reviews['reviews'].apply(lambda x: len(x) > 0)]\n",
    "print('Numero de filas y campos despues de la eliminacion: ',df_user_reviews.shape)"
   ]
  },
  {
   "cell_type": "markdown",
   "metadata": {},
   "source": [
    "### Tratamiento del Campo 'user_id'"
   ]
  },
  {
   "cell_type": "markdown",
   "metadata": {},
   "source": [
    "Ahora tratamos las filas con ides repetidos. Como estos deben ser unicos, dejamos solo un ejemplar y eliminamos el resto"
   ]
  },
  {
   "cell_type": "code",
   "execution_count": null,
   "metadata": {},
   "outputs": [
    {
     "name": "stdout",
     "output_type": "stream",
     "text": [
      "Numero de filas y campos antes de la eliminacion:  (25771, 3)\n",
      "Numero de filas y campos despues de la eliminacion:  (25458, 3)\n"
     ]
    }
   ],
   "source": [
    "print('Numero de filas y campos antes de la eliminacion: ',df_user_reviews.shape)\n",
    "df_user_reviews = df_user_reviews.drop_duplicates(subset='user_id', keep='first')\n",
    "print('Numero de filas y campos despues de la eliminacion: ',df_user_reviews.shape)"
   ]
  },
  {
   "cell_type": "markdown",
   "metadata": {},
   "source": [
    "Verificaciones finales:\n",
    "* Contando las veces que se repiten los valores de 'user_id'\n",
    "* Contando los valores únicos en 'user_id'"
   ]
  },
  {
   "cell_type": "code",
   "execution_count": null,
   "metadata": {},
   "outputs": [
    {
     "name": "stdout",
     "output_type": "stream",
     "text": [
      "Conteo de valores únicos en 'user_id':  25458\n",
      "\n",
      "\n",
      "Conteo de valores repetidos en 'user_id':\n",
      "user_id\n",
      "76561197970982479    1\n",
      "76561198060398831    1\n",
      "76561198049868108    1\n",
      "Woodyjoseph          1\n",
      "CurseDFlaPPy         1\n",
      "                    ..\n",
      "Teoh1189             1\n",
      "Fuzz_Melon           1\n",
      "macintosh1122        1\n",
      "76561198086687010    1\n",
      "LydiaMorley          1\n",
      "Name: count, Length: 25458, dtype: int64\n"
     ]
    }
   ],
   "source": [
    "ides_unicos = df_user_reviews['user_id'].unique() \n",
    "print(\"Conteo de valores únicos en 'user_id': \", len(ides_unicos))\n",
    "print('\\n')\n",
    "\n",
    "repeticiones = df_user_reviews['user_id'].value_counts()\n",
    "print(\"Conteo de valores repetidos en 'user_id':\")\n",
    "print(repeticiones)"
   ]
  },
  {
   "cell_type": "markdown",
   "metadata": {},
   "source": [
    "## Desanidando el campo 'reviews'"
   ]
  },
  {
   "cell_type": "code",
   "execution_count": null,
   "metadata": {},
   "outputs": [
    {
     "name": "stdout",
     "output_type": "stream",
     "text": [
      "columnas en df_user_reviews:  [user_id, user_url, reviews]\n"
     ]
    }
   ],
   "source": [
    "print('columnas en df_user_reviews: ','[' + ', '.join(df_user_reviews.keys()) + ']')"
   ]
  },
  {
   "cell_type": "code",
   "execution_count": null,
   "metadata": {},
   "outputs": [
    {
     "name": "stdout",
     "output_type": "stream",
     "text": [
      "Numero de filas y campos antes del desanidado: "
     ]
    },
    {
     "name": "stdout",
     "output_type": "stream",
     "text": [
      " (25458, 3)\n",
      "columnas antes del desanidado:  [user_id, user_url, reviews]\n",
      "Datos faltantes antes del desanidado:\n",
      "user_id     0\n",
      "user_url    0\n",
      "reviews     0\n",
      "dtype: int64\n",
      "\n",
      "\n",
      "Numero de filas y campos despues del desanidado:  (58431, 9)\n",
      "columnas despues del desanidado:  [user_id, user_url, funny, posted, last_edited, item_id, helpful, recommend, review]\n",
      "Datos faltantes despues del desanidado:\n",
      "user_id        0\n",
      "user_url       0\n",
      "funny          0\n",
      "posted         0\n",
      "last_edited    0\n",
      "item_id        0\n",
      "helpful        0\n",
      "recommend      0\n",
      "review         0\n",
      "dtype: int64\n"
     ]
    }
   ],
   "source": [
    "print('Numero de filas y campos antes del desanidado: ',df_user_reviews.shape)\n",
    "print('columnas antes del desanidado: ','[' + ', '.join(df_user_reviews.keys()) + ']')\n",
    "print('Datos faltantes antes del desanidado:')\n",
    "print(df_user_reviews.isnull().sum())\n",
    "data_desanidada = []\n",
    "\n",
    "for index, row in df_user_reviews.iterrows():\n",
    "    user_id = row['user_id']\n",
    "    user_url = row['user_url']\n",
    "    reviews_list = row['reviews']\n",
    "\n",
    "    for item in reviews_list:\n",
    "        new_row = {\n",
    "            'user_id': user_id,\n",
    "            'user_url': user_url,            \n",
    "            'funny': item.get('funny', ''),\n",
    "            'posted': item.get('posted', ''),\n",
    "            'last_edited': item.get('last_edited', ''),\n",
    "            'item_id': item.get('item_id', ''),\n",
    "            'helpful': item.get('helpful', ''),\n",
    "            'recommend': item.get('recommend', ''),\n",
    "            'review': item.get('review', '')\n",
    "        }\n",
    "\n",
    "        data_desanidada.append(new_row)\n",
    "\n",
    "df_user_reviews = pd.DataFrame(data_desanidada)\n",
    "\n",
    "print('\\n')\n",
    "print('Numero de filas y campos despues del desanidado: ',df_user_reviews.shape)\n",
    "print('columnas despues del desanidado: ','[' + ', '.join(df_user_reviews.keys()) + ']')\n",
    "print('Datos faltantes despues del desanidado:')\n",
    "print(df_user_reviews.isnull().sum())\n"
   ]
  },
  {
   "cell_type": "markdown",
   "metadata": {},
   "source": [
    "## Tratamiento del campo 'item_id'"
   ]
  },
  {
   "cell_type": "markdown",
   "metadata": {},
   "source": [
    "El campo 'item_id' es el campo mas importante del dataset despues del campo 'user_id'.  \n",
    "Cada usuario debe haber reseñado sus items una sola vez, por lo que nos aseguramos que para cada 'user_id' no haya valores repetidos del campo 'item_id'."
   ]
  },
  {
   "cell_type": "markdown",
   "metadata": {},
   "source": [
    "### Exploramos 'item_id'"
   ]
  },
  {
   "cell_type": "code",
   "execution_count": null,
   "metadata": {},
   "outputs": [
    {
     "name": "stdout",
     "output_type": "stream",
     "text": [
      "columnas en df_user_reviews:  [user_id, user_url, funny, posted, last_edited, item_id, helpful, recommend, review]\n"
     ]
    }
   ],
   "source": [
    "print('columnas en df_user_reviews: ','[' + ', '.join(df_user_reviews.keys()) + ']')"
   ]
  },
  {
   "cell_type": "code",
   "execution_count": null,
   "metadata": {},
   "outputs": [
    {
     "name": "stdout",
     "output_type": "stream",
     "text": [
      "(58431, 9)\n",
      "Tipo de dato en 'item_id': object\n"
     ]
    },
    {
     "data": {
      "text/html": [
       "<div>\n",
       "<style scoped>\n",
       "    .dataframe tbody tr th:only-of-type {\n",
       "        vertical-align: middle;\n",
       "    }\n",
       "\n",
       "    .dataframe tbody tr th {\n",
       "        vertical-align: top;\n",
       "    }\n",
       "\n",
       "    .dataframe thead th {\n",
       "        text-align: right;\n",
       "    }\n",
       "</style>\n",
       "<table border=\"1\" class=\"dataframe\">\n",
       "  <thead>\n",
       "    <tr style=\"text-align: right;\">\n",
       "      <th></th>\n",
       "      <th>user_id</th>\n",
       "      <th>user_url</th>\n",
       "      <th>funny</th>\n",
       "      <th>posted</th>\n",
       "      <th>last_edited</th>\n",
       "      <th>item_id</th>\n",
       "      <th>helpful</th>\n",
       "      <th>recommend</th>\n",
       "      <th>review</th>\n",
       "    </tr>\n",
       "  </thead>\n",
       "  <tbody>\n",
       "    <tr>\n",
       "      <th>0</th>\n",
       "      <td>76561197970982479</td>\n",
       "      <td>http://steamcommunity.com/profiles/76561197970...</td>\n",
       "      <td></td>\n",
       "      <td>Posted November 5, 2011.</td>\n",
       "      <td></td>\n",
       "      <td>1250</td>\n",
       "      <td>No ratings yet</td>\n",
       "      <td>True</td>\n",
       "      <td>Simple yet with great replayability. In my opi...</td>\n",
       "    </tr>\n",
       "    <tr>\n",
       "      <th>1</th>\n",
       "      <td>76561197970982479</td>\n",
       "      <td>http://steamcommunity.com/profiles/76561197970...</td>\n",
       "      <td></td>\n",
       "      <td>Posted July 15, 2011.</td>\n",
       "      <td></td>\n",
       "      <td>22200</td>\n",
       "      <td>No ratings yet</td>\n",
       "      <td>True</td>\n",
       "      <td>It's unique and worth a playthrough.</td>\n",
       "    </tr>\n",
       "    <tr>\n",
       "      <th>2</th>\n",
       "      <td>76561197970982479</td>\n",
       "      <td>http://steamcommunity.com/profiles/76561197970...</td>\n",
       "      <td></td>\n",
       "      <td>Posted April 21, 2011.</td>\n",
       "      <td></td>\n",
       "      <td>43110</td>\n",
       "      <td>No ratings yet</td>\n",
       "      <td>True</td>\n",
       "      <td>Great atmosphere. The gunplay can be a bit chu...</td>\n",
       "    </tr>\n",
       "  </tbody>\n",
       "</table>\n",
       "</div>"
      ],
      "text/plain": [
       "             user_id                                           user_url funny   \n",
       "0  76561197970982479  http://steamcommunity.com/profiles/76561197970...        \\\n",
       "1  76561197970982479  http://steamcommunity.com/profiles/76561197970...         \n",
       "2  76561197970982479  http://steamcommunity.com/profiles/76561197970...         \n",
       "\n",
       "                     posted last_edited item_id         helpful  recommend   \n",
       "0  Posted November 5, 2011.                1250  No ratings yet       True  \\\n",
       "1     Posted July 15, 2011.               22200  No ratings yet       True   \n",
       "2    Posted April 21, 2011.               43110  No ratings yet       True   \n",
       "\n",
       "                                              review  \n",
       "0  Simple yet with great replayability. In my opi...  \n",
       "1               It's unique and worth a playthrough.  \n",
       "2  Great atmosphere. The gunplay can be a bit chu...  "
      ]
     },
     "execution_count": 68,
     "metadata": {},
     "output_type": "execute_result"
    }
   ],
   "source": [
    "print(df_user_reviews.shape)\n",
    "print(\"Tipo de dato en 'item_id':\",df_user_reviews['item_id'].dtype)\n",
    "df_user_reviews.head(3)"
   ]
  },
  {
   "cell_type": "markdown",
   "metadata": {},
   "source": [
    "Todos los valores en la columna 'item_id' deben ser digitos, es decir con formato tipo `r'^\\d+$'`  \n",
    "Verificamos si hay valores que no cumplan tal formato"
   ]
  },
  {
   "cell_type": "code",
   "execution_count": null,
   "metadata": {},
   "outputs": [
    {
     "name": "stdout",
     "output_type": "stream",
     "text": [
      "Valores en 'item_id' sin el formato 'r'^\\d+$':  0\n"
     ]
    }
   ],
   "source": [
    "# Busca valores en 'item_id' que no sigan el formato deseado\n",
    "valores_no_validos = df_user_reviews[~df_user_reviews['item_id'].astype(str).str.contains(r'^\\d+$')]\n",
    "\n",
    "print(\"Valores en 'item_id' sin el formato 'r'^\\d+$': \", len(valores_no_validos['item_id'])) #muestra la cantidad de valores sin el formato"
   ]
  },
  {
   "cell_type": "markdown",
   "metadata": {},
   "source": [
    "Checkamos si hay valores repetidos en 'item_id'. Para eso capturamos tres ides repetidos en 'user_id'"
   ]
  },
  {
   "cell_type": "code",
   "execution_count": null,
   "metadata": {},
   "outputs": [
    {
     "name": "stdout",
     "output_type": "stream",
     "text": [
      "                 user_id item_id\n",
      "17466  76561198108415635  238910\n",
      "17467  76561198108415635    6900\n",
      "17468  76561198108415635  284770\n",
      "17469  76561198108415635  221380\n",
      "17470  76561198108415635  265930\n",
      "17471  76561198108415635  307230\n",
      "17472  76561198108415635   17390\n",
      "17473  76561198108415635  301910\n",
      "17474  76561198108415635  105600\n",
      "17475  76561198108415635    9480\n",
      "      user_id item_id\n",
      "15623  NanoPi     280\n",
      "15624  NanoPi  261570\n",
      "15625  NanoPi     550\n",
      "15626  NanoPi  248310\n",
      "15627  NanoPi  268750\n",
      "15628  NanoPi  259080\n",
      "15629  NanoPi  237930\n",
      "15630  NanoPi  236090\n",
      "15631  NanoPi  225260\n",
      "15632  NanoPi   29180\n",
      "        user_id item_id\n",
      "12111  banksyyo  275850\n",
      "12112  banksyyo  374320\n",
      "12113  banksyyo  333950\n",
      "12114  banksyyo  218620\n",
      "12115  banksyyo  438680\n",
      "12116  banksyyo   17390\n",
      "12117  banksyyo  233130\n",
      "12118  banksyyo  417860\n",
      "12119  banksyyo  105800\n",
      "12120  banksyyo   12140\n"
     ]
    }
   ],
   "source": [
    "# Filtrar las columnas a mantener\n",
    "columnas_a_mantener = ['user_id','item_id']\n",
    "df_user_reviews_no_full = df_user_reviews[columnas_a_mantener]# Identifica todos los user_id duplicados y cuenta sus ocurrencias\n",
    "duplicados = df_user_reviews_no_full['user_id'].value_counts()\n",
    "\n",
    "# Captura en una lista tres user_id con ocurrencias repetidas .\n",
    "user_id_repetidos = duplicados[duplicados > 1].head(3).index.tolist()\n",
    "\n",
    "# Filtra y muestra las filas correspondientes a estos user_id\n",
    "filas_repetidas = df_user_reviews_no_full[df_user_reviews_no_full['user_id'].isin(user_id_repetidos)]\n",
    "\n",
    "for id_repetido in user_id_repetidos:\n",
    "    filas_repetida = df_user_reviews_no_full[df_user_reviews['user_id'] == id_repetido]\n",
    "    print(filas_repetida)"
   ]
  },
  {
   "cell_type": "markdown",
   "metadata": {},
   "source": [
    "A simple vista no se ven valores repetidos en 'item_id'. Nos aseguramos  \n",
    "Verificamos si existen 'item_id' repetidos en las filas que tienen el mismo 'user_id'"
   ]
  },
  {
   "cell_type": "code",
   "execution_count": null,
   "metadata": {},
   "outputs": [
    {
     "name": "stdout",
     "output_type": "stream",
     "text": [
      "Cantidad de \"item_id\" repetidos por cada usuario:  0\n"
     ]
    }
   ],
   "source": [
    "duplicados = df_user_reviews[df_user_reviews.duplicated(subset=['user_id', 'item_id'], keep=False)]\n",
    "print('Cantidad de \"item_id\" repetidos por cada usuario: ',len(duplicados))"
   ]
  },
  {
   "cell_type": "markdown",
   "metadata": {},
   "source": [
    "## Tratamiento del campo 'posted'"
   ]
  },
  {
   "cell_type": "markdown",
   "metadata": {},
   "source": [
    "### Exploramos 'posted'"
   ]
  },
  {
   "cell_type": "code",
   "execution_count": null,
   "metadata": {},
   "outputs": [
    {
     "name": "stdout",
     "output_type": "stream",
     "text": [
      "columnas en df_user_reviews:  [user_id, user_url, funny, posted, last_edited, item_id, helpful, recommend, review]\n"
     ]
    }
   ],
   "source": [
    "print('columnas en df_user_reviews: ','[' + ', '.join(df_user_reviews.keys()) + ']')"
   ]
  },
  {
   "cell_type": "code",
   "execution_count": null,
   "metadata": {},
   "outputs": [
    {
     "name": "stdout",
     "output_type": "stream",
     "text": [
      "(58431, 9)\n",
      "user_id        object\n",
      "user_url       object\n",
      "funny          object\n",
      "posted         object\n",
      "last_edited    object\n",
      "item_id        object\n",
      "helpful        object\n",
      "recommend        bool\n",
      "review         object\n",
      "dtype: object\n"
     ]
    },
    {
     "data": {
      "text/html": [
       "<div>\n",
       "<style scoped>\n",
       "    .dataframe tbody tr th:only-of-type {\n",
       "        vertical-align: middle;\n",
       "    }\n",
       "\n",
       "    .dataframe tbody tr th {\n",
       "        vertical-align: top;\n",
       "    }\n",
       "\n",
       "    .dataframe thead th {\n",
       "        text-align: right;\n",
       "    }\n",
       "</style>\n",
       "<table border=\"1\" class=\"dataframe\">\n",
       "  <thead>\n",
       "    <tr style=\"text-align: right;\">\n",
       "      <th></th>\n",
       "      <th>user_id</th>\n",
       "      <th>user_url</th>\n",
       "      <th>funny</th>\n",
       "      <th>posted</th>\n",
       "      <th>last_edited</th>\n",
       "      <th>item_id</th>\n",
       "      <th>helpful</th>\n",
       "      <th>recommend</th>\n",
       "      <th>review</th>\n",
       "    </tr>\n",
       "  </thead>\n",
       "  <tbody>\n",
       "    <tr>\n",
       "      <th>0</th>\n",
       "      <td>76561197970982479</td>\n",
       "      <td>http://steamcommunity.com/profiles/76561197970...</td>\n",
       "      <td></td>\n",
       "      <td>Posted November 5, 2011.</td>\n",
       "      <td></td>\n",
       "      <td>1250</td>\n",
       "      <td>No ratings yet</td>\n",
       "      <td>True</td>\n",
       "      <td>Simple yet with great replayability. In my opi...</td>\n",
       "    </tr>\n",
       "    <tr>\n",
       "      <th>1</th>\n",
       "      <td>76561197970982479</td>\n",
       "      <td>http://steamcommunity.com/profiles/76561197970...</td>\n",
       "      <td></td>\n",
       "      <td>Posted July 15, 2011.</td>\n",
       "      <td></td>\n",
       "      <td>22200</td>\n",
       "      <td>No ratings yet</td>\n",
       "      <td>True</td>\n",
       "      <td>It's unique and worth a playthrough.</td>\n",
       "    </tr>\n",
       "    <tr>\n",
       "      <th>2</th>\n",
       "      <td>76561197970982479</td>\n",
       "      <td>http://steamcommunity.com/profiles/76561197970...</td>\n",
       "      <td></td>\n",
       "      <td>Posted April 21, 2011.</td>\n",
       "      <td></td>\n",
       "      <td>43110</td>\n",
       "      <td>No ratings yet</td>\n",
       "      <td>True</td>\n",
       "      <td>Great atmosphere. The gunplay can be a bit chu...</td>\n",
       "    </tr>\n",
       "  </tbody>\n",
       "</table>\n",
       "</div>"
      ],
      "text/plain": [
       "             user_id                                           user_url funny   \n",
       "0  76561197970982479  http://steamcommunity.com/profiles/76561197970...        \\\n",
       "1  76561197970982479  http://steamcommunity.com/profiles/76561197970...         \n",
       "2  76561197970982479  http://steamcommunity.com/profiles/76561197970...         \n",
       "\n",
       "                     posted last_edited item_id         helpful  recommend   \n",
       "0  Posted November 5, 2011.                1250  No ratings yet       True  \\\n",
       "1     Posted July 15, 2011.               22200  No ratings yet       True   \n",
       "2    Posted April 21, 2011.               43110  No ratings yet       True   \n",
       "\n",
       "                                              review  \n",
       "0  Simple yet with great replayability. In my opi...  \n",
       "1               It's unique and worth a playthrough.  \n",
       "2  Great atmosphere. The gunplay can be a bit chu...  "
      ]
     },
     "execution_count": 73,
     "metadata": {},
     "output_type": "execute_result"
    }
   ],
   "source": [
    "print(df_user_reviews.shape)\n",
    "print(df_user_reviews.dtypes)\n",
    "df_user_reviews.head(3)"
   ]
  },
  {
   "cell_type": "markdown",
   "metadata": {},
   "source": [
    "Listamos varias ocurrencias de 'posted'"
   ]
  },
  {
   "cell_type": "code",
   "execution_count": null,
   "metadata": {},
   "outputs": [
    {
     "name": "stdout",
     "output_type": "stream",
     "text": [
      "[['Posted November 5, 2011.' 'Posted July 15, 2011.']\n",
      " ['Posted April 21, 2011.' 'Posted June 24, 2014.']\n",
      " ['Posted September 8, 2013.' 'Posted November 29, 2013.']\n",
      " ['Posted February 3.' 'Posted December 4, 2015.']\n",
      " ['Posted November 3, 2014.' 'Posted October 15, 2014.']\n",
      " ['Posted October 15, 2014.' 'Posted October 15, 2014.']\n",
      " ['Posted October 14, 2013.' 'Posted July 28, 2012.']\n",
      " ['Posted June 2, 2012.' 'Posted June 29, 2014.']\n",
      " ['Posted November 22, 2012.' 'Posted February 23, 2012.']\n",
      " ['Posted April 15, 2014.' 'Posted December 23, 2013.']]\n"
     ]
    }
   ],
   "source": [
    "posted_muestra = df_user_reviews['posted'].head(20)\n",
    "matriz = np.array(posted_muestra).reshape(10, 2) # Convierte la serie 'posted_muestra' en un arreglo 15x7\n",
    "print(matriz)"
   ]
  },
  {
   "cell_type": "markdown",
   "metadata": {},
   "source": [
    "Vemos que los valores de 'posted' no estan en el formato correcto 'YYYY-MM-DD' "
   ]
  },
  {
   "cell_type": "markdown",
   "metadata": {},
   "source": [
    "### Transformamos los valores de 'posted'a formato 'YYYY-MM-DD'"
   ]
  },
  {
   "cell_type": "markdown",
   "metadata": {},
   "source": [
    "Checkamos si hay elementos en 'posted' que no empiezan con 'Posted'"
   ]
  },
  {
   "cell_type": "code",
   "execution_count": null,
   "metadata": {},
   "outputs": [
    {
     "name": "stdout",
     "output_type": "stream",
     "text": [
      "Elementos encontrados:  0\n",
      "Series([], Name: posted, dtype: object)\n"
     ]
    }
   ],
   "source": [
    "elementos_no_posted = df_user_reviews[~df_user_reviews['posted'].str.startswith('Posted ')]['posted']\n",
    "\n",
    "print('Elementos encontrados: ',len(elementos_no_posted))\n",
    "print(elementos_no_posted)"
   ]
  },
  {
   "cell_type": "markdown",
   "metadata": {},
   "source": [
    "Removemos la palabra Posted, la coma y el punto al final"
   ]
  },
  {
   "cell_type": "code",
   "execution_count": null,
   "metadata": {},
   "outputs": [],
   "source": [
    "df_user_reviews['posted'] = df_user_reviews['posted'].str.replace('Posted ', '').str.replace(',', '').str.rstrip('.')"
   ]
  },
  {
   "cell_type": "markdown",
   "metadata": {},
   "source": [
    "Listamos varias ocurrencias de 'posted'"
   ]
  },
  {
   "cell_type": "code",
   "execution_count": null,
   "metadata": {},
   "outputs": [
    {
     "name": "stdout",
     "output_type": "stream",
     "text": [
      "[['November 5 2011' 'July 15 2011' 'April 21 2011']\n",
      " ['June 24 2014' 'September 8 2013' 'November 29 2013']\n",
      " ['February 3' 'December 4 2015' 'November 3 2014']\n",
      " ['October 15 2014' 'October 15 2014' 'October 15 2014']\n",
      " ['October 14 2013' 'July 28 2012' 'June 2 2012']\n",
      " ['June 29 2014' 'November 22 2012' 'February 23 2012']\n",
      " ['April 15 2014' 'December 23 2013' 'March 14 2014']\n",
      " ['July 11 2013' 'May 5 2014' 'December 24 2012']]\n"
     ]
    }
   ],
   "source": [
    "posted_muestra = df_user_reviews['posted'].head(24)\n",
    "matriz = np.array(posted_muestra).reshape(8, 3) # Convierte la serie 'posted_muestra' en un arreglo 8x3\n",
    "print(matriz)"
   ]
  },
  {
   "cell_type": "markdown",
   "metadata": {},
   "source": [
    "Vemos que en la tercera fila el valor 'February 3' no cumple la apariencia `'<mes> <dia>, <año>'`. Cuantificamos valores similares "
   ]
  },
  {
   "cell_type": "code",
   "execution_count": null,
   "metadata": {},
   "outputs": [
    {
     "name": "stdout",
     "output_type": "stream",
     "text": [
      "De los 58431 elementos de 'posted', 48498 cumplen el formato '<mes> <dia> <año>' y 9933 no lo cumplen\n"
     ]
    }
   ],
   "source": [
    "total = df_user_reviews.shape[0]\n",
    "cumple_formato = df_user_reviews[df_user_reviews['posted'].str.contains(r'[A-Z][a-z]+ \\d{1,2} \\d{4}')]\n",
    "no_cumple_formato = df_user_reviews[~df_user_reviews['posted'].str.contains(r'[A-Z][a-z]+ \\d{1,2} \\d{4}')]\n",
    "\n",
    "print(f\"De los {total} elementos de 'posted', {len(cumple_formato['posted'])} cumplen el formato '<mes> <dia> <año>' y {len(no_cumple_formato['posted'])} no lo cumplen\")"
   ]
  },
  {
   "cell_type": "markdown",
   "metadata": {},
   "source": [
    "Eliminamos valores en 'posted' que no cumplen el formato `'<mes> <dia> <año>'`"
   ]
  },
  {
   "cell_type": "code",
   "execution_count": null,
   "metadata": {},
   "outputs": [
    {
     "name": "stdout",
     "output_type": "stream",
     "text": [
      "Numero de filas y campos antes de eliminar:  (58431, 9)\n",
      "Numero de filas y campos despues de eliminar:  (48498, 9)\n"
     ]
    }
   ],
   "source": [
    "print('Numero de filas y campos antes de eliminar: ',df_user_reviews.shape)\n",
    "df_user_reviews = df_user_reviews[df_user_reviews['posted'].str.contains(r'[A-Z][a-z]+ \\d{1,2} \\d{4}')]\n",
    "print('Numero de filas y campos despues de eliminar: ',df_user_reviews.shape)\n"
   ]
  },
  {
   "cell_type": "markdown",
   "metadata": {},
   "source": [
    "Cambiamos el formato tipo `'<mes> <dia> <año>'` a 'YYYY-MM-DD'  \n",
    "Ojo que se sigue mostrando 'posted' como tipo object"
   ]
  },
  {
   "cell_type": "code",
   "execution_count": null,
   "metadata": {},
   "outputs": [
    {
     "name": "stdout",
     "output_type": "stream",
     "text": [
      "object\n"
     ]
    }
   ],
   "source": [
    "df_user_reviews['posted'] = pd.to_datetime(df_user_reviews['posted'], format='%B %d %Y').dt.strftime('%Y-%m-%d')\n",
    "print(df_user_reviews['posted'].dtype)"
   ]
  },
  {
   "cell_type": "markdown",
   "metadata": {},
   "source": [
    "Pintamos una muestra aleatoria de 'posted'"
   ]
  },
  {
   "cell_type": "code",
   "execution_count": null,
   "metadata": {},
   "outputs": [
    {
     "name": "stdout",
     "output_type": "stream",
     "text": [
      "[['2013-11-28' '2015-04-05' '2014-05-14' '2014-01-17' '2010-12-18']\n",
      " ['2014-01-03' '2012-12-16' '2015-04-05' '2015-10-30' '2014-03-15']\n",
      " ['2015-07-23' '2015-10-08' '2015-06-20' '2012-07-13' '2015-01-24']\n",
      " ['2012-09-05' '2015-03-20' '2014-11-23' '2014-03-15' '2015-08-21']\n",
      " ['2014-12-11' '2014-07-19' '2014-05-27' '2015-01-12' '2014-01-09']\n",
      " ['2014-04-17' '2015-04-08' '2015-07-19' '2013-12-19' '2015-10-26']\n",
      " ['2013-12-08' '2015-07-10' '2014-08-29' '2014-06-25' '2014-05-20']\n",
      " ['2014-02-08' '2014-01-22' '2013-12-01' '2015-06-07' '2014-06-04']\n",
      " ['2015-10-06' '2014-03-18' '2015-11-01' '2014-09-24' '2015-04-02']\n",
      " ['2015-12-05' '2014-01-12' '2015-05-03' '2015-01-18' '2013-05-25']]\n"
     ]
    }
   ],
   "source": [
    "muestra = df_user_reviews.sample(n=100, random_state= 50)['posted'].head(50) \n",
    "matriz = np.array(muestra).reshape(10, 5) # Convierte la serie 'posted_muestra' en un arreglo 15x7\n",
    "print(matriz)"
   ]
  },
  {
   "cell_type": "markdown",
   "metadata": {},
   "source": [
    "## Tratamiento del campo 'recommend'"
   ]
  },
  {
   "cell_type": "markdown",
   "metadata": {},
   "source": [
    "### Exploramos 'recommend'"
   ]
  },
  {
   "cell_type": "code",
   "execution_count": null,
   "metadata": {},
   "outputs": [
    {
     "name": "stdout",
     "output_type": "stream",
     "text": [
      "columnas en df_user_reviews:  [user_id, user_url, funny, posted, last_edited, item_id, helpful, recommend, review]\n"
     ]
    }
   ],
   "source": [
    "print('columnas en df_user_reviews: ','[' + ', '.join(df_user_reviews.keys()) + ']')\n"
   ]
  },
  {
   "cell_type": "code",
   "execution_count": null,
   "metadata": {},
   "outputs": [
    {
     "name": "stdout",
     "output_type": "stream",
     "text": [
      "(48498, 9)\n",
      "Tipo de dato en 'recommend': bool\n"
     ]
    },
    {
     "data": {
      "text/html": [
       "<div>\n",
       "<style scoped>\n",
       "    .dataframe tbody tr th:only-of-type {\n",
       "        vertical-align: middle;\n",
       "    }\n",
       "\n",
       "    .dataframe tbody tr th {\n",
       "        vertical-align: top;\n",
       "    }\n",
       "\n",
       "    .dataframe thead th {\n",
       "        text-align: right;\n",
       "    }\n",
       "</style>\n",
       "<table border=\"1\" class=\"dataframe\">\n",
       "  <thead>\n",
       "    <tr style=\"text-align: right;\">\n",
       "      <th></th>\n",
       "      <th>user_id</th>\n",
       "      <th>user_url</th>\n",
       "      <th>funny</th>\n",
       "      <th>posted</th>\n",
       "      <th>last_edited</th>\n",
       "      <th>item_id</th>\n",
       "      <th>helpful</th>\n",
       "      <th>recommend</th>\n",
       "      <th>review</th>\n",
       "    </tr>\n",
       "  </thead>\n",
       "  <tbody>\n",
       "    <tr>\n",
       "      <th>0</th>\n",
       "      <td>76561197970982479</td>\n",
       "      <td>http://steamcommunity.com/profiles/76561197970...</td>\n",
       "      <td></td>\n",
       "      <td>2011-11-05</td>\n",
       "      <td></td>\n",
       "      <td>1250</td>\n",
       "      <td>No ratings yet</td>\n",
       "      <td>True</td>\n",
       "      <td>Simple yet with great replayability. In my opi...</td>\n",
       "    </tr>\n",
       "    <tr>\n",
       "      <th>1</th>\n",
       "      <td>76561197970982479</td>\n",
       "      <td>http://steamcommunity.com/profiles/76561197970...</td>\n",
       "      <td></td>\n",
       "      <td>2011-07-15</td>\n",
       "      <td></td>\n",
       "      <td>22200</td>\n",
       "      <td>No ratings yet</td>\n",
       "      <td>True</td>\n",
       "      <td>It's unique and worth a playthrough.</td>\n",
       "    </tr>\n",
       "    <tr>\n",
       "      <th>2</th>\n",
       "      <td>76561197970982479</td>\n",
       "      <td>http://steamcommunity.com/profiles/76561197970...</td>\n",
       "      <td></td>\n",
       "      <td>2011-04-21</td>\n",
       "      <td></td>\n",
       "      <td>43110</td>\n",
       "      <td>No ratings yet</td>\n",
       "      <td>True</td>\n",
       "      <td>Great atmosphere. The gunplay can be a bit chu...</td>\n",
       "    </tr>\n",
       "  </tbody>\n",
       "</table>\n",
       "</div>"
      ],
      "text/plain": [
       "             user_id                                           user_url funny   \n",
       "0  76561197970982479  http://steamcommunity.com/profiles/76561197970...        \\\n",
       "1  76561197970982479  http://steamcommunity.com/profiles/76561197970...         \n",
       "2  76561197970982479  http://steamcommunity.com/profiles/76561197970...         \n",
       "\n",
       "       posted last_edited item_id         helpful  recommend   \n",
       "0  2011-11-05                1250  No ratings yet       True  \\\n",
       "1  2011-07-15               22200  No ratings yet       True   \n",
       "2  2011-04-21               43110  No ratings yet       True   \n",
       "\n",
       "                                              review  \n",
       "0  Simple yet with great replayability. In my opi...  \n",
       "1               It's unique and worth a playthrough.  \n",
       "2  Great atmosphere. The gunplay can be a bit chu...  "
      ]
     },
     "execution_count": 83,
     "metadata": {},
     "output_type": "execute_result"
    }
   ],
   "source": [
    "print(df_user_reviews.shape)\n",
    "print(\"Tipo de dato en 'recommend':\",df_user_reviews['recommend'].dtype)\n",
    "df_user_reviews.head(3)"
   ]
  },
  {
   "cell_type": "markdown",
   "metadata": {},
   "source": [
    "Buscamos todos los valores unicos en 'recommend'"
   ]
  },
  {
   "cell_type": "code",
   "execution_count": null,
   "metadata": {},
   "outputs": [
    {
     "name": "stdout",
     "output_type": "stream",
     "text": [
      "Número de valores únicos en 'recommend':  2\n",
      "[ True False]\n"
     ]
    }
   ],
   "source": [
    "unique_values = df_user_reviews['recommend'].unique() #muestra valores únicos en la columna 'price'\n",
    "print(\"Número de valores únicos en 'recommend': \", len(unique_values))\n",
    "print(unique_values)"
   ]
  },
  {
   "cell_type": "markdown",
   "metadata": {},
   "source": [
    "## Tratamiento del campo 'review'"
   ]
  },
  {
   "cell_type": "markdown",
   "metadata": {},
   "source": [
    "### Exploramos 'review'"
   ]
  },
  {
   "cell_type": "code",
   "execution_count": null,
   "metadata": {},
   "outputs": [
    {
     "name": "stdout",
     "output_type": "stream",
     "text": [
      "columnas en df_user_reviews:  [user_id, user_url, funny, posted, last_edited, item_id, helpful, recommend, review]\n"
     ]
    }
   ],
   "source": [
    "print('columnas en df_user_reviews: ','[' + ', '.join(df_user_reviews.keys()) + ']')\n"
   ]
  },
  {
   "cell_type": "code",
   "execution_count": null,
   "metadata": {},
   "outputs": [
    {
     "name": "stdout",
     "output_type": "stream",
     "text": [
      "(48498, 9)\n",
      "Tipo de dato en 'review': object\n"
     ]
    },
    {
     "data": {
      "text/html": [
       "<div>\n",
       "<style scoped>\n",
       "    .dataframe tbody tr th:only-of-type {\n",
       "        vertical-align: middle;\n",
       "    }\n",
       "\n",
       "    .dataframe tbody tr th {\n",
       "        vertical-align: top;\n",
       "    }\n",
       "\n",
       "    .dataframe thead th {\n",
       "        text-align: right;\n",
       "    }\n",
       "</style>\n",
       "<table border=\"1\" class=\"dataframe\">\n",
       "  <thead>\n",
       "    <tr style=\"text-align: right;\">\n",
       "      <th></th>\n",
       "      <th>user_id</th>\n",
       "      <th>user_url</th>\n",
       "      <th>funny</th>\n",
       "      <th>posted</th>\n",
       "      <th>last_edited</th>\n",
       "      <th>item_id</th>\n",
       "      <th>helpful</th>\n",
       "      <th>recommend</th>\n",
       "      <th>review</th>\n",
       "    </tr>\n",
       "  </thead>\n",
       "  <tbody>\n",
       "    <tr>\n",
       "      <th>0</th>\n",
       "      <td>76561197970982479</td>\n",
       "      <td>http://steamcommunity.com/profiles/76561197970...</td>\n",
       "      <td></td>\n",
       "      <td>2011-11-05</td>\n",
       "      <td></td>\n",
       "      <td>1250</td>\n",
       "      <td>No ratings yet</td>\n",
       "      <td>True</td>\n",
       "      <td>Simple yet with great replayability. In my opi...</td>\n",
       "    </tr>\n",
       "    <tr>\n",
       "      <th>1</th>\n",
       "      <td>76561197970982479</td>\n",
       "      <td>http://steamcommunity.com/profiles/76561197970...</td>\n",
       "      <td></td>\n",
       "      <td>2011-07-15</td>\n",
       "      <td></td>\n",
       "      <td>22200</td>\n",
       "      <td>No ratings yet</td>\n",
       "      <td>True</td>\n",
       "      <td>It's unique and worth a playthrough.</td>\n",
       "    </tr>\n",
       "    <tr>\n",
       "      <th>2</th>\n",
       "      <td>76561197970982479</td>\n",
       "      <td>http://steamcommunity.com/profiles/76561197970...</td>\n",
       "      <td></td>\n",
       "      <td>2011-04-21</td>\n",
       "      <td></td>\n",
       "      <td>43110</td>\n",
       "      <td>No ratings yet</td>\n",
       "      <td>True</td>\n",
       "      <td>Great atmosphere. The gunplay can be a bit chu...</td>\n",
       "    </tr>\n",
       "  </tbody>\n",
       "</table>\n",
       "</div>"
      ],
      "text/plain": [
       "             user_id                                           user_url funny   \n",
       "0  76561197970982479  http://steamcommunity.com/profiles/76561197970...        \\\n",
       "1  76561197970982479  http://steamcommunity.com/profiles/76561197970...         \n",
       "2  76561197970982479  http://steamcommunity.com/profiles/76561197970...         \n",
       "\n",
       "       posted last_edited item_id         helpful  recommend   \n",
       "0  2011-11-05                1250  No ratings yet       True  \\\n",
       "1  2011-07-15               22200  No ratings yet       True   \n",
       "2  2011-04-21               43110  No ratings yet       True   \n",
       "\n",
       "                                              review  \n",
       "0  Simple yet with great replayability. In my opi...  \n",
       "1               It's unique and worth a playthrough.  \n",
       "2  Great atmosphere. The gunplay can be a bit chu...  "
      ]
     },
     "execution_count": 86,
     "metadata": {},
     "output_type": "execute_result"
    }
   ],
   "source": [
    "print(df_user_reviews.shape)\n",
    "print(\"Tipo de dato en 'review':\",df_user_reviews['review'].dtype)\n",
    "df_user_reviews.head(3)"
   ]
  },
  {
   "cell_type": "markdown",
   "metadata": {},
   "source": [
    "Checkamos si hay reseñas que no son cadenas de texto en 'review'  "
   ]
  },
  {
   "cell_type": "code",
   "execution_count": null,
   "metadata": {},
   "outputs": [
    {
     "name": "stdout",
     "output_type": "stream",
     "text": [
      "(48498, 9)\n",
      "Cantidad de reseñas invalidas: 0\n",
      "[]\n"
     ]
    }
   ],
   "source": [
    "\n",
    "# Filtra las reseñas que no son cadenas de texto y almacénalas en una lista\n",
    "reseñas_no_texto = df_user_reviews[~df_user_reviews['review'].apply(lambda x: isinstance(x, str))]['review'].tolist()\n",
    "\n",
    "print(df_user_reviews.shape)\n",
    "print('Cantidad de reseñas invalidas:',len(reseñas_no_texto))\n",
    "# Imprime la lista de reseñas que no son cadenas de texto\n",
    "print(reseñas_no_texto)\n",
    "\n",
    "#df_user_reviews_prepared.head(50)"
   ]
  },
  {
   "cell_type": "markdown",
   "metadata": {},
   "source": [
    "### Transformamos 'review' en 'sentiment_analysis'"
   ]
  },
  {
   "cell_type": "code",
   "execution_count": null,
   "metadata": {},
   "outputs": [
    {
     "name": "stdout",
     "output_type": "stream",
     "text": [
      "0        0.8481\n",
      "1        0.2263\n",
      "2        0.9117\n",
      "3        0.9566\n",
      "4        0.9708\n",
      "          ...  \n",
      "58378    0.0000\n",
      "58381    0.7650\n",
      "58391   -0.4939\n",
      "58393    0.6739\n",
      "58402    0.7089\n",
      "Name: sentiment_scores, Length: 48498, dtype: float64\n"
     ]
    }
   ],
   "source": [
    "# Crear una instancia del analizador de sentimientos\n",
    "sia = SentimentIntensityAnalyzer()\n",
    "\n",
    "# Función para realizar el análisis de sentimiento y mapear los resultados a la escala deseada\n",
    "def map_sentiment(score):\n",
    "    if score >= 0.05:\n",
    "        return 2  # Positivo\n",
    "    elif score <= -0.05:\n",
    "        return 0  # Malo\n",
    "    else:\n",
    "        return 1  # Neutral\n",
    "\n",
    "# Aplicar análisis de sentimiento y mapear los resultados a la escala\n",
    "df_user_reviews['sentiment_scores'] = df_user_reviews['review'].apply(lambda x: sia.polarity_scores(x)['compound'])\n",
    "df_user_reviews['sentiment_analysis'] = df_user_reviews['sentiment_scores'].apply(map_sentiment)\n",
    "\n",
    "# Eliminar la columna 'sentiment_scores' si no se necesita\n",
    "df_user_reviews.drop(columns=['sentiment_scores'], inplace=True)\n",
    "\n",
    "# Si no hay reseña escrita, establecer 'sentiment_analysis' en 1\n",
    "df_user_reviews['sentiment_analysis'].fillna(1, inplace=True)\n",
    "\n",
    "# Opcional: Reemplazar el campo 'review' con 'sentiment_analysis' si es necesario\n",
    "df_user_reviews.drop(columns=['review'], inplace=True)\n",
    "# df_user_reviews_prepared_prueba.rename(columns={'sentiment_analysis': 'review'}, inplace=True)"
   ]
  },
  {
   "cell_type": "markdown",
   "metadata": {},
   "source": [
    " Verificamos los cambios"
   ]
  },
  {
   "cell_type": "code",
   "execution_count": null,
   "metadata": {},
   "outputs": [
    {
     "name": "stdout",
     "output_type": "stream",
     "text": [
      "Tipo de dato en 'sentiment_analysis': int64\n",
      "Cantidad de velores faltantes en 'sentiment_analysis' 0\n"
     ]
    },
    {
     "data": {
      "text/html": [
       "<div>\n",
       "<style scoped>\n",
       "    .dataframe tbody tr th:only-of-type {\n",
       "        vertical-align: middle;\n",
       "    }\n",
       "\n",
       "    .dataframe tbody tr th {\n",
       "        vertical-align: top;\n",
       "    }\n",
       "\n",
       "    .dataframe thead th {\n",
       "        text-align: right;\n",
       "    }\n",
       "</style>\n",
       "<table border=\"1\" class=\"dataframe\">\n",
       "  <thead>\n",
       "    <tr style=\"text-align: right;\">\n",
       "      <th></th>\n",
       "      <th>user_id</th>\n",
       "      <th>user_url</th>\n",
       "      <th>funny</th>\n",
       "      <th>posted</th>\n",
       "      <th>last_edited</th>\n",
       "      <th>item_id</th>\n",
       "      <th>helpful</th>\n",
       "      <th>recommend</th>\n",
       "      <th>sentiment_analysis</th>\n",
       "    </tr>\n",
       "  </thead>\n",
       "  <tbody>\n",
       "    <tr>\n",
       "      <th>0</th>\n",
       "      <td>76561197970982479</td>\n",
       "      <td>http://steamcommunity.com/profiles/76561197970...</td>\n",
       "      <td></td>\n",
       "      <td>2011-11-05</td>\n",
       "      <td></td>\n",
       "      <td>1250</td>\n",
       "      <td>No ratings yet</td>\n",
       "      <td>True</td>\n",
       "      <td>2</td>\n",
       "    </tr>\n",
       "    <tr>\n",
       "      <th>1</th>\n",
       "      <td>76561197970982479</td>\n",
       "      <td>http://steamcommunity.com/profiles/76561197970...</td>\n",
       "      <td></td>\n",
       "      <td>2011-07-15</td>\n",
       "      <td></td>\n",
       "      <td>22200</td>\n",
       "      <td>No ratings yet</td>\n",
       "      <td>True</td>\n",
       "      <td>2</td>\n",
       "    </tr>\n",
       "    <tr>\n",
       "      <th>2</th>\n",
       "      <td>76561197970982479</td>\n",
       "      <td>http://steamcommunity.com/profiles/76561197970...</td>\n",
       "      <td></td>\n",
       "      <td>2011-04-21</td>\n",
       "      <td></td>\n",
       "      <td>43110</td>\n",
       "      <td>No ratings yet</td>\n",
       "      <td>True</td>\n",
       "      <td>2</td>\n",
       "    </tr>\n",
       "  </tbody>\n",
       "</table>\n",
       "</div>"
      ],
      "text/plain": [
       "             user_id                                           user_url funny   \n",
       "0  76561197970982479  http://steamcommunity.com/profiles/76561197970...        \\\n",
       "1  76561197970982479  http://steamcommunity.com/profiles/76561197970...         \n",
       "2  76561197970982479  http://steamcommunity.com/profiles/76561197970...         \n",
       "\n",
       "       posted last_edited item_id         helpful  recommend   \n",
       "0  2011-11-05                1250  No ratings yet       True  \\\n",
       "1  2011-07-15               22200  No ratings yet       True   \n",
       "2  2011-04-21               43110  No ratings yet       True   \n",
       "\n",
       "   sentiment_analysis  \n",
       "0                   2  \n",
       "1                   2  \n",
       "2                   2  "
      ]
     },
     "execution_count": 37,
     "metadata": {},
     "output_type": "execute_result"
    }
   ],
   "source": [
    "print(\"Tipo de dato en 'sentiment_analysis':\",df_user_reviews['sentiment_analysis'].dtype)\n",
    "print(\"Cantidad de velores faltantes en 'sentiment_analysis'\",df_user_reviews['sentiment_analysis'].isnull().sum())\n",
    "df_user_reviews.head(3)"
   ]
  },
  {
   "cell_type": "markdown",
   "metadata": {},
   "source": [
    "## Guardamos el dataset preparado"
   ]
  },
  {
   "cell_type": "code",
   "execution_count": null,
   "metadata": {},
   "outputs": [],
   "source": [
    "#df_user_reviews.to_csv('../Data/df_user_reviews_prepared.csv', index=False)"
   ]
  },
  {
   "cell_type": "markdown",
   "metadata": {},
   "source": [
    "# CREACION DE LOS ENPOINT DATASETS"
   ]
  },
  {
   "cell_type": "markdown",
   "metadata": {},
   "source": [
    "Terminada la preparacion de los datos en 'df_user_reviews' toca crear los diferentes datasets en formato parquet que van alimentar al servidor de consultas"
   ]
  },
  {
   "cell_type": "markdown",
   "metadata": {},
   "source": [
    "## Endpoint `'def userdata(user_id:str)'`"
   ]
  },
  {
   "cell_type": "markdown",
   "metadata": {},
   "source": [
    "### Transformacion"
   ]
  },
  {
   "cell_type": "markdown",
   "metadata": {},
   "source": [
    "Filtramos los campos 'id' y 'price'. Eliminamos el resto"
   ]
  },
  {
   "cell_type": "code",
   "execution_count": null,
   "metadata": {},
   "outputs": [
    {
     "name": "stdout",
     "output_type": "stream",
     "text": [
      "(48498, 2)\n"
     ]
    },
    {
     "data": {
      "text/html": [
       "<div>\n",
       "<style scoped>\n",
       "    .dataframe tbody tr th:only-of-type {\n",
       "        vertical-align: middle;\n",
       "    }\n",
       "\n",
       "    .dataframe tbody tr th {\n",
       "        vertical-align: top;\n",
       "    }\n",
       "\n",
       "    .dataframe thead th {\n",
       "        text-align: right;\n",
       "    }\n",
       "</style>\n",
       "<table border=\"1\" class=\"dataframe\">\n",
       "  <thead>\n",
       "    <tr style=\"text-align: right;\">\n",
       "      <th></th>\n",
       "      <th>user_id</th>\n",
       "      <th>recommend</th>\n",
       "    </tr>\n",
       "  </thead>\n",
       "  <tbody>\n",
       "    <tr>\n",
       "      <th>0</th>\n",
       "      <td>76561197970982479</td>\n",
       "      <td>True</td>\n",
       "    </tr>\n",
       "    <tr>\n",
       "      <th>1</th>\n",
       "      <td>76561197970982479</td>\n",
       "      <td>True</td>\n",
       "    </tr>\n",
       "    <tr>\n",
       "      <th>2</th>\n",
       "      <td>76561197970982479</td>\n",
       "      <td>True</td>\n",
       "    </tr>\n",
       "  </tbody>\n",
       "</table>\n",
       "</div>"
      ],
      "text/plain": [
       "             user_id  recommend\n",
       "0  76561197970982479       True\n",
       "1  76561197970982479       True\n",
       "2  76561197970982479       True"
      ]
     },
     "execution_count": 39,
     "metadata": {},
     "output_type": "execute_result"
    }
   ],
   "source": [
    "columnas_a_mantener = ['user_id', 'recommend']\n",
    "df_user_reviews_userdata_user_id_respuesta2 = df_user_reviews[columnas_a_mantener]\n",
    "print(df_user_reviews_userdata_user_id_respuesta2.shape)\n",
    "print(df_user_reviews_userdata_user_id_respuesta2.dtypes)\n",
    "df_user_reviews_userdata_user_id_respuesta2.head(3)"
   ]
  },
  {
   "cell_type": "markdown",
   "metadata": {},
   "source": [
    "### To Parquet"
   ]
  },
  {
   "cell_type": "code",
   "execution_count": null,
   "metadata": {},
   "outputs": [],
   "source": [
    "df_user_reviews_userdata_user_id_respuesta2.to_parquet('../Data/df_user_reviews_userdata_user_id_respuesta2.parquet', index=False)"
   ]
  },
  {
   "cell_type": "markdown",
   "metadata": {},
   "source": [
    "## Endpoint `'def best_developer_year(año : int)'`"
   ]
  },
  {
   "cell_type": "markdown",
   "metadata": {},
   "source": [
    "### Transformacion"
   ]
  },
  {
   "cell_type": "markdown",
   "metadata": {},
   "source": [
    "Filtramos los campos 'item_id', 'posted', 'recommend' y 'sentiment_analysis'. Eliminamos el resto"
   ]
  },
  {
   "cell_type": "code",
   "execution_count": null,
   "metadata": {},
   "outputs": [
    {
     "name": "stdout",
     "output_type": "stream",
     "text": [
      "(48498, 4)\n",
      "item_id               object\n",
      "posted                object\n",
      "recommend               bool\n",
      "sentiment_analysis     int64\n",
      "dtype: object\n"
     ]
    },
    {
     "data": {
      "text/html": [
       "<div>\n",
       "<style scoped>\n",
       "    .dataframe tbody tr th:only-of-type {\n",
       "        vertical-align: middle;\n",
       "    }\n",
       "\n",
       "    .dataframe tbody tr th {\n",
       "        vertical-align: top;\n",
       "    }\n",
       "\n",
       "    .dataframe thead th {\n",
       "        text-align: right;\n",
       "    }\n",
       "</style>\n",
       "<table border=\"1\" class=\"dataframe\">\n",
       "  <thead>\n",
       "    <tr style=\"text-align: right;\">\n",
       "      <th></th>\n",
       "      <th>item_id</th>\n",
       "      <th>posted</th>\n",
       "      <th>recommend</th>\n",
       "      <th>sentiment_analysis</th>\n",
       "    </tr>\n",
       "  </thead>\n",
       "  <tbody>\n",
       "    <tr>\n",
       "      <th>0</th>\n",
       "      <td>1250</td>\n",
       "      <td>2011-11-05</td>\n",
       "      <td>True</td>\n",
       "      <td>2</td>\n",
       "    </tr>\n",
       "    <tr>\n",
       "      <th>1</th>\n",
       "      <td>22200</td>\n",
       "      <td>2011-07-15</td>\n",
       "      <td>True</td>\n",
       "      <td>2</td>\n",
       "    </tr>\n",
       "    <tr>\n",
       "      <th>2</th>\n",
       "      <td>43110</td>\n",
       "      <td>2011-04-21</td>\n",
       "      <td>True</td>\n",
       "      <td>2</td>\n",
       "    </tr>\n",
       "  </tbody>\n",
       "</table>\n",
       "</div>"
      ],
      "text/plain": [
       "  item_id      posted  recommend  sentiment_analysis\n",
       "0    1250  2011-11-05       True                   2\n",
       "1   22200  2011-07-15       True                   2\n",
       "2   43110  2011-04-21       True                   2"
      ]
     },
     "execution_count": 91,
     "metadata": {},
     "output_type": "execute_result"
    }
   ],
   "source": [
    "columnas_a_mantener = ['item_id','posted','recommend', 'sentiment_analysis']\n",
    "df_user_reviews_best_developer_year_año = df_user_reviews[columnas_a_mantener]\n",
    "\n",
    "print(df_user_reviews_best_developer_year_año.shape)\n",
    "print(df_user_reviews_best_developer_year_año.dtypes)\n",
    "df_user_reviews_best_developer_year_año.head(3)"
   ]
  },
  {
   "cell_type": "markdown",
   "metadata": {},
   "source": [
    "### To Parquet"
   ]
  },
  {
   "cell_type": "code",
   "execution_count": null,
   "metadata": {},
   "outputs": [],
   "source": [
    "df_user_reviews_best_developer_year_año.to_parquet('../Data/df_user_reviews_best_developer_year_año.parquet', index=False)"
   ]
  },
  {
   "cell_type": "markdown",
   "metadata": {},
   "source": [
    "## Endpoint `'def recomendacion_usuario(user_id: srt)'`"
   ]
  },
  {
   "cell_type": "markdown",
   "metadata": {},
   "source": [
    "A continuacion preparamos el dataset que alimentará a la etapa de preprocesamiento de datos del sistema de recomendacion"
   ]
  },
  {
   "cell_type": "markdown",
   "metadata": {},
   "source": [
    "### Transformacion"
   ]
  },
  {
   "cell_type": "markdown",
   "metadata": {},
   "source": [
    "Filtramos los campos 'user_id','item_id', 'recommend' y 'sentiment_analysis'. Eliminamos el resto"
   ]
  },
  {
   "cell_type": "code",
   "execution_count": null,
   "metadata": {},
   "outputs": [
    {
     "name": "stdout",
     "output_type": "stream",
     "text": [
      "(48498, 4)\n",
      "user_id               object\n",
      "item_id               object\n",
      "recommend               bool\n",
      "sentiment_analysis     int64\n",
      "dtype: object\n",
      "Datos faltantes:\n",
      "user_id               0\n",
      "item_id               0\n",
      "recommend             0\n",
      "sentiment_analysis    0\n",
      "dtype: int64\n"
     ]
    },
    {
     "data": {
      "text/html": [
       "<div>\n",
       "<style scoped>\n",
       "    .dataframe tbody tr th:only-of-type {\n",
       "        vertical-align: middle;\n",
       "    }\n",
       "\n",
       "    .dataframe tbody tr th {\n",
       "        vertical-align: top;\n",
       "    }\n",
       "\n",
       "    .dataframe thead th {\n",
       "        text-align: right;\n",
       "    }\n",
       "</style>\n",
       "<table border=\"1\" class=\"dataframe\">\n",
       "  <thead>\n",
       "    <tr style=\"text-align: right;\">\n",
       "      <th></th>\n",
       "      <th>user_id</th>\n",
       "      <th>item_id</th>\n",
       "      <th>recommend</th>\n",
       "      <th>sentiment_analysis</th>\n",
       "    </tr>\n",
       "  </thead>\n",
       "  <tbody>\n",
       "    <tr>\n",
       "      <th>0</th>\n",
       "      <td>76561197970982479</td>\n",
       "      <td>1250</td>\n",
       "      <td>True</td>\n",
       "      <td>2</td>\n",
       "    </tr>\n",
       "    <tr>\n",
       "      <th>1</th>\n",
       "      <td>76561197970982479</td>\n",
       "      <td>22200</td>\n",
       "      <td>True</td>\n",
       "      <td>2</td>\n",
       "    </tr>\n",
       "    <tr>\n",
       "      <th>2</th>\n",
       "      <td>76561197970982479</td>\n",
       "      <td>43110</td>\n",
       "      <td>True</td>\n",
       "      <td>2</td>\n",
       "    </tr>\n",
       "  </tbody>\n",
       "</table>\n",
       "</div>"
      ],
      "text/plain": [
       "             user_id item_id  recommend  sentiment_analysis\n",
       "0  76561197970982479    1250       True                   2\n",
       "1  76561197970982479   22200       True                   2\n",
       "2  76561197970982479   43110       True                   2"
      ]
     },
     "execution_count": 92,
     "metadata": {},
     "output_type": "execute_result"
    }
   ],
   "source": [
    "columnas_a_mantener = ['user_id','item_id','recommend', 'sentiment_analysis']\n",
    "df_user_reviews_recommendacion_usuario_user_id = df_user_reviews[columnas_a_mantener]\n",
    "\n",
    "print(df_user_reviews_recommendacion_usuario_user_id.shape)\n",
    "print(df_user_reviews_recommendacion_usuario_user_id.dtypes)\n",
    "print('Datos faltantes:')\n",
    "print(df_user_reviews_recommendacion_usuario_user_id.isnull().sum())\n",
    "df_user_reviews_recommendacion_usuario_user_id.head(3)"
   ]
  },
  {
   "cell_type": "markdown",
   "metadata": {},
   "source": [
    "### To Parquet"
   ]
  },
  {
   "cell_type": "code",
   "execution_count": null,
   "metadata": {},
   "outputs": [],
   "source": [
    "df_user_reviews_recommendacion_usuario_user_id.to_parquet('../Data/df_user_reviews_recommendacion_usuario_user_id.parquet', index=False)"
   ]
  },
  {
   "cell_type": "markdown",
   "metadata": {},
   "source": []
  },
  {
   "cell_type": "markdown",
   "metadata": {},
   "source": []
  },
  {
   "cell_type": "markdown",
   "metadata": {},
   "source": [
    "# Codigo no relacionado al proyecto"
   ]
  },
  {
   "cell_type": "markdown",
   "metadata": {},
   "source": [
    "## Listar variables en memoria "
   ]
  },
  {
   "cell_type": "code",
   "execution_count": null,
   "metadata": {},
   "outputs": [
    {
     "name": "stdout",
     "output_type": "stream",
     "text": [
      "Variables encontradas:  26\n",
      "La variable df_user_items pesa 71310066 bytes y es de tipo pandas.core.frame.DataFrame\n",
      "La variable df_user_items_userdata_prepared_desanidado pesa 2088152303 bytes y es de tipo pandas.core.frame.DataFrame\n",
      "La variable filas_repetidas1 pesa 1438635 bytes y es de tipo pandas.core.frame.DataFrame\n",
      "La variable ides_unicos pesa 567408 bytes y es de tipo numpy.ndarray\n"
     ]
    }
   ],
   "source": [
    "import builtins\n",
    "import sys\n",
    "\n",
    "# Obtener la lista de nombres de variables\n",
    "variable_names = dir()\n",
    "variables_descartables = ['exit','quit','Out','In','sys','var','var_name','variable_names','builtins','contenido','size','user_defined_variables','variables_descartables']\n",
    "# Filtrar las variables creadas manualmente\n",
    "user_defined_variables = [\n",
    "    var for var in variable_names \n",
    "    #if not var.startswith('_')\n",
    "    if var not in dir(builtins) and not var.startswith('_') and var not in variables_descartables\n",
    "]\n",
    "#print(user_defined_variables)\n",
    "print('Variables encontradas: ', len(user_defined_variables))\n",
    "# Imprimir el tamaño y la fecha de creación de las variables\n",
    "for var_name in user_defined_variables:\n",
    "    var = globals()[var_name]\n",
    "    if sys.getsizeof(var) >= 100000:\n",
    "        size = sys.getsizeof(var)  \n",
    "        contenido = eval(var_name)\n",
    "        print(f\"La variable {var_name} pesa {size} bytes y es de tipo {str(type(contenido))[8:-2]}\")"
   ]
  }
 ],
 "metadata": {
  "kernelspec": {
   "display_name": "Python 3",
   "language": "python",
   "name": "python3"
  },
  "language_info": {
   "codemirror_mode": {
    "name": "ipython",
    "version": 3
   },
   "file_extension": ".py",
   "mimetype": "text/x-python",
   "name": "python",
   "nbconvert_exporter": "python",
   "pygments_lexer": "ipython3",
   "version": "3.11.1"
  },
  "orig_nbformat": 4
 },
 "nbformat": 4,
 "nbformat_minor": 2
}
