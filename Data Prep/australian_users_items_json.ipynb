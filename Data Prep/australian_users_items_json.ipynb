{
 "cells": [
  {
   "cell_type": "markdown",
   "metadata": {},
   "source": [
    "# CARGA DEL DATASET Y LIBRERIAS"
   ]
  },
  {
   "cell_type": "markdown",
   "metadata": {},
   "source": [
    "## Importacion de Librerias"
   ]
  },
  {
   "cell_type": "code",
   "execution_count": 1,
   "metadata": {},
   "outputs": [],
   "source": [
    "import pandas as pd\n",
    "import numpy as np\n",
    "import os\n",
    "\n",
    "\n",
    "#Seteos del notebook\n",
    "#pd.set_option('display.max_colwidth', 40)\n",
    "#pd.options.display.min_rows\n",
    "#pd.set_option('display.width', 1000)"
   ]
  },
  {
   "cell_type": "markdown",
   "metadata": {},
   "source": [
    "## Carga del dataset crudo para su tratamiento"
   ]
  },
  {
   "cell_type": "code",
   "execution_count": 2,
   "metadata": {},
   "outputs": [],
   "source": [
    "data = []\n",
    "# Leer el archivo línea por línea y cargar los objetos JSON\n",
    "#with open('../raw_data/australian_users_items.json', encoding='utf-8') as json_file:\n",
    "with open(f'D:\\PEDRO\\AHORA\\A LA CARGA!!\\WORKING AREA\\Cursos and Tuts\\Henry\\Labs\\PIML3\\DESARROLLO DEL PI\\A Local/raw_data/australian_users_items.json', encoding='utf-8') as json_file:\n",
    "    for line in json_file:\n",
    "        data.append(eval(line))  # Convertir la línea en un objeto Python\n",
    "\n",
    "# Crear el DataFrame a partir de la lista de objetos JSON\n",
    "df_user_items = pd.DataFrame(data)"
   ]
  },
  {
   "cell_type": "markdown",
   "metadata": {},
   "source": [
    "# LIMPIEZA Y TRANSFORMACION DEL DATASET CRUDO"
   ]
  },
  {
   "cell_type": "markdown",
   "metadata": {},
   "source": [
    "## Exploracion Basica"
   ]
  },
  {
   "cell_type": "code",
   "execution_count": 3,
   "metadata": {},
   "outputs": [
    {
     "name": "stdout",
     "output_type": "stream",
     "text": [
      "columnas en df_user_itemss:  [user_id, items_count, steam_id, user_url, items]\n"
     ]
    }
   ],
   "source": [
    "print('columnas en df_user_itemss: ','[' + ', '.join(df_user_items.keys()) + ']')"
   ]
  },
  {
   "cell_type": "code",
   "execution_count": 4,
   "metadata": {},
   "outputs": [
    {
     "name": "stdout",
     "output_type": "stream",
     "text": [
      "Numero de filas y campos:  (88310, 5)\n",
      "Tipos de las columnas:\n",
      "user_id        object\n",
      "items_count     int64\n",
      "steam_id       object\n",
      "user_url       object\n",
      "items          object\n",
      "dtype: object\n",
      "\n",
      "\n",
      "Datos faltantes:\n",
      "user_id        0\n",
      "items_count    0\n",
      "steam_id       0\n",
      "user_url       0\n",
      "items          0\n",
      "dtype: int64\n"
     ]
    },
    {
     "data": {
      "text/html": [
       "<div>\n",
       "<style scoped>\n",
       "    .dataframe tbody tr th:only-of-type {\n",
       "        vertical-align: middle;\n",
       "    }\n",
       "\n",
       "    .dataframe tbody tr th {\n",
       "        vertical-align: top;\n",
       "    }\n",
       "\n",
       "    .dataframe thead th {\n",
       "        text-align: right;\n",
       "    }\n",
       "</style>\n",
       "<table border=\"1\" class=\"dataframe\">\n",
       "  <thead>\n",
       "    <tr style=\"text-align: right;\">\n",
       "      <th></th>\n",
       "      <th>user_id</th>\n",
       "      <th>items_count</th>\n",
       "      <th>steam_id</th>\n",
       "      <th>user_url</th>\n",
       "      <th>items</th>\n",
       "    </tr>\n",
       "  </thead>\n",
       "  <tbody>\n",
       "    <tr>\n",
       "      <th>0</th>\n",
       "      <td>76561197970982479</td>\n",
       "      <td>277</td>\n",
       "      <td>76561197970982479</td>\n",
       "      <td>http://steamcommunity.com/profiles/76561197970...</td>\n",
       "      <td>[{'item_id': '10', 'item_name': 'Counter-Strik...</td>\n",
       "    </tr>\n",
       "    <tr>\n",
       "      <th>1</th>\n",
       "      <td>js41637</td>\n",
       "      <td>888</td>\n",
       "      <td>76561198035864385</td>\n",
       "      <td>http://steamcommunity.com/id/js41637</td>\n",
       "      <td>[{'item_id': '10', 'item_name': 'Counter-Strik...</td>\n",
       "    </tr>\n",
       "    <tr>\n",
       "      <th>2</th>\n",
       "      <td>evcentric</td>\n",
       "      <td>137</td>\n",
       "      <td>76561198007712555</td>\n",
       "      <td>http://steamcommunity.com/id/evcentric</td>\n",
       "      <td>[{'item_id': '1200', 'item_name': 'Red Orchest...</td>\n",
       "    </tr>\n",
       "  </tbody>\n",
       "</table>\n",
       "</div>"
      ],
      "text/plain": [
       "             user_id  items_count           steam_id   \n",
       "0  76561197970982479          277  76561197970982479  \\\n",
       "1            js41637          888  76561198035864385   \n",
       "2          evcentric          137  76561198007712555   \n",
       "\n",
       "                                            user_url   \n",
       "0  http://steamcommunity.com/profiles/76561197970...  \\\n",
       "1               http://steamcommunity.com/id/js41637   \n",
       "2             http://steamcommunity.com/id/evcentric   \n",
       "\n",
       "                                               items  \n",
       "0  [{'item_id': '10', 'item_name': 'Counter-Strik...  \n",
       "1  [{'item_id': '10', 'item_name': 'Counter-Strik...  \n",
       "2  [{'item_id': '1200', 'item_name': 'Red Orchest...  "
      ]
     },
     "execution_count": 4,
     "metadata": {},
     "output_type": "execute_result"
    }
   ],
   "source": [
    "print('Numero de filas y campos: ',df_user_items.shape)\n",
    "print('Tipos de las columnas:')\n",
    "print(df_user_items.dtypes)\n",
    "print('\\n')\n",
    "\n",
    "print('Datos faltantes:')\n",
    "print(df_user_items.isnull().sum())\n",
    "df_user_items.head(3)"
   ]
  },
  {
   "cell_type": "markdown",
   "metadata": {},
   "source": [
    "Al parecer el campo 'items' esta anidado; checkamos su primer valor"
   ]
  },
  {
   "cell_type": "code",
   "execution_count": 5,
   "metadata": {},
   "outputs": [
    {
     "name": "stdout",
     "output_type": "stream",
     "text": [
      "Primer contenido de las columna 'items':\n",
      "[{'item_id': '10', 'item_name': 'Counter-Strike', 'playtime_forever': 6, 'playtime_2weeks': 0}, {'item_id': '20', 'item_name': 'Team Fortress Classic', 'playtime_forever': 0, 'playtime_2weeks': 0}, {'item_id': '30', 'item_name': 'Day of Defeat', 'playtime_forever': 7, 'playtime_2weeks': 0}, {'item_id': '40', 'item_name': 'Deathmatch Classic', 'playtime_forever': 0, 'playtime_2weeks': 0}, {'item_id': '50', 'item_name': 'Half-Life: Opposing Force', 'playtime_forever': 0, 'playtime_2weeks': 0}, {'item_id': '60', 'item_name': 'Ricochet', 'playtime_forever': 0, 'playtime_2weeks': 0}, {'item_id': '70', 'item_name': 'Half-Life', 'playtime_forever': 0, 'playtime_2weeks': 0}, {'item_id': '130', 'item_name': 'Half-Life: Blue Shift', 'playtime_forever': 0, 'playtime_2weeks': 0}, {'item_id': '300', 'item_name': 'Day of Defeat: Source', 'playtime_forever': 4733, 'playtime_2weeks': 0}, {'item_id': '240', 'item_name': 'Counter-Strike: Source', 'playtime_forever': 1853, 'playtime_2weeks': 0}, {'item_id': '3830', 'item_name': 'Psychonauts', 'playtime_forever': 333, 'playtime_2weeks': 0}, {'item_id': '2630', 'item_name': 'Call of Duty 2', 'playtime_forever': 75, 'playtime_2weeks': 0}, {'item_id': '3900', 'item_name': \"Sid Meier's Civilization IV\", 'playtime_forever': 338, 'playtime_2weeks': 0}, {'item_id': '34440', 'item_name': \"Sid Meier's Civilization IV\", 'playtime_forever': 0, 'playtime_2weeks': 0}, {'item_id': '3920', 'item_name': \"Sid Meier's Pirates!\", 'playtime_forever': 2, 'playtime_2weeks': 0}, {'item_id': '6400', 'item_name': 'Joint Task Force', 'playtime_forever': 286, 'playtime_2weeks': 0}, {'item_id': '6910', 'item_name': 'Deus Ex: Game of the Year Edition', 'playtime_forever': 2685, 'playtime_2weeks': 0}, {'item_id': '7670', 'item_name': 'BioShock', 'playtime_forever': 633, 'playtime_2weeks': 0}, {'item_id': '409710', 'item_name': 'BioShock Remastered', 'playtime_forever': 0, 'playtime_2weeks': 0}, {'item_id': '220', 'item_name': 'Half-Life 2', 'playtime_forever': 696, 'playtime_2weeks': 0}, {'item_id': '320', 'item_name': 'Half-Life 2: Deathmatch', 'playtime_forever': 0, 'playtime_2weeks': 0}, {'item_id': '340', 'item_name': 'Half-Life 2: Lost Coast', 'playtime_forever': 37, 'playtime_2weeks': 0}, {'item_id': '360', 'item_name': 'Half-Life Deathmatch: Source', 'playtime_forever': 0, 'playtime_2weeks': 0}, {'item_id': '380', 'item_name': 'Half-Life 2: Episode One', 'playtime_forever': 168, 'playtime_2weeks': 0}, {'item_id': '400', 'item_name': 'Portal', 'playtime_forever': 173, 'playtime_2weeks': 0}, {'item_id': '420', 'item_name': 'Half-Life 2: Episode Two', 'playtime_forever': 323, 'playtime_2weeks': 0}, {'item_id': '9340', 'item_name': 'Company of Heroes: Opposing Fronts', 'playtime_forever': 692, 'playtime_2weeks': 0}, {'item_id': '228200', 'item_name': 'Company of Heroes (New Steam Version)', 'playtime_forever': 0, 'playtime_2weeks': 0}, {'item_id': '11450', 'item_name': 'Overlord', 'playtime_forever': 0, 'playtime_2weeks': 0}, {'item_id': '7940', 'item_name': 'Call of Duty 4: Modern Warfare', 'playtime_forever': 1185, 'playtime_2weeks': 0}, {'item_id': '4700', 'item_name': 'Medieval II: Total War', 'playtime_forever': 477, 'playtime_2weeks': 0}, {'item_id': '12900', 'item_name': 'Audiosurf', 'playtime_forever': 115, 'playtime_2weeks': 0}, {'item_id': '13250', 'item_name': 'Unreal Gold', 'playtime_forever': 0, 'playtime_2weeks': 0}, {'item_id': '16100', 'item_name': 'Virtual Villagers: A New Home', 'playtime_forever': 0, 'playtime_2weeks': 0}, {'item_id': '15700', 'item_name': \"Oddworld: Abe's Oddysee\", 'playtime_forever': 28, 'playtime_2weeks': 0}, {'item_id': '15710', 'item_name': \"Oddworld: Abe's Exoddus\", 'playtime_forever': 0, 'playtime_2weeks': 0}, {'item_id': '17330', 'item_name': 'Crysis Warhead', 'playtime_forever': 31, 'playtime_2weeks': 0}, {'item_id': '17340', 'item_name': 'Crysis Wars', 'playtime_forever': 0, 'playtime_2weeks': 0}, {'item_id': '22000', 'item_name': 'World of Goo', 'playtime_forever': 195, 'playtime_2weeks': 0}, {'item_id': '500', 'item_name': 'Left 4 Dead', 'playtime_forever': 513, 'playtime_2weeks': 0}, {'item_id': '4560', 'item_name': 'Company of Heroes', 'playtime_forever': 1061, 'playtime_2weeks': 0}, {'item_id': '17460', 'item_name': 'Mass Effect', 'playtime_forever': 1613, 'playtime_2weeks': 0}, {'item_id': '10500', 'item_name': 'Empire: Total War', 'playtime_forever': 186, 'playtime_2weeks': 0}, {'item_id': '24740', 'item_name': 'Burnout Paradise: The Ultimate Box', 'playtime_forever': 0, 'playtime_2weeks': 0}, {'item_id': '22200', 'item_name': 'Zeno Clash', 'playtime_forever': 271, 'playtime_2weeks': 0}, {'item_id': '26800', 'item_name': 'Braid', 'playtime_forever': 445, 'playtime_2weeks': 0}, {'item_id': '1250', 'item_name': 'Killing Floor', 'playtime_forever': 10006, 'playtime_2weeks': 0}, {'item_id': '35420', 'item_name': 'Killing Floor Mod: Defence Alliance 2', 'playtime_forever': 0, 'playtime_2weeks': 0}, {'item_id': '3590', 'item_name': 'Plants vs. Zombies: Game of the Year', 'playtime_forever': 4413, 'playtime_2weeks': 0}, {'item_id': '8880', 'item_name': 'Freedom Force', 'playtime_forever': 0, 'playtime_2weeks': 0}, {'item_id': '8890', 'item_name': 'Freedom Force vs. the 3rd Reich', 'playtime_forever': 0, 'playtime_2weeks': 0}, {'item_id': '23120', 'item_name': 'Droplitz', 'playtime_forever': 53, 'playtime_2weeks': 0}, {'item_id': '35700', 'item_name': 'Trine', 'playtime_forever': 199, 'playtime_2weeks': 0}, {'item_id': '10140', 'item_name': '3D Ultra Minigolf Adventures Deluxe', 'playtime_forever': 25, 'playtime_2weeks': 0}, {'item_id': '35010', 'item_name': 'Batman: Arkham Asylum', 'playtime_forever': 570, 'playtime_2weeks': 0}, {'item_id': '35140', 'item_name': 'Batman: Arkham Asylum GOTY Edition', 'playtime_forever': 0, 'playtime_2weeks': 0}, {'item_id': '29180', 'item_name': 'Osmos', 'playtime_forever': 940, 'playtime_2weeks': 0}, {'item_id': '15520', 'item_name': 'AaAaAA!!! - A Reckless Disregard for Gravity', 'playtime_forever': 110, 'playtime_2weeks': 0}, {'item_id': '32370', 'item_name': 'STAR WARS™: Knights of the Old Republic™', 'playtime_forever': 5, 'playtime_2weeks': 0}, {'item_id': '37700', 'item_name': 'Darkest of Days', 'playtime_forever': 782, 'playtime_2weeks': 0}, {'item_id': '6020', 'item_name': 'STAR WARS™ Jedi Knight: Jedi Academy™', 'playtime_forever': 77, 'playtime_2weeks': 0}, {'item_id': '24860', 'item_name': 'Battlefield 2', 'playtime_forever': 437, 'playtime_2weeks': 0}, {'item_id': '39530', 'item_name': 'Painkiller: Black Edition', 'playtime_forever': 503, 'playtime_2weeks': 0}, {'item_id': '550', 'item_name': 'Left 4 Dead 2', 'playtime_forever': 1474, 'playtime_2weeks': 0}, {'item_id': '223530', 'item_name': 'Left 4 Dead 2 Beta', 'playtime_forever': 0, 'playtime_2weeks': 0}, {'item_id': '8980', 'item_name': 'Borderlands', 'playtime_forever': 3061, 'playtime_2weeks': 0}, {'item_id': '41500', 'item_name': 'Torchlight', 'playtime_forever': 536, 'playtime_2weeks': 0}, {'item_id': '20900', 'item_name': 'The Witcher: Enhanced Edition', 'playtime_forever': 139, 'playtime_2weeks': 0}, {'item_id': '10180', 'item_name': 'Call of Duty: Modern Warfare 2', 'playtime_forever': 1886, 'playtime_2weeks': 0}, {'item_id': '10190', 'item_name': 'Call of Duty: Modern Warfare 2 - Multiplayer', 'playtime_forever': 1784, 'playtime_2weeks': 0}, {'item_id': '17450', 'item_name': 'Dragon Age: Origins', 'playtime_forever': 4431, 'playtime_2weeks': 0}, {'item_id': '3170', 'item_name': \"King's Bounty: Armored Princess\", 'playtime_forever': 1021, 'playtime_2weeks': 0}, {'item_id': '25900', 'item_name': \"King's Bounty: The Legend\", 'playtime_forever': 1389, 'playtime_2weeks': 0}, {'item_id': '31410', 'item_name': 'Zombie Driver', 'playtime_forever': 95, 'playtime_2weeks': 0}, {'item_id': '24980', 'item_name': 'Mass Effect 2', 'playtime_forever': 5001, 'playtime_2weeks': 0}, {'item_id': '8850', 'item_name': 'BioShock 2', 'playtime_forever': 1504, 'playtime_2weeks': 0}, {'item_id': '409720', 'item_name': 'BioShock 2 Remastered', 'playtime_forever': 0, 'playtime_2weeks': 0}, {'item_id': '46000', 'item_name': 'Bob Came in Pieces', 'playtime_forever': 11, 'playtime_2weeks': 0}, {'item_id': '33230', 'item_name': \"Assassin's Creed II\", 'playtime_forever': 1636, 'playtime_2weeks': 0}, {'item_id': '20820', 'item_name': 'Shatter', 'playtime_forever': 46, 'playtime_2weeks': 0}, {'item_id': '47700', 'item_name': 'Command and Conquer 4: Tiberian Twilight', 'playtime_forever': 85, 'playtime_2weeks': 0}, {'item_id': '24960', 'item_name': 'Battlefield: Bad Company 2', 'playtime_forever': 5716, 'playtime_2weeks': 0}, {'item_id': '43110', 'item_name': 'Metro 2033', 'playtime_forever': 834, 'playtime_2weeks': 0}, {'item_id': '8190', 'item_name': 'Just Cause 2', 'playtime_forever': 3083, 'playtime_2weeks': 0}, {'item_id': '49600', 'item_name': 'Beat Hazard', 'playtime_forever': 127, 'playtime_2weeks': 0}, {'item_id': '31220', 'item_name': 'Sam & Max 301: The Penal Zone', 'playtime_forever': 71, 'playtime_2weeks': 0}, {'item_id': '31230', 'item_name': 'Sam & Max 302: The Tomb of Sammun-Mak', 'playtime_forever': 0, 'playtime_2weeks': 0}, {'item_id': '31240', 'item_name': \"Sam & Max 303: They Stole Max's Brain!\", 'playtime_forever': 0, 'playtime_2weeks': 0}, {'item_id': '31250', 'item_name': 'Sam & Max 304: Beyond the Alley of the Dolls', 'playtime_forever': 0, 'playtime_2weeks': 0}, {'item_id': '31260', 'item_name': 'Sam & Max 305: The City that Dares not Sleep', 'playtime_forever': 0, 'playtime_2weeks': 0}, {'item_id': '21090', 'item_name': 'F.E.A.R.', 'playtime_forever': 585, 'playtime_2weeks': 0}, {'item_id': '21110', 'item_name': 'F.E.A.R.: Extraction Point', 'playtime_forever': 146, 'playtime_2weeks': 0}, {'item_id': '21120', 'item_name': 'F.E.A.R.: Perseus Mandate', 'playtime_forever': 0, 'playtime_2weeks': 0}, {'item_id': '49400', 'item_name': 'Magic: The Gathering - Duels of the Planeswalkers', 'playtime_forever': 32, 'playtime_2weeks': 0}, {'item_id': '33910', 'item_name': 'Arma 2', 'playtime_forever': 3, 'playtime_2weeks': 0}, {'item_id': '33930', 'item_name': 'Arma 2: Operation Arrowhead', 'playtime_forever': 3, 'playtime_2weeks': 0}, {'item_id': '219540', 'item_name': 'Arma 2: Operation Arrowhead Beta (Obsolete)', 'playtime_forever': 0, 'playtime_2weeks': 0}, {'item_id': '17410', 'item_name': \"Mirror's Edge\", 'playtime_forever': 0, 'playtime_2weeks': 0}, {'item_id': '205790', 'item_name': 'Dota 2 Test', 'playtime_forever': 0, 'playtime_2weeks': 0}, {'item_id': '50130', 'item_name': 'Mafia II', 'playtime_forever': 707, 'playtime_2weeks': 0}, {'item_id': '62100', 'item_name': 'Chime', 'playtime_forever': 50, 'playtime_2weeks': 0}, {'item_id': '31280', 'item_name': 'Poker Night at the Inventory', 'playtime_forever': 206, 'playtime_2weeks': 0}, {'item_id': '57300', 'item_name': 'Amnesia: The Dark Descent', 'playtime_forever': 12, 'playtime_2weeks': 0}, {'item_id': '21970', 'item_name': 'R.U.S.E', 'playtime_forever': 64, 'playtime_2weeks': 0}, {'item_id': '8930', 'item_name': \"Sid Meier's Civilization V\", 'playtime_forever': 10345, 'playtime_2weeks': 0}, {'item_id': '41000', 'item_name': 'Serious Sam HD: The First Encounter', 'playtime_forever': 369, 'playtime_2weeks': 0}, {'item_id': '41050', 'item_name': 'Serious Sam Classic: The First Encounter', 'playtime_forever': 76, 'playtime_2weeks': 0}, {'item_id': '41060', 'item_name': 'Serious Sam Classic: The Second Encounter', 'playtime_forever': 0, 'playtime_2weeks': 0}, {'item_id': '227780', 'item_name': 'Serious Sam Classics: Revolution', 'playtime_forever': 0, 'playtime_2weeks': 0}, {'item_id': '18040', 'item_name': 'DeathSpank', 'playtime_forever': 594, 'playtime_2weeks': 0}, {'item_id': '22380', 'item_name': 'Fallout: New Vegas', 'playtime_forever': 43, 'playtime_2weeks': 0}, {'item_id': '42700', 'item_name': 'Call of Duty: Black Ops', 'playtime_forever': 966, 'playtime_2weeks': 0}, {'item_id': '42710', 'item_name': 'Call of Duty: Black Ops - Multiplayer', 'playtime_forever': 2452, 'playtime_2weeks': 0}, {'item_id': '62000', 'item_name': 'Flight Control HD', 'playtime_forever': 25, 'playtime_2weeks': 0}, {'item_id': '40800', 'item_name': 'Super Meat Boy', 'playtime_forever': 119, 'playtime_2weeks': 0}, {'item_id': '9500', 'item_name': 'Gish', 'playtime_forever': 6, 'playtime_2weeks': 0}, {'item_id': '18700', 'item_name': 'And Yet It Moves', 'playtime_forever': 0, 'playtime_2weeks': 0}, {'item_id': '31270', 'item_name': 'Puzzle Agent', 'playtime_forever': 0, 'playtime_2weeks': 0}, {'item_id': '58200', 'item_name': 'Jolly Rover', 'playtime_forever': 0, 'playtime_2weeks': 0}, {'item_id': '70400', 'item_name': \"Recettear: An Item Shop's Tale\", 'playtime_forever': 537, 'playtime_2weeks': 0}, {'item_id': '41300', 'item_name': 'Altitude', 'playtime_forever': 50, 'playtime_2weeks': 0}, {'item_id': '41800', 'item_name': 'Gratuitous Space Battles', 'playtime_forever': 149, 'playtime_2weeks': 0}, {'item_id': '42500', 'item_name': 'DogFighter', 'playtime_forever': 0, 'playtime_2weeks': 0}, {'item_id': '49900', 'item_name': 'Plain Sight', 'playtime_forever': 23, 'playtime_2weeks': 0}, {'item_id': '55000', 'item_name': 'Flotilla', 'playtime_forever': 0, 'playtime_2weeks': 0}, {'item_id': '34330', 'item_name': 'Total War: SHOGUN 2', 'playtime_forever': 1538, 'playtime_2weeks': 0}, {'item_id': '63200', 'item_name': 'Monday Night Combat', 'playtime_forever': 573, 'playtime_2weeks': 0}, {'item_id': '99810', 'item_name': 'Bulletstorm', 'playtime_forever': 2, 'playtime_2weeks': 0}, {'item_id': '620', 'item_name': 'Portal 2', 'playtime_forever': 887, 'playtime_2weeks': 0}, {'item_id': '42910', 'item_name': 'Magicka', 'playtime_forever': 588, 'playtime_2weeks': 0}, {'item_id': '15500', 'item_name': 'The Wonderful End of the World', 'playtime_forever': 0, 'playtime_2weeks': 0}, {'item_id': '15540', 'item_name': '1... 2... 3... KICK IT! (Drop That Beat Like an Ugly Baby)', 'playtime_forever': 4, 'playtime_2weeks': 0}, {'item_id': '18500', 'item_name': 'Defense Grid: The Awakening', 'playtime_forever': 126, 'playtime_2weeks': 0}, {'item_id': '26500', 'item_name': 'Cogs', 'playtime_forever': 0, 'playtime_2weeks': 0}, {'item_id': '35460', 'item_name': 'The Ball', 'playtime_forever': 0, 'playtime_2weeks': 0}, {'item_id': '38700', 'item_name': 'Toki Tori', 'playtime_forever': 0, 'playtime_2weeks': 0}, {'item_id': '38720', 'item_name': 'RUSH', 'playtime_forever': 0, 'playtime_2weeks': 0}, {'item_id': '63700', 'item_name': 'BIT.TRIP BEAT', 'playtime_forever': 0, 'playtime_2weeks': 0}, {'item_id': '280', 'item_name': 'Half-Life: Source', 'playtime_forever': 0, 'playtime_2weeks': 0}, {'item_id': '20920', 'item_name': 'The Witcher 2: Assassins of Kings Enhanced Edition', 'playtime_forever': 1343, 'playtime_2weeks': 0}, {'item_id': '105600', 'item_name': 'Terraria', 'playtime_forever': 772, 'playtime_2weeks': 0}, {'item_id': '98200', 'item_name': 'Frozen Synapse', 'playtime_forever': 9, 'playtime_2weeks': 0}, {'item_id': '4500', 'item_name': 'S.T.A.L.K.E.R.: Shadow of Chernobyl', 'playtime_forever': 0, 'playtime_2weeks': 0}, {'item_id': '4540', 'item_name': 'Titan Quest', 'playtime_forever': 3, 'playtime_2weeks': 0}, {'item_id': '4550', 'item_name': 'Titan Quest: Immortal Throne', 'playtime_forever': 76, 'playtime_2weeks': 0}, {'item_id': '9480', 'item_name': 'Saints Row 2', 'playtime_forever': 0, 'playtime_2weeks': 0}, {'item_id': '15620', 'item_name': 'Warhammer® 40,000™: Dawn of War® II', 'playtime_forever': 2085, 'playtime_2weeks': 0}, {'item_id': '20500', 'item_name': 'Red Faction: Guerrilla Steam Edition', 'playtime_forever': 0, 'playtime_2weeks': 0}, {'item_id': '20570', 'item_name': 'Warhammer® 40,000™: Dawn of War® II - Chaos Rising™', 'playtime_forever': 69, 'playtime_2weeks': 0}, {'item_id': '50620', 'item_name': 'Darksiders', 'playtime_forever': 101, 'playtime_2weeks': 0}, {'item_id': '55100', 'item_name': 'Homefront', 'playtime_forever': 51, 'playtime_2weeks': 0}, {'item_id': '55140', 'item_name': 'MX vs. ATV Reflex', 'playtime_forever': 0, 'playtime_2weeks': 0}, {'item_id': '56400', 'item_name': 'Warhammer® 40,000™: Dawn of War® II – Retribution™', 'playtime_forever': 678, 'playtime_2weeks': 0}, {'item_id': '475150', 'item_name': 'Titan Quest Anniversary Edition', 'playtime_forever': 0, 'playtime_2weeks': 0}, {'item_id': '96100', 'item_name': 'Defy Gravity', 'playtime_forever': 9, 'playtime_2weeks': 0}, {'item_id': '35450', 'item_name': 'Rising Storm/Red Orchestra 2 Multiplayer', 'playtime_forever': 14194, 'playtime_2weeks': 0}, {'item_id': '236830', 'item_name': 'Red Orchestra 2: Heroes of Stalingrad - Single Player', 'playtime_forever': 0, 'playtime_2weeks': 0}, {'item_id': '72850', 'item_name': 'The Elder Scrolls V: Skyrim', 'playtime_forever': 2512, 'playtime_2weeks': 0}, {'item_id': '107100', 'item_name': 'Bastion', 'playtime_forever': 640, 'playtime_2weeks': 0}, {'item_id': '57690', 'item_name': 'Tropico 4', 'playtime_forever': 1815, 'playtime_2weeks': 0}, {'item_id': '91310', 'item_name': 'Dead Island', 'playtime_forever': 2078, 'playtime_2weeks': 0}, {'item_id': '113200', 'item_name': 'The Binding of Isaac', 'playtime_forever': 1494, 'playtime_2weeks': 0}, {'item_id': '65800', 'item_name': 'Dungeon Defenders', 'playtime_forever': 130, 'playtime_2weeks': 0}, {'item_id': '9200', 'item_name': 'RAGE', 'playtime_forever': 653, 'playtime_2weeks': 0}, {'item_id': '41070', 'item_name': 'Serious Sam 3: BFE', 'playtime_forever': 716, 'playtime_2weeks': 0}, {'item_id': '48950', 'item_name': 'Greed Corp', 'playtime_forever': 72, 'playtime_2weeks': 0}, {'item_id': '92800', 'item_name': 'SpaceChem', 'playtime_forever': 262, 'playtime_2weeks': 0}, {'item_id': '104700', 'item_name': 'Super Monday Night Combat', 'playtime_forever': 44, 'playtime_2weeks': 0}, {'item_id': '203770', 'item_name': 'Crusader Kings II', 'playtime_forever': 18, 'playtime_2weeks': 0}, {'item_id': '203810', 'item_name': 'Dear Esther', 'playtime_forever': 86, 'playtime_2weeks': 0}, {'item_id': '110800', 'item_name': 'L.A. Noire', 'playtime_forever': 1204, 'playtime_2weeks': 0}, {'item_id': '207610', 'item_name': 'The Walking Dead', 'playtime_forever': 798, 'playtime_2weeks': 0}, {'item_id': '98300', 'item_name': 'Toy Soldiers', 'playtime_forever': 110, 'playtime_2weeks': 0}, {'item_id': '50300', 'item_name': 'Spec Ops: The Line', 'playtime_forever': 296, 'playtime_2weeks': 0}, {'item_id': '204300', 'item_name': 'Awesomenauts', 'playtime_forever': 0, 'playtime_2weeks': 0}, {'item_id': '1700', 'item_name': 'Arx Fatalis', 'playtime_forever': 0, 'playtime_2weeks': 0}, {'item_id': '205100', 'item_name': 'Dishonored', 'playtime_forever': 1429, 'playtime_2weeks': 0}, {'item_id': '211120', 'item_name': 'The Political Machine', 'playtime_forever': 1, 'playtime_2weeks': 0}, {'item_id': '730', 'item_name': 'Counter-Strike: Global Offensive', 'playtime_forever': 23532, 'playtime_2weeks': 0}, {'item_id': '49520', 'item_name': 'Borderlands 2', 'playtime_forever': 1303, 'playtime_2weeks': 0}, {'item_id': '200260', 'item_name': 'Batman: Arkham City GOTY', 'playtime_forever': 100, 'playtime_2weeks': 0}, {'item_id': '212680', 'item_name': 'FTL: Faster Than Light', 'playtime_forever': 500, 'playtime_2weeks': 0}, {'item_id': '200710', 'item_name': 'Torchlight II', 'playtime_forever': 459, 'playtime_2weeks': 0}, {'item_id': '219150', 'item_name': 'Hotline Miami', 'playtime_forever': 0, 'playtime_2weeks': 0}, {'item_id': '215510', 'item_name': 'Rocketbirds: Hardboiled Chicken', 'playtime_forever': 0, 'playtime_2weeks': 0}, {'item_id': '8870', 'item_name': 'BioShock Infinite', 'playtime_forever': 2084, 'playtime_2weeks': 0}, {'item_id': '200510', 'item_name': 'XCOM: Enemy Unknown', 'playtime_forever': 3478, 'playtime_2weeks': 0}, {'item_id': '220240', 'item_name': 'Far Cry® 3', 'playtime_forever': 182, 'playtime_2weeks': 0}, {'item_id': '218680', 'item_name': 'Scribblenauts Unlimited', 'playtime_forever': 0, 'playtime_2weeks': 0}, {'item_id': '228280', 'item_name': \"Baldur's Gate: Enhanced Edition\", 'playtime_forever': 905, 'playtime_2weeks': 0}, {'item_id': '212070', 'item_name': 'Star Conflict', 'playtime_forever': 0, 'playtime_2weeks': 0}, {'item_id': '218230', 'item_name': 'PlanetSide 2', 'playtime_forever': 51, 'playtime_2weeks': 0}, {'item_id': '236390', 'item_name': 'War Thunder', 'playtime_forever': 50, 'playtime_2weeks': 0}, {'item_id': '3483', 'item_name': 'Peggle Extreme', 'playtime_forever': 0, 'playtime_2weeks': 0}, {'item_id': '203160', 'item_name': 'Tomb Raider', 'playtime_forever': 0, 'playtime_2weeks': 0}, {'item_id': '227080', 'item_name': 'Papo & Yo', 'playtime_forever': 81, 'playtime_2weeks': 0}, {'item_id': '233450', 'item_name': 'Prison Architect', 'playtime_forever': 24, 'playtime_2weeks': 0}, {'item_id': '43160', 'item_name': 'Metro: Last Light', 'playtime_forever': 712, 'playtime_2weeks': 0}, {'item_id': '219740', 'item_name': \"Don't Starve\", 'playtime_forever': 139, 'playtime_2weeks': 0}, {'item_id': '322330', 'item_name': \"Don't Starve Together\", 'playtime_forever': 0, 'playtime_2weeks': 0}, {'item_id': '222730', 'item_name': 'Reus', 'playtime_forever': 319, 'playtime_2weeks': 0}, {'item_id': '241600', 'item_name': 'Rogue Legacy', 'playtime_forever': 73, 'playtime_2weeks': 0}, {'item_id': '238930', 'item_name': '7 Grand Steps, Step 1: What Ancients Begat', 'playtime_forever': 159, 'playtime_2weeks': 0}, {'item_id': '217140', 'item_name': 'Rise of the Triad', 'playtime_forever': 199, 'playtime_2weeks': 0}, {'item_id': '39140', 'item_name': 'FINAL FANTASY VII', 'playtime_forever': 2896, 'playtime_2weeks': 0}, {'item_id': '225080', 'item_name': 'Brothers - A Tale of Two Sons', 'playtime_forever': 0, 'playtime_2weeks': 0}, {'item_id': '239030', 'item_name': 'Papers, Please', 'playtime_forever': 194, 'playtime_2weeks': 0}, {'item_id': '248820', 'item_name': 'Risk of Rain', 'playtime_forever': 272, 'playtime_2weeks': 0}, {'item_id': '239350', 'item_name': 'Spelunky', 'playtime_forever': 458, 'playtime_2weeks': 0}, {'item_id': '218620', 'item_name': 'PAYDAY 2', 'playtime_forever': 574, 'playtime_2weeks': 0}, {'item_id': '206420', 'item_name': 'Saints Row IV', 'playtime_forever': 0, 'playtime_2weeks': 0}, {'item_id': '236850', 'item_name': 'Europa Universalis IV', 'playtime_forever': 89, 'playtime_2weeks': 0}, {'item_id': '47790', 'item_name': 'Medal of Honor(TM) Single Player', 'playtime_forever': 230, 'playtime_2weeks': 0}, {'item_id': '47830', 'item_name': 'Medal of Honor(TM) Multiplayer', 'playtime_forever': 0, 'playtime_2weeks': 0}, {'item_id': '250320', 'item_name': 'The Wolf Among Us', 'playtime_forever': 500, 'playtime_2weeks': 0}, {'item_id': '250900', 'item_name': 'The Binding of Isaac: Rebirth', 'playtime_forever': 329, 'playtime_2weeks': 0}, {'item_id': '204450', 'item_name': 'Call of Juarez Gunslinger', 'playtime_forever': 241, 'playtime_2weeks': 0}, {'item_id': '233270', 'item_name': 'Far Cry® 3 Blood Dragon', 'playtime_forever': 0, 'playtime_2weeks': 0}, {'item_id': '251990', 'item_name': 'Long Live The Queen', 'playtime_forever': 135, 'playtime_2weeks': 0}, {'item_id': '253980', 'item_name': 'Enclave', 'playtime_forever': 0, 'playtime_2weeks': 0}, {'item_id': '236450', 'item_name': 'PAC-MAN Championship Edition DX+', 'playtime_forever': 154, 'playtime_2weeks': 0}, {'item_id': '242050', 'item_name': \"Assassin's Creed IV Black Flag\", 'playtime_forever': 1377, 'playtime_2weeks': 0}, {'item_id': '257350', 'item_name': \"Baldur's Gate II: Enhanced Edition\", 'playtime_forever': 0, 'playtime_2weeks': 0}, {'item_id': '213670', 'item_name': 'South Park™: The Stick of Truth™', 'playtime_forever': 121, 'playtime_2weeks': 0}, {'item_id': '238010', 'item_name': \"Deus Ex: Human Revolution - Director's Cut\", 'playtime_forever': 2176, 'playtime_2weeks': 0}, {'item_id': '245470', 'item_name': 'Democracy 3', 'playtime_forever': 246, 'playtime_2weeks': 0}, {'item_id': '221910', 'item_name': 'The Stanley Parable', 'playtime_forever': 157, 'playtime_2weeks': 0}, {'item_id': '260230', 'item_name': 'Valiant Hearts: The Great War™ / Soldats Inconnus : Mémoires de la Grande Guerre™', 'playtime_forever': 467, 'playtime_2weeks': 0}, {'item_id': '238430', 'item_name': 'Contagion', 'playtime_forever': 77, 'playtime_2weeks': 0}, {'item_id': '261030', 'item_name': 'The Walking Dead: Season Two', 'playtime_forever': 567, 'playtime_2weeks': 0}, {'item_id': '261570', 'item_name': 'Ori and the Blind Forest', 'playtime_forever': 39, 'playtime_2weeks': 0}, {'item_id': '263980', 'item_name': 'Out There Somewhere', 'playtime_forever': 0, 'playtime_2weeks': 0}, {'item_id': '39150', 'item_name': 'FINAL FANTASY VIII', 'playtime_forever': 15, 'playtime_2weeks': 0}, {'item_id': '230230', 'item_name': 'Divinity: Original Sin (Classic)', 'playtime_forever': 522, 'playtime_2weeks': 0}, {'item_id': '373420', 'item_name': 'Divinity: Original Sin Enhanced Edition', 'playtime_forever': 0, 'playtime_2weeks': 0}, {'item_id': '232790', 'item_name': 'Broken Age', 'playtime_forever': 216, 'playtime_2weeks': 0}, {'item_id': '237990', 'item_name': 'The Banner Saga', 'playtime_forever': 19, 'playtime_2weeks': 0}, {'item_id': '273620', 'item_name': 'Freespace 2', 'playtime_forever': 848, 'playtime_2weeks': 0}, {'item_id': '222880', 'item_name': 'Insurgency', 'playtime_forever': 3031, 'playtime_2weeks': 0}, {'item_id': '225840', 'item_name': 'Sven Co-op', 'playtime_forever': 26, 'playtime_2weeks': 0}, {'item_id': '222900', 'item_name': 'Dead Island: Epidemic', 'playtime_forever': 0, 'playtime_2weeks': 0}, {'item_id': '280220', 'item_name': 'Creeper World 3: Arc Eternal', 'playtime_forever': 941, 'playtime_2weeks': 0}, {'item_id': '236430', 'item_name': 'DARK SOULS™ II', 'playtime_forever': 592, 'playtime_2weeks': 0}, {'item_id': '201810', 'item_name': 'Wolfenstein: The New Order', 'playtime_forever': 599, 'playtime_2weeks': 0}, {'item_id': '294860', 'item_name': 'Valkyria Chronicles™', 'playtime_forever': 1735, 'playtime_2weeks': 0}, {'item_id': '295690', 'item_name': 'PARTICLE MACE', 'playtime_forever': 0, 'playtime_2weeks': 0}, {'item_id': '238460', 'item_name': 'BattleBlock Theater', 'playtime_forever': 407, 'playtime_2weeks': 0}, {'item_id': '237930', 'item_name': 'Transistor', 'playtime_forever': 154, 'playtime_2weeks': 0}, {'item_id': '301480', 'item_name': 'GEARCRACK Arena', 'playtime_forever': 0, 'playtime_2weeks': 0}, {'item_id': '303390', 'item_name': 'Dead Bits', 'playtime_forever': 0, 'playtime_2weeks': 0}, {'item_id': '306660', 'item_name': 'Ultimate General: Gettysburg', 'playtime_forever': 1245, 'playtime_2weeks': 0}, {'item_id': '316790', 'item_name': 'Grim Fandango Remastered', 'playtime_forever': 42, 'playtime_2weeks': 0}, {'item_id': '318430', 'item_name': 'Squishy the Suicidal Pig', 'playtime_forever': 0, 'playtime_2weeks': 0}, {'item_id': '241930', 'item_name': 'Middle-earth: Shadow of Mordor', 'playtime_forever': 889, 'playtime_2weeks': 0}, {'item_id': '328080', 'item_name': 'Retro-Pixel Castles', 'playtime_forever': 5, 'playtime_2weeks': 0}, {'item_id': '282070', 'item_name': 'This War of Mine', 'playtime_forever': 3, 'playtime_2weeks': 0}, {'item_id': '333930', 'item_name': 'Dirty Bomb', 'playtime_forever': 2782, 'playtime_2weeks': 0}, {'item_id': '334120', 'item_name': 'Armikrog', 'playtime_forever': 109, 'playtime_2weeks': 0}, {'item_id': '257510', 'item_name': 'The Talos Principle', 'playtime_forever': 0, 'playtime_2weeks': 0}, {'item_id': '319630', 'item_name': 'Life Is Strange™', 'playtime_forever': 37, 'playtime_2weeks': 0}, {'item_id': '346010', 'item_name': 'Besiege', 'playtime_forever': 464, 'playtime_2weeks': 0}, {'item_id': '255710', 'item_name': 'Cities: Skylines', 'playtime_forever': 246, 'playtime_2weeks': 0}, {'item_id': '232090', 'item_name': 'Killing Floor 2', 'playtime_forever': 6494, 'playtime_2weeks': 0}, {'item_id': '232150', 'item_name': 'Killing Floor 2 - SDK', 'playtime_forever': 0, 'playtime_2weeks': 0}, {'item_id': '377160', 'item_name': 'Fallout 4', 'playtime_forever': 2001, 'playtime_2weeks': 0}, {'item_id': '340170', 'item_name': 'FINAL FANTASY TYPE-0 HD', 'playtime_forever': 170, 'playtime_2weeks': 0}, {'item_id': '391540', 'item_name': 'Undertale', 'playtime_forever': 395, 'playtime_2weeks': 0}, {'item_id': '396660', 'item_name': 'Tahira: Echoes of the Astral Empire', 'playtime_forever': 0, 'playtime_2weeks': 0}, {'item_id': '337000', 'item_name': 'Deus Ex: Mankind Divided™', 'playtime_forever': 1159, 'playtime_2weeks': 0}, {'item_id': '368230', 'item_name': 'Kingdom: Classic', 'playtime_forever': 83, 'playtime_2weeks': 0}, {'item_id': '496300', 'item_name': 'Kingdom: New Lands', 'playtime_forever': 0, 'playtime_2weeks': 0}, {'item_id': '231430', 'item_name': 'Company of Heroes 2', 'playtime_forever': 0, 'playtime_2weeks': 0}, {'item_id': '289130', 'item_name': 'Endless Legend', 'playtime_forever': 593, 'playtime_2weeks': 0}, {'item_id': '268500', 'item_name': 'XCOM 2', 'playtime_forever': 1495, 'playtime_2weeks': 0}, {'item_id': '461640', 'item_name': 'Sins Of The Demon RPG', 'playtime_forever': 0, 'playtime_2weeks': 0}, {'item_id': '379720', 'item_name': 'DOOM', 'playtime_forever': 793, 'playtime_2weeks': 0}, {'item_id': '273350', 'item_name': 'Evolve Stage 2', 'playtime_forever': 58, 'playtime_2weeks': 0}]\n"
     ]
    }
   ],
   "source": [
    "print(\"Primer contenido de las columna 'items':\")\n",
    "print(df_user_items['items'][0])"
   ]
  },
  {
   "cell_type": "markdown",
   "metadata": {},
   "source": [
    "Vemos que debemos desanidar 'items', pero primero existen tratamientos previos que realizar"
   ]
  },
  {
   "cell_type": "markdown",
   "metadata": {},
   "source": [
    "## Tratamientos previos al desanidado del campo 'items'"
   ]
  },
  {
   "cell_type": "markdown",
   "metadata": {},
   "source": [
    "Antes del desanidado verificamos si existen ides duplicados en 'user_id'. Para eliminar estos duplicados primero debemos verificar registros con valores faltantes en 'items', pues de nada sirven registros con ides unicos en 'user_id' y valores vacios en 'items'"
   ]
  },
  {
   "cell_type": "markdown",
   "metadata": {},
   "source": [
    "### Exploramos el campo 'user_id'"
   ]
  },
  {
   "cell_type": "markdown",
   "metadata": {},
   "source": [
    "Los ides deben ser unicos, por lo que verificamos si existen valores repetidos"
   ]
  },
  {
   "cell_type": "code",
   "execution_count": 6,
   "metadata": {},
   "outputs": [
    {
     "name": "stdout",
     "output_type": "stream",
     "text": [
      "Total de valores en 'user_id':  88310\n",
      "Número de valores únicos en 'user_id':  87626\n"
     ]
    }
   ],
   "source": [
    "#Muestra los valores unicos en 'user_id'\n",
    "ides = df_user_items['user_id'] #muestra los valores en 'user_id'\n",
    "print(\"Total de valores en 'user_id': \", len(ides))\n",
    "\n",
    "ides_unicos = df_user_items['user_id'].unique() #muestra valores únicos en  'user_id'\n",
    "print(\"Número de valores únicos en 'user_id': \", len(ides_unicos))"
   ]
  },
  {
   "cell_type": "markdown",
   "metadata": {},
   "source": [
    "Encontramos muchos valores repetidos en 'user_id'      \n",
    "Para analizar estas ocurrencias vamos a capturar 3 ides que se repiten y mostrar todas las filas implicadas  \n",
    "Para acelerar la tarea trabajamos sin el campo 'items'"
   ]
  },
  {
   "cell_type": "code",
   "execution_count": 7,
   "metadata": {},
   "outputs": [
    {
     "name": "stdout",
     "output_type": "stream",
     "text": [
      "Los 3 primeros ides repetidos son: ['X03-Suits', '76561198027488037', '76561198100326818']\n"
     ]
    },
    {
     "data": {
      "text/html": [
       "<div>\n",
       "<style scoped>\n",
       "    .dataframe tbody tr th:only-of-type {\n",
       "        vertical-align: middle;\n",
       "    }\n",
       "\n",
       "    .dataframe tbody tr th {\n",
       "        vertical-align: top;\n",
       "    }\n",
       "\n",
       "    .dataframe thead th {\n",
       "        text-align: right;\n",
       "    }\n",
       "</style>\n",
       "<table border=\"1\" class=\"dataframe\">\n",
       "  <thead>\n",
       "    <tr style=\"text-align: right;\">\n",
       "      <th></th>\n",
       "      <th>user_id</th>\n",
       "      <th>steam_id</th>\n",
       "    </tr>\n",
       "  </thead>\n",
       "  <tbody>\n",
       "    <tr>\n",
       "      <th>11160</th>\n",
       "      <td>76561198100326818</td>\n",
       "      <td>76561198100326818</td>\n",
       "    </tr>\n",
       "    <tr>\n",
       "      <th>11161</th>\n",
       "      <td>76561198100326818</td>\n",
       "      <td>76561198100326818</td>\n",
       "    </tr>\n",
       "    <tr>\n",
       "      <th>14828</th>\n",
       "      <td>76561198027488037</td>\n",
       "      <td>76561198027488037</td>\n",
       "    </tr>\n",
       "    <tr>\n",
       "      <th>14832</th>\n",
       "      <td>X03-Suits</td>\n",
       "      <td>76561198085989695</td>\n",
       "    </tr>\n",
       "    <tr>\n",
       "      <th>14833</th>\n",
       "      <td>76561198027488037</td>\n",
       "      <td>76561198027488037</td>\n",
       "    </tr>\n",
       "    <tr>\n",
       "      <th>14837</th>\n",
       "      <td>X03-Suits</td>\n",
       "      <td>76561198085989695</td>\n",
       "    </tr>\n",
       "    <tr>\n",
       "      <th>29500</th>\n",
       "      <td>76561198100326818</td>\n",
       "      <td>76561198100326818</td>\n",
       "    </tr>\n",
       "    <tr>\n",
       "      <th>36237</th>\n",
       "      <td>76561198027488037</td>\n",
       "      <td>76561198027488037</td>\n",
       "    </tr>\n",
       "    <tr>\n",
       "      <th>36239</th>\n",
       "      <td>X03-Suits</td>\n",
       "      <td>76561198085989695</td>\n",
       "    </tr>\n",
       "  </tbody>\n",
       "</table>\n",
       "</div>"
      ],
      "text/plain": [
       "                 user_id           steam_id\n",
       "11160  76561198100326818  76561198100326818\n",
       "11161  76561198100326818  76561198100326818\n",
       "14828  76561198027488037  76561198027488037\n",
       "14832          X03-Suits  76561198085989695\n",
       "14833  76561198027488037  76561198027488037\n",
       "14837          X03-Suits  76561198085989695\n",
       "29500  76561198100326818  76561198100326818\n",
       "36237  76561198027488037  76561198027488037\n",
       "36239          X03-Suits  76561198085989695"
      ]
     },
     "execution_count": 7,
     "metadata": {},
     "output_type": "execute_result"
    }
   ],
   "source": [
    "# Filtrar las columnas a mantener\n",
    "columnas_a_mantener = ['user_id','steam_id']\n",
    "df_user_items_no_items = df_user_items[columnas_a_mantener]\n",
    "\n",
    "# Identifica todos los user_id duplicados y cuenta sus ocurrencias\n",
    "duplicados = df_user_items_no_items['user_id'].value_counts()\n",
    "\n",
    "# Captura en una lista tres user_id con ocurrencias repetidas .\n",
    "user_id_repetidos = duplicados[duplicados > 1].head(3).index.tolist()\n",
    "print('Los 3 primeros ides repetidos son:',user_id_repetidos)\n",
    "\n",
    "# Filtra y muestra las filas correspondientes a estos user_id\n",
    "filas_repetidas = df_user_items_no_items[df_user_items_no_items['user_id'].isin(user_id_repetidos)]\n",
    "filas_repetidas"
   ]
  },
  {
   "cell_type": "markdown",
   "metadata": {},
   "source": [
    "### Tratamiento del Campo 'items'"
   ]
  },
  {
   "cell_type": "markdown",
   "metadata": {},
   "source": [
    "Antes de lidiar con los ides repetidos checkamos si algo extraño en el campo 'items' de esos 3 ides repetidos  \n",
    "Para esto usamos 'df_user_items'"
   ]
  },
  {
   "cell_type": "code",
   "execution_count": 8,
   "metadata": {},
   "outputs": [
    {
     "name": "stdout",
     "output_type": "stream",
     "text": [
      "         user_id  items_count           steam_id   \n",
      "14832  X03-Suits          141  76561198085989695  \\\n",
      "14837  X03-Suits          141  76561198085989695   \n",
      "36239  X03-Suits          141  76561198085989695   \n",
      "\n",
      "                                     user_url   \n",
      "14832  http://steamcommunity.com/id/X03-Suits  \\\n",
      "14837  http://steamcommunity.com/id/X03-Suits   \n",
      "36239  http://steamcommunity.com/id/X03-Suits   \n",
      "\n",
      "                                                   items  \n",
      "14832  [{'item_id': '10', 'item_name': 'Counter-Strik...  \n",
      "14837  [{'item_id': '10', 'item_name': 'Counter-Strik...  \n",
      "36239  [{'item_id': '10', 'item_name': 'Counter-Strik...  \n",
      "                 user_id  items_count           steam_id   \n",
      "14828  76561198027488037           53  76561198027488037  \\\n",
      "14833  76561198027488037           53  76561198027488037   \n",
      "36237  76561198027488037           53  76561198027488037   \n",
      "\n",
      "                                                user_url   \n",
      "14828  http://steamcommunity.com/profiles/76561198027...  \\\n",
      "14833  http://steamcommunity.com/profiles/76561198027...   \n",
      "36237  http://steamcommunity.com/profiles/76561198027...   \n",
      "\n",
      "                                                   items  \n",
      "14828  [{'item_id': '10', 'item_name': 'Counter-Strik...  \n",
      "14833  [{'item_id': '10', 'item_name': 'Counter-Strik...  \n",
      "36237  [{'item_id': '10', 'item_name': 'Counter-Strik...  \n",
      "                 user_id  items_count           steam_id   \n",
      "11160  76561198100326818            0  76561198100326818  \\\n",
      "11161  76561198100326818            0  76561198100326818   \n",
      "29500  76561198100326818            0  76561198100326818   \n",
      "\n",
      "                                                user_url items  \n",
      "11160  http://steamcommunity.com/profiles/76561198100...    []  \n",
      "11161  http://steamcommunity.com/profiles/76561198100...    []  \n",
      "29500  http://steamcommunity.com/profiles/76561198100...    []  \n"
     ]
    }
   ],
   "source": [
    "for id_repetido in user_id_repetidos:\n",
    "    filas_repetida = df_user_items[df_user_items['user_id'] == id_repetido]\n",
    "    print(filas_repetida)"
   ]
  },
  {
   "cell_type": "markdown",
   "metadata": {},
   "source": [
    "Vemos que en 'df_user_items' hay algunos datos vacios en el campo 'items'. Los eliminamos"
   ]
  },
  {
   "cell_type": "code",
   "execution_count": 9,
   "metadata": {},
   "outputs": [
    {
     "name": "stdout",
     "output_type": "stream",
     "text": [
      "Numero de filas y campos antes de la eliminacion:  (88310, 5)\n",
      "Numero de filas y campos despues de la eliminacion:  (71504, 5)\n"
     ]
    }
   ],
   "source": [
    "print('Numero de filas y campos antes de la eliminacion: ',df_user_items.shape)\n",
    "df_user_items = df_user_items[df_user_items['items'].apply(lambda x: len(x) > 0)]\n",
    "print('Numero de filas y campos despues de la eliminacion: ',df_user_items.shape)\n"
   ]
  },
  {
   "cell_type": "markdown",
   "metadata": {},
   "source": [
    "### Tratamiento del Campo 'user_id'"
   ]
  },
  {
   "cell_type": "markdown",
   "metadata": {},
   "source": [
    "Ahora tratamos las filas con ides repetidos. Como estos deben ser unicos, dejamos solo un ejemplar y eliminamos el resto"
   ]
  },
  {
   "cell_type": "code",
   "execution_count": 10,
   "metadata": {},
   "outputs": [
    {
     "name": "stdout",
     "output_type": "stream",
     "text": [
      "Numero de filas y campos antes de la eliminacion:  (71504, 5)\n",
      "Numero de filas y campos despues de la eliminacion:  (70912, 5)\n"
     ]
    }
   ],
   "source": [
    "print('Numero de filas y campos antes de la eliminacion: ',df_user_items.shape)\n",
    "df_user_items = df_user_items.drop_duplicates(subset='user_id', keep='first')\n",
    "print('Numero de filas y campos despues de la eliminacion: ',df_user_items.shape)"
   ]
  },
  {
   "cell_type": "markdown",
   "metadata": {},
   "source": [
    "Verificaciones las veces que se repiten los valores de 'user_id'\n"
   ]
  },
  {
   "cell_type": "code",
   "execution_count": 11,
   "metadata": {},
   "outputs": [
    {
     "name": "stdout",
     "output_type": "stream",
     "text": [
      "Conteo de valores repetidos en 'user_id':\n",
      "user_id\n",
      "76561197970982479    1\n",
      "76561198054378529    1\n",
      "76561198054394508    1\n",
      "dropbearloc          1\n",
      "76561198054389225    1\n",
      "                    ..\n",
      "76561198036292321    1\n",
      "76561198047246195    1\n",
      "boynextdoor7354      1\n",
      "pooinmypants         1\n",
      "76561198329548331    1\n",
      "Name: count, Length: 70912, dtype: int64\n"
     ]
    }
   ],
   "source": [
    "repeticiones = df_user_items['user_id'].value_counts()\n",
    "print(\"Conteo de valores repetidos en 'user_id':\")\n",
    "print(repeticiones)"
   ]
  },
  {
   "cell_type": "code",
   "execution_count": null,
   "metadata": {},
   "outputs": [],
   "source": []
  },
  {
   "cell_type": "markdown",
   "metadata": {},
   "source": [
    "## Desanidando el campo 'items'"
   ]
  },
  {
   "cell_type": "code",
   "execution_count": 12,
   "metadata": {},
   "outputs": [
    {
     "name": "stdout",
     "output_type": "stream",
     "text": [
      "columnas en df_user_items:  [user_id, items_count, steam_id, user_url, items]\n"
     ]
    }
   ],
   "source": [
    "print('columnas en df_user_items: ','[' + ', '.join(df_user_items.keys()) + ']')"
   ]
  },
  {
   "cell_type": "code",
   "execution_count": 13,
   "metadata": {},
   "outputs": [
    {
     "name": "stdout",
     "output_type": "stream",
     "text": [
      "Numero de filas y campos antes del desanidado:  (70912, 5)\n",
      "columnas antes del desanidado:  [user_id, items_count, steam_id, user_url, items]\n",
      "Datos faltantes antes del desanidado:\n",
      "user_id        0\n",
      "items_count    0\n",
      "steam_id       0\n",
      "user_url       0\n",
      "items          0\n",
      "dtype: int64\n",
      "\n",
      "\n"
     ]
    },
    {
     "name": "stdout",
     "output_type": "stream",
     "text": [
      "Numero de filas y campos despues del desanidado:  (5094082, 8)\n",
      "columnas despues del desanidado:  [user_id, items_count, steam_id, user_url, item_id, item_name, playtime_forever, playtime_2weeks]\n",
      "Datos faltantes despues del desanidado:\n",
      "user_id             0\n",
      "items_count         0\n",
      "steam_id            0\n",
      "user_url            0\n",
      "item_id             0\n",
      "item_name           0\n",
      "playtime_forever    0\n",
      "playtime_2weeks     0\n",
      "dtype: int64\n"
     ]
    }
   ],
   "source": [
    "print('Numero de filas y campos antes del desanidado: ',df_user_items.shape)\n",
    "print('columnas antes del desanidado: ','[' + ', '.join(df_user_items.keys()) + ']')\n",
    "print('Datos faltantes antes del desanidado:')\n",
    "print(df_user_items.isnull().sum())\n",
    "print('\\n')\n",
    "\n",
    "data_desanidada = []\n",
    "\n",
    "for index, row in df_user_items.iterrows():\n",
    "    user_id = row['user_id']\n",
    "    items_count = row['items_count']\n",
    "    steam_id = row['steam_id']\n",
    "    user_url = row['user_url']\n",
    "    items_list = row['items']\n",
    "\n",
    "    for item in items_list:\n",
    "        new_row = {\n",
    "            'user_id': user_id,\n",
    "            'items_count': items_count,\n",
    "            'steam_id': steam_id,\n",
    "            'user_url': user_url,\n",
    "            'item_id': item.get('item_id', ''),\n",
    "            'item_name': item.get('item_name', ''),\n",
    "            'playtime_forever': item.get('playtime_forever', ''),\n",
    "            'playtime_2weeks': item.get('playtime_2weeks', '')\n",
    "        }\n",
    "\n",
    "        data_desanidada.append(new_row)\n",
    "\n",
    "df_user_items = pd.DataFrame(data_desanidada)\n",
    "\n",
    "print('Numero de filas y campos despues del desanidado: ',df_user_items.shape)\n",
    "print('columnas despues del desanidado: ','[' + ', '.join(df_user_items.keys()) + ']')\n",
    "print('Datos faltantes despues del desanidado:')\n",
    "print(df_user_items.isnull().sum())"
   ]
  },
  {
   "cell_type": "markdown",
   "metadata": {},
   "source": [
    "## Tratamiento del campo 'item_id'"
   ]
  },
  {
   "cell_type": "markdown",
   "metadata": {},
   "source": [
    "El campo 'item_id' es el campo mas importante del dataset despues del campo 'user_id'.  \n",
    "Cada usuario debe haber reseñado sus items una sola vez, por lo que nos aseguramos que para cada 'user_id' no haya valores repetidos del campo 'item_id'."
   ]
  },
  {
   "cell_type": "markdown",
   "metadata": {},
   "source": [
    "### Exploramos 'item_id'"
   ]
  },
  {
   "cell_type": "code",
   "execution_count": 14,
   "metadata": {},
   "outputs": [
    {
     "name": "stdout",
     "output_type": "stream",
     "text": [
      "columnas en df_user_items:  [user_id, items_count, steam_id, user_url, item_id, item_name, playtime_forever, playtime_2weeks]\n"
     ]
    }
   ],
   "source": [
    "print('columnas en df_user_items: ','[' + ', '.join(df_user_items.keys()) + ']')\n"
   ]
  },
  {
   "cell_type": "code",
   "execution_count": 15,
   "metadata": {},
   "outputs": [
    {
     "name": "stdout",
     "output_type": "stream",
     "text": [
      "(5094082, 8)\n",
      "Tipo de dato en 'item_id': object\n"
     ]
    },
    {
     "data": {
      "text/html": [
       "<div>\n",
       "<style scoped>\n",
       "    .dataframe tbody tr th:only-of-type {\n",
       "        vertical-align: middle;\n",
       "    }\n",
       "\n",
       "    .dataframe tbody tr th {\n",
       "        vertical-align: top;\n",
       "    }\n",
       "\n",
       "    .dataframe thead th {\n",
       "        text-align: right;\n",
       "    }\n",
       "</style>\n",
       "<table border=\"1\" class=\"dataframe\">\n",
       "  <thead>\n",
       "    <tr style=\"text-align: right;\">\n",
       "      <th></th>\n",
       "      <th>user_id</th>\n",
       "      <th>items_count</th>\n",
       "      <th>steam_id</th>\n",
       "      <th>user_url</th>\n",
       "      <th>item_id</th>\n",
       "      <th>item_name</th>\n",
       "      <th>playtime_forever</th>\n",
       "      <th>playtime_2weeks</th>\n",
       "    </tr>\n",
       "  </thead>\n",
       "  <tbody>\n",
       "    <tr>\n",
       "      <th>0</th>\n",
       "      <td>76561197970982479</td>\n",
       "      <td>277</td>\n",
       "      <td>76561197970982479</td>\n",
       "      <td>http://steamcommunity.com/profiles/76561197970...</td>\n",
       "      <td>10</td>\n",
       "      <td>Counter-Strike</td>\n",
       "      <td>6</td>\n",
       "      <td>0</td>\n",
       "    </tr>\n",
       "    <tr>\n",
       "      <th>1</th>\n",
       "      <td>76561197970982479</td>\n",
       "      <td>277</td>\n",
       "      <td>76561197970982479</td>\n",
       "      <td>http://steamcommunity.com/profiles/76561197970...</td>\n",
       "      <td>20</td>\n",
       "      <td>Team Fortress Classic</td>\n",
       "      <td>0</td>\n",
       "      <td>0</td>\n",
       "    </tr>\n",
       "    <tr>\n",
       "      <th>2</th>\n",
       "      <td>76561197970982479</td>\n",
       "      <td>277</td>\n",
       "      <td>76561197970982479</td>\n",
       "      <td>http://steamcommunity.com/profiles/76561197970...</td>\n",
       "      <td>30</td>\n",
       "      <td>Day of Defeat</td>\n",
       "      <td>7</td>\n",
       "      <td>0</td>\n",
       "    </tr>\n",
       "  </tbody>\n",
       "</table>\n",
       "</div>"
      ],
      "text/plain": [
       "             user_id  items_count           steam_id   \n",
       "0  76561197970982479          277  76561197970982479  \\\n",
       "1  76561197970982479          277  76561197970982479   \n",
       "2  76561197970982479          277  76561197970982479   \n",
       "\n",
       "                                            user_url item_id   \n",
       "0  http://steamcommunity.com/profiles/76561197970...      10  \\\n",
       "1  http://steamcommunity.com/profiles/76561197970...      20   \n",
       "2  http://steamcommunity.com/profiles/76561197970...      30   \n",
       "\n",
       "               item_name  playtime_forever  playtime_2weeks  \n",
       "0         Counter-Strike                 6                0  \n",
       "1  Team Fortress Classic                 0                0  \n",
       "2          Day of Defeat                 7                0  "
      ]
     },
     "execution_count": 15,
     "metadata": {},
     "output_type": "execute_result"
    }
   ],
   "source": [
    "print(df_user_items.shape)\n",
    "print(\"Tipo de dato en 'item_id':\",df_user_items['item_id'].dtype)\n",
    "df_user_items.head(3)"
   ]
  },
  {
   "cell_type": "markdown",
   "metadata": {},
   "source": [
    "Todos los valores en la columna 'item_id' deben ser digitos, es decir con formato tipo `r'^\\d+$'`  \n",
    "Verificamos si hay valores que no cumplan tal formato"
   ]
  },
  {
   "cell_type": "code",
   "execution_count": 16,
   "metadata": {},
   "outputs": [
    {
     "name": "stdout",
     "output_type": "stream",
     "text": [
      "Valores en 'item_id' sin el formato 'r'^\\d+$':  0\n"
     ]
    }
   ],
   "source": [
    "# Busca valores en 'item_id' que no sigan el formato deseado\n",
    "valores_no_validos = df_user_items[~df_user_items['item_id'].astype(str).str.contains(r'^\\d+$')]\n",
    "\n",
    "print(\"Valores en 'item_id' sin el formato 'r'^\\d+$': \", len(valores_no_validos['item_id'])) #muestra la cantidad de valores sin el formato"
   ]
  },
  {
   "cell_type": "markdown",
   "metadata": {},
   "source": [
    "Checkamos si hay valores repetidos en 'item_id'. Para eso capturamos tres ides repetidos en 'user_id'"
   ]
  },
  {
   "cell_type": "code",
   "execution_count": 17,
   "metadata": {},
   "outputs": [
    {
     "name": "stdout",
     "output_type": "stream",
     "text": [
      "        user_id item_id\n",
      "345620  phrostb     300\n",
      "345621  phrostb     240\n",
      "345622  phrostb      10\n",
      "345623  phrostb      30\n",
      "345624  phrostb      40\n",
      "...         ...     ...\n",
      "353377  phrostb  526790\n",
      "353378  phrostb  527510\n",
      "353379  phrostb  527520\n",
      "353380  phrostb  527810\n",
      "353381  phrostb  324810\n",
      "\n",
      "[7762 rows x 2 columns]\n",
      "              user_id item_id\n",
      "1893067  thugnificent      10\n",
      "1893068  thugnificent      20\n",
      "1893069  thugnificent      30\n",
      "1893070  thugnificent      40\n",
      "1893071  thugnificent      50\n",
      "...               ...     ...\n",
      "1899762  thugnificent  524340\n",
      "1899763  thugnificent  527510\n",
      "1899764  thugnificent  527520\n",
      "1899765  thugnificent  527810\n",
      "1899766  thugnificent  528660\n",
      "\n",
      "[6700 rows x 2 columns]\n",
      "       user_id item_id\n",
      "98435   chidvd      10\n",
      "98436   chidvd      80\n",
      "98437   chidvd     100\n",
      "98438   chidvd      30\n",
      "98439   chidvd     320\n",
      "...        ...     ...\n",
      "104840  chidvd  524030\n",
      "104841  chidvd  394140\n",
      "104842  chidvd  527440\n",
      "104843  chidvd  324810\n",
      "104844  chidvd  529670\n",
      "\n",
      "[6410 rows x 2 columns]\n"
     ]
    }
   ],
   "source": [
    "# Filtrar las columnas a mantener\n",
    "columnas_a_mantener = ['user_id','item_id']\n",
    "df_user_items_no_full = df_user_items[columnas_a_mantener]# Identifica todos los user_id duplicados y cuenta sus ocurrencias\n",
    "duplicados = df_user_items_no_full['user_id'].value_counts()\n",
    "\n",
    "# Captura en una lista tres user_id con ocurrencias repetidas .\n",
    "user_id_repetidos = duplicados[duplicados > 1].head(3).index.tolist()\n",
    "\n",
    "# Filtra y muestra las filas correspondientes a estos user_id\n",
    "filas_repetidas = df_user_items_no_full[df_user_items_no_full['user_id'].isin(user_id_repetidos)]\n",
    "\n",
    "for id_repetido in user_id_repetidos:\n",
    "    filas_repetida = df_user_items_no_full[df_user_items['user_id'] == id_repetido]\n",
    "    print(filas_repetida)"
   ]
  },
  {
   "cell_type": "markdown",
   "metadata": {},
   "source": [
    "A simple vista no se ven valores repetidos en 'item_id'. Nos aseguramos  \n",
    "Verificamos si existen 'item_id' repetidos en las filas que tienen el mismo 'user_id'"
   ]
  },
  {
   "cell_type": "code",
   "execution_count": 18,
   "metadata": {},
   "outputs": [
    {
     "name": "stdout",
     "output_type": "stream",
     "text": [
      "Cantidad de \"item_id\" repetidos por cada usuario:  0\n"
     ]
    }
   ],
   "source": [
    "duplicados = df_user_items[df_user_items.duplicated(subset=['user_id', 'item_id'], keep=False)]\n",
    "print('Cantidad de \"item_id\" repetidos por cada usuario: ',len(duplicados))"
   ]
  },
  {
   "cell_type": "markdown",
   "metadata": {},
   "source": [
    "## Tratamiento del campo 'playtime_forever'"
   ]
  },
  {
   "cell_type": "markdown",
   "metadata": {},
   "source": [
    "### Exploramos 'playtime_forever'"
   ]
  },
  {
   "cell_type": "code",
   "execution_count": 19,
   "metadata": {},
   "outputs": [
    {
     "name": "stdout",
     "output_type": "stream",
     "text": [
      "(5094082, 8)\n",
      "Tipo de dato en 'playtime_forever': int64\n",
      "columnas en df_user_items:  [user_id, items_count, steam_id, user_url, item_id, item_name, playtime_forever, playtime_2weeks]\n",
      "Cantidad de valores faltantes en 'playtime_forever': 0\n"
     ]
    }
   ],
   "source": [
    "print(df_user_items.shape)\n",
    "print(\"Tipo de dato en 'playtime_forever':\",df_user_items['playtime_forever'].dtype)\n",
    "print('columnas en df_user_items: ','[' + ', '.join(df_user_items.keys()) + ']')\n",
    "print(\"Cantidad de valores faltantes en 'playtime_forever':\",df_user_items['playtime_forever'].isnull().sum())"
   ]
  },
  {
   "cell_type": "markdown",
   "metadata": {},
   "source": [
    "Mostramos los valores unicos de 'price'"
   ]
  },
  {
   "cell_type": "code",
   "execution_count": 20,
   "metadata": {},
   "outputs": [
    {
     "name": "stdout",
     "output_type": "stream",
     "text": [
      "Número de valores únicos en 'playtime_forever':  48861\n",
      "Número de valores únicos en 'playtime_forever':  48861\n",
      "[[  8209  19848  40768 142052   1559  55766  75746  89284  66528  16501]\n",
      " [ 29553  36939  42188  19178   1299  21177 138407  12488  38293  40507]\n",
      " [   846  51656 110734   8108  41266  11413  13433  48018  39050  12540]\n",
      " [ 42637  14522  34839     65  18523  48014  14949  39620   4404  61144]\n",
      " [ 12937  10211  65201  17034    233  72725  65113   9347  22207  27416]\n",
      " [ 41231  51458   2969  28576 125805  36374  42888 145626  21265  37248]\n",
      " [  1330  32741  22206  19997  94728  39173  22414  30540  20362  54049]\n",
      " [ 29502  62129  28018  66703  18415  17174   7483  63490  86716  39717]\n",
      " [  6492  29875  33219  77648  31107  31846   8556  81788  15777  20426]\n",
      " [  6190   2772  37657  38051  91503   1336  63394  18941  53168   4201]\n",
      " [ 12447  36064  36582  23527   5735  21752   4968   2115  40945  94731]\n",
      " [  4762  65044  79785  14874  37543 152610  63754  38514 103171   6147]\n",
      " [  7747  25061 206566 124236  73510   4246  94255   2467  26382  23824]\n",
      " [  6040  74161   9608  95283  26619  33235  41788   2500  38240   8629]\n",
      " [ 77062  49296   8630  26217  45794  91562  27079 102495   7137  50731]\n",
      " [  3511  93221     52  24419  22529  41632  10497   6112  16704 106862]\n",
      " [  5796  33517  15094    977  24093 303466  72713  43553  22657   7949]\n",
      " [   948 143055  17748  58999  16841   5084  84211  62282  41069  49690]\n",
      " [  9221  38954  13466  18835  10771   4266  66612  16552  35518  38153]\n",
      " [ 14203  14172  42838  63648   8701   5591  46945  19944  20863  79820]]\n"
     ]
    }
   ],
   "source": [
    "unique_prices = df_user_items['playtime_forever'].unique()\n",
    "print(\"Número de valores únicos en 'playtime_forever': \", len(unique_prices))\n",
    "\n",
    "print(\"Número de valores únicos en 'playtime_forever': \", len(unique_prices))\n",
    "\n",
    "# Seleccionar aleatoriamente 80 valores únicos de la serie\n",
    "selected_values = np.random.choice(unique_prices, 200, replace=False)\n",
    "\n",
    "# Dar forma a la matriz de 8x10\n",
    "matriz = selected_values.reshape(20, 10)\n",
    "\n",
    "# Imprimir la matriz\n",
    "print(matriz)\n"
   ]
  },
  {
   "cell_type": "markdown",
   "metadata": {},
   "source": [
    "Al parecer los valores son validos, nos asegurmos.  \n",
    "Como todos los valores deben ser digitos, es decir con formato tipo `r'^\\d+$'`, verificamos si hay valores que no cumplan tal formato"
   ]
  },
  {
   "cell_type": "code",
   "execution_count": 21,
   "metadata": {},
   "outputs": [
    {
     "name": "stdout",
     "output_type": "stream",
     "text": [
      "Valores en 'playtime_forever' sin el formato 'r'^\\d+$':  0\n"
     ]
    }
   ],
   "source": [
    "# Busca valores en 'item_id' que no sigan el formato deseado\n",
    "valores_no_validos = df_user_items[~df_user_items['playtime_forever'].astype(str).str.contains(r'^\\d+$')]\n",
    "\n",
    "print(\"Valores en 'playtime_forever' sin el formato 'r'^\\d+$': \", len(valores_no_validos['playtime_forever'])) #muestra la cantidad de valores sin el formato"
   ]
  },
  {
   "cell_type": "markdown",
   "metadata": {},
   "source": [
    "## Guardamos el dataset preparado"
   ]
  },
  {
   "cell_type": "code",
   "execution_count": 22,
   "metadata": {},
   "outputs": [],
   "source": [
    "#df_user_items.to_csv('../Data/df_user_items_prepared.csv', index=False)"
   ]
  },
  {
   "cell_type": "markdown",
   "metadata": {},
   "source": [
    "# CREACION DE LOS ENPOINT DATASETS"
   ]
  },
  {
   "cell_type": "markdown",
   "metadata": {},
   "source": [
    "Terminada la preparacion de los datos en 'df_user_items' toca crear los diferentes datasets en formato parquet que van alimentar al servidor de consultas"
   ]
  },
  {
   "cell_type": "markdown",
   "metadata": {},
   "source": [
    "## Endpoint `'def userdata(user_id:str)'`"
   ]
  },
  {
   "cell_type": "markdown",
   "metadata": {},
   "source": [
    "### Transformacion"
   ]
  },
  {
   "cell_type": "markdown",
   "metadata": {},
   "source": [
    "Filtramos los campos 'user_id' y 'item_id'. Eliminamos el resto"
   ]
  },
  {
   "cell_type": "code",
   "execution_count": 77,
   "metadata": {},
   "outputs": [
    {
     "name": "stdout",
     "output_type": "stream",
     "text": [
      "(5094082, 2)\n",
      "user_id    object\n",
      "item_id    object\n",
      "dtype: object\n"
     ]
    },
    {
     "data": {
      "text/html": [
       "<div>\n",
       "<style scoped>\n",
       "    .dataframe tbody tr th:only-of-type {\n",
       "        vertical-align: middle;\n",
       "    }\n",
       "\n",
       "    .dataframe tbody tr th {\n",
       "        vertical-align: top;\n",
       "    }\n",
       "\n",
       "    .dataframe thead th {\n",
       "        text-align: right;\n",
       "    }\n",
       "</style>\n",
       "<table border=\"1\" class=\"dataframe\">\n",
       "  <thead>\n",
       "    <tr style=\"text-align: right;\">\n",
       "      <th></th>\n",
       "      <th>user_id</th>\n",
       "      <th>item_id</th>\n",
       "    </tr>\n",
       "  </thead>\n",
       "  <tbody>\n",
       "    <tr>\n",
       "      <th>0</th>\n",
       "      <td>76561197970982479</td>\n",
       "      <td>10</td>\n",
       "    </tr>\n",
       "    <tr>\n",
       "      <th>1</th>\n",
       "      <td>76561197970982479</td>\n",
       "      <td>20</td>\n",
       "    </tr>\n",
       "    <tr>\n",
       "      <th>2</th>\n",
       "      <td>76561197970982479</td>\n",
       "      <td>30</td>\n",
       "    </tr>\n",
       "  </tbody>\n",
       "</table>\n",
       "</div>"
      ],
      "text/plain": [
       "             user_id item_id\n",
       "0  76561197970982479      10\n",
       "1  76561197970982479      20\n",
       "2  76561197970982479      30"
      ]
     },
     "execution_count": 77,
     "metadata": {},
     "output_type": "execute_result"
    }
   ],
   "source": [
    "columnas_a_mantener = ['user_id', 'item_id']\n",
    "df_user_items_userdata_user_id_respuesta1 = df_user_items[columnas_a_mantener]\n",
    "\n",
    "print(df_user_items_userdata_user_id_respuesta1.shape)\n",
    "print(df_user_items_userdata_user_id_respuesta1.dtypes)\n",
    "df_user_items_userdata_user_id_respuesta1.head(3)"
   ]
  },
  {
   "cell_type": "markdown",
   "metadata": {},
   "source": [
    "Aligeramos el dataframe para evitar problemas de memoria en el deployment"
   ]
  },
  {
   "cell_type": "code",
   "execution_count": 78,
   "metadata": {},
   "outputs": [
    {
     "name": "stdout",
     "output_type": "stream",
     "text": [
      "Numero de filas y campos antes de la eliminacion:  (5094082, 2)\n",
      "Numero de filas y campos despues de la eliminacion:  (420, 2)\n"
     ]
    }
   ],
   "source": [
    "print('Numero de filas y campos antes de la eliminacion: ',df_user_items_userdata_user_id_respuesta1.shape)\n",
    "valores_permitidos = ['76561198092473445', 'junaid_m_sam']\n",
    "\n",
    "# Crea una máscara booleana para identificar los registros que cumplen con la condición\n",
    "mascara = df_user_items_userdata_user_id_respuesta1['user_id'].isin(valores_permitidos)\n",
    "\n",
    "# Usa la máscara para filtrar el DataFrame y mantener solo los registros deseados\n",
    "df_user_items_userdata_user_id_respuesta1 = df_user_items_userdata_user_id_respuesta1[mascara]\n",
    "\n",
    "print('Numero de filas y campos despues de la eliminacion: ',df_user_items_userdata_user_id_respuesta1.shape)"
   ]
  },
  {
   "cell_type": "markdown",
   "metadata": {},
   "source": [
    "### To Parquet"
   ]
  },
  {
   "cell_type": "code",
   "execution_count": 75,
   "metadata": {},
   "outputs": [],
   "source": [
    "df_user_items_userdata_user_id_respuesta1.to_parquet('../Data/df_user_items_userdata_user_id_respuesta1.parquet')"
   ]
  },
  {
   "cell_type": "markdown",
   "metadata": {},
   "source": [
    "## Endpoint `'def UserForGenre(genero: str)'`"
   ]
  },
  {
   "cell_type": "markdown",
   "metadata": {},
   "source": [
    "### Transformacion"
   ]
  },
  {
   "cell_type": "markdown",
   "metadata": {},
   "source": [
    "Filtramos los campos 'user_id' y 'item_id'. Eliminamos el resto"
   ]
  },
  {
   "cell_type": "code",
   "execution_count": 69,
   "metadata": {},
   "outputs": [
    {
     "name": "stdout",
     "output_type": "stream",
     "text": [
      "(5094082, 3)\n",
      "user_id             object\n",
      "item_id             object\n",
      "playtime_forever     int64\n",
      "dtype: object\n"
     ]
    },
    {
     "data": {
      "text/html": [
       "<div>\n",
       "<style scoped>\n",
       "    .dataframe tbody tr th:only-of-type {\n",
       "        vertical-align: middle;\n",
       "    }\n",
       "\n",
       "    .dataframe tbody tr th {\n",
       "        vertical-align: top;\n",
       "    }\n",
       "\n",
       "    .dataframe thead th {\n",
       "        text-align: right;\n",
       "    }\n",
       "</style>\n",
       "<table border=\"1\" class=\"dataframe\">\n",
       "  <thead>\n",
       "    <tr style=\"text-align: right;\">\n",
       "      <th></th>\n",
       "      <th>user_id</th>\n",
       "      <th>item_id</th>\n",
       "      <th>playtime_forever</th>\n",
       "    </tr>\n",
       "  </thead>\n",
       "  <tbody>\n",
       "    <tr>\n",
       "      <th>0</th>\n",
       "      <td>76561197970982479</td>\n",
       "      <td>10</td>\n",
       "      <td>6</td>\n",
       "    </tr>\n",
       "    <tr>\n",
       "      <th>1</th>\n",
       "      <td>76561197970982479</td>\n",
       "      <td>20</td>\n",
       "      <td>0</td>\n",
       "    </tr>\n",
       "    <tr>\n",
       "      <th>2</th>\n",
       "      <td>76561197970982479</td>\n",
       "      <td>30</td>\n",
       "      <td>7</td>\n",
       "    </tr>\n",
       "  </tbody>\n",
       "</table>\n",
       "</div>"
      ],
      "text/plain": [
       "             user_id item_id  playtime_forever\n",
       "0  76561197970982479      10                 6\n",
       "1  76561197970982479      20                 0\n",
       "2  76561197970982479      30                 7"
      ]
     },
     "execution_count": 69,
     "metadata": {},
     "output_type": "execute_result"
    }
   ],
   "source": [
    "columnas_a_mantener = ['user_id', 'item_id', 'playtime_forever']\n",
    "df_user_items_userforgenre_genero = df_user_items[columnas_a_mantener]\n",
    "\n",
    "print(df_user_items_userforgenre_genero.shape)\n",
    "print(df_user_items_userforgenre_genero.dtypes)\n",
    "df_user_items_userforgenre_genero.head(3)"
   ]
  },
  {
   "cell_type": "markdown",
   "metadata": {},
   "source": [
    "Aligeramos el dataframe para evitar problemas de memoria en el deployment"
   ]
  },
  {
   "cell_type": "code",
   "execution_count": 70,
   "metadata": {},
   "outputs": [
    {
     "name": "stdout",
     "output_type": "stream",
     "text": [
      "Numero de filas y campos antes de la eliminacion:  (5094082, 3)\n",
      "Numero de filas y campos despues de la eliminacion:  (1917974, 3)\n"
     ]
    }
   ],
   "source": [
    "print('Numero de filas y campos antes de la eliminacion: ',df_user_items_userforgenre_genero.shape)\n",
    "\n",
    "df_user_items_userforgenre_genero = df_user_items_userforgenre_genero[(df_user_items_userforgenre_genero['playtime_forever'] < 0) | (df_user_items_userforgenre_genero['playtime_forever'] > 100)]\n",
    "\n",
    "conteo_user_id = df_user_items_userforgenre_genero['user_id'].value_counts()\n",
    "\n",
    "# Crea una máscara booleana para identificar valores que se repiten de 1 a 10 veces\n",
    "mascara = (conteo_user_id[df_user_items_userforgenre_genero['user_id']] >= 1) & (conteo_user_id[df_user_items_userforgenre_genero['user_id']] <= 10)\n",
    "\n",
    "mascara.index = df_user_items_userforgenre_genero.index\n",
    "\n",
    "# Usa la máscara para filtrar el DataFrame y eliminar las filas correspondientes\n",
    "df_user_items_userforgenre_genero = df_user_items_userforgenre_genero[~mascara]\n",
    "\n",
    "\n",
    "conteo_item_id = df_user_items_userforgenre_genero['item_id'].value_counts()\n",
    "\n",
    "# Crea una máscara booleana para identificar valores que se repiten de 1 a 10 veces\n",
    "mascara = (conteo_item_id[df_user_items_userforgenre_genero['item_id']] >= 1) & (conteo_item_id[df_user_items_userforgenre_genero['item_id']] <= 10)\n",
    "\n",
    "mascara.index = df_user_items_userforgenre_genero.index\n",
    "\n",
    "# Usa la máscara para filtrar el DataFrame y eliminar las filas correspondientes\n",
    "df_user_items_userforgenre_genero = df_user_items_userforgenre_genero[~mascara]\n",
    "\n",
    "print('Numero de filas y campos despues de la eliminacion: ',df_user_items_userforgenre_genero.shape)\n"
   ]
  },
  {
   "cell_type": "markdown",
   "metadata": {},
   "source": [
    "### To Parquet"
   ]
  },
  {
   "cell_type": "code",
   "execution_count": 71,
   "metadata": {},
   "outputs": [],
   "source": [
    "df_user_items_userforgenre_genero.to_parquet('../Data/df_user_items_userforgenre_genero.parquet', index=False)"
   ]
  },
  {
   "cell_type": "markdown",
   "metadata": {},
   "source": []
  },
  {
   "cell_type": "markdown",
   "metadata": {},
   "source": [
    "## Endpoint `'def recomendacion_usuario(user_id: srt)'`"
   ]
  },
  {
   "cell_type": "markdown",
   "metadata": {},
   "source": [
    "A continuacion preparamos el dataset que alimentará a la etapa de preprocesamiento de datos del sistema de recomendacion"
   ]
  },
  {
   "cell_type": "markdown",
   "metadata": {},
   "source": [
    "### Transformaciones"
   ]
  },
  {
   "cell_type": "markdown",
   "metadata": {},
   "source": [
    "Filtramos los campos 'user_id', 'item_id' y 'item_name'. Eliminamos el resto"
   ]
  },
  {
   "cell_type": "code",
   "execution_count": null,
   "metadata": {},
   "outputs": [
    {
     "name": "stdout",
     "output_type": "stream",
     "text": [
      "(5094082, 3)\n",
      "user_id      object\n",
      "item_id      object\n",
      "item_name    object\n",
      "dtype: object\n",
      "Datos faltantes:\n",
      "user_id      0\n",
      "item_id      0\n",
      "item_name    0\n",
      "dtype: int64\n"
     ]
    },
    {
     "data": {
      "text/html": [
       "<div>\n",
       "<style scoped>\n",
       "    .dataframe tbody tr th:only-of-type {\n",
       "        vertical-align: middle;\n",
       "    }\n",
       "\n",
       "    .dataframe tbody tr th {\n",
       "        vertical-align: top;\n",
       "    }\n",
       "\n",
       "    .dataframe thead th {\n",
       "        text-align: right;\n",
       "    }\n",
       "</style>\n",
       "<table border=\"1\" class=\"dataframe\">\n",
       "  <thead>\n",
       "    <tr style=\"text-align: right;\">\n",
       "      <th></th>\n",
       "      <th>user_id</th>\n",
       "      <th>item_id</th>\n",
       "      <th>item_name</th>\n",
       "    </tr>\n",
       "  </thead>\n",
       "  <tbody>\n",
       "    <tr>\n",
       "      <th>0</th>\n",
       "      <td>76561197970982479</td>\n",
       "      <td>10</td>\n",
       "      <td>Counter-Strike</td>\n",
       "    </tr>\n",
       "    <tr>\n",
       "      <th>1</th>\n",
       "      <td>76561197970982479</td>\n",
       "      <td>20</td>\n",
       "      <td>Team Fortress Classic</td>\n",
       "    </tr>\n",
       "    <tr>\n",
       "      <th>2</th>\n",
       "      <td>76561197970982479</td>\n",
       "      <td>30</td>\n",
       "      <td>Day of Defeat</td>\n",
       "    </tr>\n",
       "  </tbody>\n",
       "</table>\n",
       "</div>"
      ],
      "text/plain": [
       "             user_id item_id              item_name\n",
       "0  76561197970982479      10         Counter-Strike\n",
       "1  76561197970982479      20  Team Fortress Classic\n",
       "2  76561197970982479      30          Day of Defeat"
      ]
     },
     "execution_count": 70,
     "metadata": {},
     "output_type": "execute_result"
    }
   ],
   "source": [
    "columnas_a_mantener = ['user_id','item_id','item_name']\n",
    "df_user_items_recommendacion_usuario_user_id = df_user_items[columnas_a_mantener]\n",
    "\n",
    "print(df_user_items_recommendacion_usuario_user_id.shape)\n",
    "print(df_user_items_recommendacion_usuario_user_id.dtypes)\n",
    "print('Datos faltantes:')\n",
    "print(df_user_items_recommendacion_usuario_user_id.isnull().sum())\n",
    "df_user_items_recommendacion_usuario_user_id.head(3)"
   ]
  },
  {
   "cell_type": "markdown",
   "metadata": {},
   "source": [
    "Nos cercioramos que en 'user_id', 'item_id' y 'item_name' no haya ningun registro con campos vacios "
   ]
  },
  {
   "cell_type": "code",
   "execution_count": null,
   "metadata": {},
   "outputs": [
    {
     "name": "stdout",
     "output_type": "stream",
     "text": [
      "Numero de filas antes de la eliminacion:  (5094082, 8)\n",
      "Numero de filas despues de la eliminacion:  (5094082, 3)\n"
     ]
    }
   ],
   "source": [
    "print('Numero de filas antes de la eliminacion: ',df_user_items_recommendacion_usuario_user_id.shape)\n",
    "\n",
    "df_user_items_recommendacion_usuario_user_id = df_user_items_recommendacion_usuario_user_id[\n",
    "    (df_user_items_recommendacion_usuario_user_id['user_id'].apply(lambda x: len(x) > 0)) &\n",
    "    (df_user_items_recommendacion_usuario_user_id['item_id'].apply(lambda x: len(x) > 0)) &\n",
    "    (df_user_items_recommendacion_usuario_user_id['item_name'].apply(lambda x: len(x) > 0))\n",
    "]\n",
    "\n",
    "print('Numero de filas despues de la eliminacion: ',df_user_items_recommendacion_usuario_user_id.shape)"
   ]
  },
  {
   "cell_type": "markdown",
   "metadata": {},
   "source": [
    "### To Parquet"
   ]
  },
  {
   "cell_type": "code",
   "execution_count": null,
   "metadata": {},
   "outputs": [],
   "source": [
    "df_user_items_recommendacion_usuario_user_id.to_parquet('../Data/df_user_items_recommendacion_usuario_user_id.parquet', index=False)"
   ]
  },
  {
   "cell_type": "markdown",
   "metadata": {},
   "source": [
    "# Codigo no relacionado al proyecto"
   ]
  },
  {
   "cell_type": "markdown",
   "metadata": {},
   "source": [
    "## Listar variables en memoria "
   ]
  },
  {
   "cell_type": "code",
   "execution_count": null,
   "metadata": {},
   "outputs": [
    {
     "name": "stdout",
     "output_type": "stream",
     "text": [
      "Variables encontradas:  26\n",
      "La variable df_user_items pesa 71310066 bytes y es de tipo pandas.core.frame.DataFrame\n",
      "La variable df_user_items_userdata_prepared_desanidado pesa 2088152303 bytes y es de tipo pandas.core.frame.DataFrame\n",
      "La variable filas_repetidas1 pesa 1438635 bytes y es de tipo pandas.core.frame.DataFrame\n",
      "La variable ides_unicos pesa 567408 bytes y es de tipo numpy.ndarray\n"
     ]
    }
   ],
   "source": [
    "import builtins\n",
    "import sys\n",
    "\n",
    "# Obtener la lista de nombres de variables\n",
    "variable_names = dir()\n",
    "variables_descartables = ['exit','quit','Out','In','sys','var','var_name','variable_names','builtins','contenido','size','user_defined_variables','variables_descartables']\n",
    "# Filtrar las variables creadas manualmente\n",
    "user_defined_variables = [\n",
    "    var for var in variable_names \n",
    "    #if not var.startswith('_')\n",
    "    if var not in dir(builtins) and not var.startswith('_') and var not in variables_descartables\n",
    "]\n",
    "#print(user_defined_variables)\n",
    "print('Variables encontradas: ', len(user_defined_variables))\n",
    "# Imprimir el tamaño y la fecha de creación de las variables\n",
    "for var_name in user_defined_variables:\n",
    "    var = globals()[var_name]\n",
    "    if sys.getsizeof(var) >= 100000:\n",
    "        size = sys.getsizeof(var)  \n",
    "        contenido = eval(var_name)\n",
    "        print(f\"La variable {var_name} pesa {size} bytes y es de tipo {str(type(contenido))[8:-2]}\")"
   ]
  }
 ],
 "metadata": {
  "kernelspec": {
   "display_name": "Python 3",
   "language": "python",
   "name": "python3"
  },
  "language_info": {
   "codemirror_mode": {
    "name": "ipython",
    "version": 3
   },
   "file_extension": ".py",
   "mimetype": "text/x-python",
   "name": "python",
   "nbconvert_exporter": "python",
   "pygments_lexer": "ipython3",
   "version": "3.11.1"
  },
  "orig_nbformat": 4
 },
 "nbformat": 4,
 "nbformat_minor": 2
}
