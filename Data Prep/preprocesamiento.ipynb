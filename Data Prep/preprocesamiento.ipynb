{
 "cells": [
  {
   "cell_type": "markdown",
   "metadata": {},
   "source": [
    "# CARGA DEL DATASET Y LIBRERIAS"
   ]
  },
  {
   "cell_type": "markdown",
   "metadata": {},
   "source": [
    "## Importacion de Librerias"
   ]
  },
  {
   "cell_type": "code",
   "execution_count": 13,
   "metadata": {},
   "outputs": [],
   "source": [
    "import pandas as pd\n",
    "from sklearn.metrics.pairwise import cosine_similarity"
   ]
  },
  {
   "cell_type": "markdown",
   "metadata": {},
   "source": [
    "## Carga de los datasets para su tratamiento"
   ]
  },
  {
   "cell_type": "code",
   "execution_count": 3,
   "metadata": {},
   "outputs": [],
   "source": [
    "df_user_reviews_recommendacion_usuario_user_id = pd.read_parquet('../Data/df_user_reviews_recommendacion_usuario_user_id.parquet')\n",
    "df_user_items_recommendacion_usuario_user_id = pd.read_parquet('../Data/df_user_items_recommendacion_usuario_user_id.parquet')"
   ]
  },
  {
   "cell_type": "markdown",
   "metadata": {},
   "source": [
    "# EXPLORACION BASICA"
   ]
  },
  {
   "cell_type": "markdown",
   "metadata": {},
   "source": [
    "## Explorando df_user_reviews_recommendacion_usuario_user_id"
   ]
  },
  {
   "cell_type": "code",
   "execution_count": 4,
   "metadata": {},
   "outputs": [
    {
     "name": "stdout",
     "output_type": "stream",
     "text": [
      "(48498, 4)\n",
      "Tipos de las columnas:\n",
      "user_id               object\n",
      "item_id               object\n",
      "recommend               bool\n",
      "sentiment_analysis     int64\n",
      "dtype: object\n",
      "Datos faltantes:\n",
      "user_id               0\n",
      "item_id               0\n",
      "recommend             0\n",
      "sentiment_analysis    0\n",
      "dtype: int64\n"
     ]
    },
    {
     "data": {
      "text/html": [
       "<div>\n",
       "<style scoped>\n",
       "    .dataframe tbody tr th:only-of-type {\n",
       "        vertical-align: middle;\n",
       "    }\n",
       "\n",
       "    .dataframe tbody tr th {\n",
       "        vertical-align: top;\n",
       "    }\n",
       "\n",
       "    .dataframe thead th {\n",
       "        text-align: right;\n",
       "    }\n",
       "</style>\n",
       "<table border=\"1\" class=\"dataframe\">\n",
       "  <thead>\n",
       "    <tr style=\"text-align: right;\">\n",
       "      <th></th>\n",
       "      <th>user_id</th>\n",
       "      <th>item_id</th>\n",
       "      <th>recommend</th>\n",
       "      <th>sentiment_analysis</th>\n",
       "    </tr>\n",
       "  </thead>\n",
       "  <tbody>\n",
       "    <tr>\n",
       "      <th>0</th>\n",
       "      <td>76561197970982479</td>\n",
       "      <td>1250</td>\n",
       "      <td>True</td>\n",
       "      <td>2</td>\n",
       "    </tr>\n",
       "  </tbody>\n",
       "</table>\n",
       "</div>"
      ],
      "text/plain": [
       "             user_id item_id  recommend  sentiment_analysis\n",
       "0  76561197970982479    1250       True                   2"
      ]
     },
     "execution_count": 4,
     "metadata": {},
     "output_type": "execute_result"
    }
   ],
   "source": [
    "print(df_user_reviews_recommendacion_usuario_user_id.shape)\n",
    "print('Tipos de las columnas:')\n",
    "print(df_user_reviews_recommendacion_usuario_user_id.dtypes)\n",
    "print('Datos faltantes:')\n",
    "print(df_user_reviews_recommendacion_usuario_user_id.isnull().sum())\n",
    "df_user_reviews_recommendacion_usuario_user_id.head(1)"
   ]
  },
  {
   "cell_type": "markdown",
   "metadata": {},
   "source": [
    "## Explorando df_user_items_recommendacion_usuario_user_id"
   ]
  },
  {
   "cell_type": "code",
   "execution_count": 5,
   "metadata": {},
   "outputs": [
    {
     "name": "stdout",
     "output_type": "stream",
     "text": [
      "(5094082, 3)\n",
      "Tipos de las columnas:\n",
      "user_id      object\n",
      "item_id      object\n",
      "item_name    object\n",
      "dtype: object\n",
      "Datos faltantes:\n",
      "user_id      0\n",
      "item_id      0\n",
      "item_name    0\n",
      "dtype: int64\n"
     ]
    },
    {
     "data": {
      "text/html": [
       "<div>\n",
       "<style scoped>\n",
       "    .dataframe tbody tr th:only-of-type {\n",
       "        vertical-align: middle;\n",
       "    }\n",
       "\n",
       "    .dataframe tbody tr th {\n",
       "        vertical-align: top;\n",
       "    }\n",
       "\n",
       "    .dataframe thead th {\n",
       "        text-align: right;\n",
       "    }\n",
       "</style>\n",
       "<table border=\"1\" class=\"dataframe\">\n",
       "  <thead>\n",
       "    <tr style=\"text-align: right;\">\n",
       "      <th></th>\n",
       "      <th>user_id</th>\n",
       "      <th>item_id</th>\n",
       "      <th>item_name</th>\n",
       "    </tr>\n",
       "  </thead>\n",
       "  <tbody>\n",
       "    <tr>\n",
       "      <th>0</th>\n",
       "      <td>76561197970982479</td>\n",
       "      <td>10</td>\n",
       "      <td>Counter-Strike</td>\n",
       "    </tr>\n",
       "  </tbody>\n",
       "</table>\n",
       "</div>"
      ],
      "text/plain": [
       "             user_id item_id       item_name\n",
       "0  76561197970982479      10  Counter-Strike"
      ]
     },
     "execution_count": 5,
     "metadata": {},
     "output_type": "execute_result"
    }
   ],
   "source": [
    "print(df_user_items_recommendacion_usuario_user_id.shape)\n",
    "print('Tipos de las columnas:')\n",
    "print(df_user_items_recommendacion_usuario_user_id.dtypes)\n",
    "print('Datos faltantes:')\n",
    "print(df_user_items_recommendacion_usuario_user_id.isnull().sum())\n",
    "df_user_items_recommendacion_usuario_user_id.head(1)"
   ]
  },
  {
   "cell_type": "markdown",
   "metadata": {},
   "source": [
    "# TRANSFORMACION DE LOS ENDPOINT DATASETS DEL SISTEMA DE RECOMENDACION"
   ]
  },
  {
   "cell_type": "markdown",
   "metadata": {},
   "source": [
    "## Transformaciones"
   ]
  },
  {
   "cell_type": "markdown",
   "metadata": {},
   "source": [
    "### Merging de los datasetes"
   ]
  },
  {
   "cell_type": "markdown",
   "metadata": {},
   "source": [
    "Agregamos el campo 'item_name' del dataset 'df_user_items_recommendacion_usuario_user_id' al dataset 'df_user_reviews_recommendacion_usuario_user_id'."
   ]
  },
  {
   "cell_type": "code",
   "execution_count": 6,
   "metadata": {},
   "outputs": [
    {
     "name": "stdout",
     "output_type": "stream",
     "text": [
      "(48498, 5)\n",
      "columnas en df_recommendacion_usuario_user_id:  [user_id, item_id, recommend, sentiment_analysis, item_name]\n",
      "user_id                   0\n",
      "item_id                   0\n",
      "recommend                 0\n",
      "sentiment_analysis        0\n",
      "item_name             12205\n",
      "dtype: int64\n"
     ]
    },
    {
     "data": {
      "text/html": [
       "<div>\n",
       "<style scoped>\n",
       "    .dataframe tbody tr th:only-of-type {\n",
       "        vertical-align: middle;\n",
       "    }\n",
       "\n",
       "    .dataframe tbody tr th {\n",
       "        vertical-align: top;\n",
       "    }\n",
       "\n",
       "    .dataframe thead th {\n",
       "        text-align: right;\n",
       "    }\n",
       "</style>\n",
       "<table border=\"1\" class=\"dataframe\">\n",
       "  <thead>\n",
       "    <tr style=\"text-align: right;\">\n",
       "      <th></th>\n",
       "      <th>user_id</th>\n",
       "      <th>item_id</th>\n",
       "      <th>recommend</th>\n",
       "      <th>sentiment_analysis</th>\n",
       "      <th>item_name</th>\n",
       "    </tr>\n",
       "  </thead>\n",
       "  <tbody>\n",
       "    <tr>\n",
       "      <th>0</th>\n",
       "      <td>76561197970982479</td>\n",
       "      <td>1250</td>\n",
       "      <td>True</td>\n",
       "      <td>2</td>\n",
       "      <td>Killing Floor</td>\n",
       "    </tr>\n",
       "    <tr>\n",
       "      <th>1</th>\n",
       "      <td>76561197970982479</td>\n",
       "      <td>22200</td>\n",
       "      <td>True</td>\n",
       "      <td>2</td>\n",
       "      <td>Zeno Clash</td>\n",
       "    </tr>\n",
       "    <tr>\n",
       "      <th>2</th>\n",
       "      <td>76561197970982479</td>\n",
       "      <td>43110</td>\n",
       "      <td>True</td>\n",
       "      <td>2</td>\n",
       "      <td>Metro 2033</td>\n",
       "    </tr>\n",
       "  </tbody>\n",
       "</table>\n",
       "</div>"
      ],
      "text/plain": [
       "             user_id item_id  recommend  sentiment_analysis      item_name\n",
       "0  76561197970982479    1250       True                   2  Killing Floor\n",
       "1  76561197970982479   22200       True                   2     Zeno Clash\n",
       "2  76561197970982479   43110       True                   2     Metro 2033"
      ]
     },
     "execution_count": 6,
     "metadata": {},
     "output_type": "execute_result"
    }
   ],
   "source": [
    "df_recommendacion_usuario_user_id = df_user_reviews_recommendacion_usuario_user_id.merge(df_user_items_recommendacion_usuario_user_id, on=['user_id', 'item_id'], how='left')\n",
    "\n",
    "print(df_recommendacion_usuario_user_id.shape)\n",
    "print('columnas en df_recommendacion_usuario_user_id: ','[' + ', '.join(df_recommendacion_usuario_user_id.keys()) + ']')\n",
    "print(df_recommendacion_usuario_user_id.isnull().sum())\n",
    "df_recommendacion_usuario_user_id.head(3)"
   ]
  },
  {
   "cell_type": "markdown",
   "metadata": {},
   "source": [
    "### Tratamiento del dataset mergeado"
   ]
  },
  {
   "cell_type": "markdown",
   "metadata": {},
   "source": [
    "El campo 'item_name' tiene 12205 valores faltantes. Se eliminan"
   ]
  },
  {
   "cell_type": "code",
   "execution_count": 7,
   "metadata": {},
   "outputs": [
    {
     "name": "stdout",
     "output_type": "stream",
     "text": [
      "(36293, 5)\n",
      "user_id               0\n",
      "item_id               0\n",
      "recommend             0\n",
      "sentiment_analysis    0\n",
      "item_name             0\n",
      "dtype: int64\n"
     ]
    }
   ],
   "source": [
    "df_recommendacion_usuario_user_id = df_recommendacion_usuario_user_id.dropna()\n",
    "df_recommendacion_usuario_user_id.reset_index(drop=True, inplace=True)\n",
    "\n",
    "print(df_recommendacion_usuario_user_id.shape)\n",
    "print(df_recommendacion_usuario_user_id.isnull().sum())"
   ]
  },
  {
   "cell_type": "markdown",
   "metadata": {},
   "source": [
    "Filtrar los registros donde 'recommend' es True y 'sentiment_analysis' es igual a 2"
   ]
  },
  {
   "cell_type": "code",
   "execution_count": 8,
   "metadata": {},
   "outputs": [
    {
     "name": "stdout",
     "output_type": "stream",
     "text": [
      "(21959, 5)\n"
     ]
    }
   ],
   "source": [
    "df_recommendacion_usuario_user_id = df_recommendacion_usuario_user_id[(df_recommendacion_usuario_user_id['recommend'] == True) & (df_recommendacion_usuario_user_id['sentiment_analysis'] == 2)]\n",
    "print(df_recommendacion_usuario_user_id.shape)"
   ]
  },
  {
   "cell_type": "markdown",
   "metadata": {},
   "source": [
    "Eliminamos los campos 'recommend' y 'sentiment_analysis'\n"
   ]
  },
  {
   "cell_type": "code",
   "execution_count": 9,
   "metadata": {},
   "outputs": [
    {
     "name": "stdout",
     "output_type": "stream",
     "text": [
      "columnas en df_recommendacion_usuario_user_id:  [user_id, item_id, item_name]\n"
     ]
    }
   ],
   "source": [
    "df_recommendacion_usuario_user_id.drop(columns=['recommend', 'sentiment_analysis'], inplace=True)\n",
    "print('columnas en df_recommendacion_usuario_user_id: ','[' + ', '.join(df_recommendacion_usuario_user_id.keys()) + ']')\n"
   ]
  },
  {
   "cell_type": "markdown",
   "metadata": {},
   "source": [
    "Checkamos 25 registros al azar"
   ]
  },
  {
   "cell_type": "code",
   "execution_count": 11,
   "metadata": {},
   "outputs": [
    {
     "data": {
      "text/html": [
       "<div>\n",
       "<style scoped>\n",
       "    .dataframe tbody tr th:only-of-type {\n",
       "        vertical-align: middle;\n",
       "    }\n",
       "\n",
       "    .dataframe tbody tr th {\n",
       "        vertical-align: top;\n",
       "    }\n",
       "\n",
       "    .dataframe thead th {\n",
       "        text-align: right;\n",
       "    }\n",
       "</style>\n",
       "<table border=\"1\" class=\"dataframe\">\n",
       "  <thead>\n",
       "    <tr style=\"text-align: right;\">\n",
       "      <th></th>\n",
       "      <th>user_id</th>\n",
       "      <th>item_id</th>\n",
       "      <th>item_name</th>\n",
       "    </tr>\n",
       "  </thead>\n",
       "  <tbody>\n",
       "    <tr>\n",
       "      <th>15044</th>\n",
       "      <td>Croosoe</td>\n",
       "      <td>730</td>\n",
       "      <td>Counter-Strike: Global Offensive</td>\n",
       "    </tr>\n",
       "    <tr>\n",
       "      <th>1734</th>\n",
       "      <td>tickets845</td>\n",
       "      <td>224480</td>\n",
       "      <td>Octodad: Dadliest Catch</td>\n",
       "    </tr>\n",
       "    <tr>\n",
       "      <th>11369</th>\n",
       "      <td>WHOTHEFUCKTOOKMYURL</td>\n",
       "      <td>204300</td>\n",
       "      <td>Awesomenauts</td>\n",
       "    </tr>\n",
       "    <tr>\n",
       "      <th>34339</th>\n",
       "      <td>PuggyYo</td>\n",
       "      <td>304930</td>\n",
       "      <td>Unturned</td>\n",
       "    </tr>\n",
       "    <tr>\n",
       "      <th>29186</th>\n",
       "      <td>90s_cars</td>\n",
       "      <td>227300</td>\n",
       "      <td>Euro Truck Simulator 2</td>\n",
       "    </tr>\n",
       "    <tr>\n",
       "      <th>15128</th>\n",
       "      <td>stopreadingthisthing</td>\n",
       "      <td>304930</td>\n",
       "      <td>Unturned</td>\n",
       "    </tr>\n",
       "    <tr>\n",
       "      <th>16057</th>\n",
       "      <td>BillyDatKid</td>\n",
       "      <td>311190</td>\n",
       "      <td>Super Panda Adventures</td>\n",
       "    </tr>\n",
       "    <tr>\n",
       "      <th>30597</th>\n",
       "      <td>76561198060545297</td>\n",
       "      <td>218620</td>\n",
       "      <td>PAYDAY 2</td>\n",
       "    </tr>\n",
       "    <tr>\n",
       "      <th>17650</th>\n",
       "      <td>Ep1cbunny</td>\n",
       "      <td>214560</td>\n",
       "      <td>Mark of the Ninja</td>\n",
       "    </tr>\n",
       "    <tr>\n",
       "      <th>1543</th>\n",
       "      <td>Haelnorr</td>\n",
       "      <td>233450</td>\n",
       "      <td>Prison Architect</td>\n",
       "    </tr>\n",
       "    <tr>\n",
       "      <th>22908</th>\n",
       "      <td>proletar666</td>\n",
       "      <td>258180</td>\n",
       "      <td>Deus Ex: The Fall</td>\n",
       "    </tr>\n",
       "    <tr>\n",
       "      <th>194</th>\n",
       "      <td>EizanAratoFujimaki</td>\n",
       "      <td>70</td>\n",
       "      <td>Half-Life</td>\n",
       "    </tr>\n",
       "    <tr>\n",
       "      <th>6435</th>\n",
       "      <td>Delirious_Panda</td>\n",
       "      <td>230410</td>\n",
       "      <td>Warframe</td>\n",
       "    </tr>\n",
       "    <tr>\n",
       "      <th>21215</th>\n",
       "      <td>sirasscakes</td>\n",
       "      <td>255710</td>\n",
       "      <td>Cities: Skylines</td>\n",
       "    </tr>\n",
       "    <tr>\n",
       "      <th>654</th>\n",
       "      <td>bobseagull</td>\n",
       "      <td>730</td>\n",
       "      <td>Counter-Strike: Global Offensive</td>\n",
       "    </tr>\n",
       "    <tr>\n",
       "      <th>25412</th>\n",
       "      <td>UnbearableCat</td>\n",
       "      <td>211420</td>\n",
       "      <td>Dark Souls: Prepare to Die Edition</td>\n",
       "    </tr>\n",
       "    <tr>\n",
       "      <th>26783</th>\n",
       "      <td>AKnightOfCydonia</td>\n",
       "      <td>233250</td>\n",
       "      <td>Planetary Annihilation</td>\n",
       "    </tr>\n",
       "    <tr>\n",
       "      <th>1079</th>\n",
       "      <td>76561198084697858</td>\n",
       "      <td>212680</td>\n",
       "      <td>FTL: Faster Than Light</td>\n",
       "    </tr>\n",
       "    <tr>\n",
       "      <th>28660</th>\n",
       "      <td>eileen007</td>\n",
       "      <td>730</td>\n",
       "      <td>Counter-Strike: Global Offensive</td>\n",
       "    </tr>\n",
       "    <tr>\n",
       "      <th>36217</th>\n",
       "      <td>Fezi</td>\n",
       "      <td>8930</td>\n",
       "      <td>Sid Meier's Civilization V</td>\n",
       "    </tr>\n",
       "    <tr>\n",
       "      <th>22164</th>\n",
       "      <td>ToxicLegionaire</td>\n",
       "      <td>218620</td>\n",
       "      <td>PAYDAY 2</td>\n",
       "    </tr>\n",
       "    <tr>\n",
       "      <th>5301</th>\n",
       "      <td>alyboxie</td>\n",
       "      <td>61310</td>\n",
       "      <td>Fractal: Make Blooms Not War</td>\n",
       "    </tr>\n",
       "    <tr>\n",
       "      <th>35019</th>\n",
       "      <td>76561198095725786</td>\n",
       "      <td>70000</td>\n",
       "      <td>Dino D-Day</td>\n",
       "    </tr>\n",
       "    <tr>\n",
       "      <th>19574</th>\n",
       "      <td>Reskrew</td>\n",
       "      <td>22380</td>\n",
       "      <td>Fallout: New Vegas</td>\n",
       "    </tr>\n",
       "    <tr>\n",
       "      <th>8508</th>\n",
       "      <td>Kermit_Suicide</td>\n",
       "      <td>315460</td>\n",
       "      <td>Dig or Die</td>\n",
       "    </tr>\n",
       "  </tbody>\n",
       "</table>\n",
       "</div>"
      ],
      "text/plain": [
       "                    user_id item_id                           item_name\n",
       "15044               Croosoe     730    Counter-Strike: Global Offensive\n",
       "1734             tickets845  224480             Octodad: Dadliest Catch\n",
       "11369   WHOTHEFUCKTOOKMYURL  204300                        Awesomenauts\n",
       "34339               PuggyYo  304930                            Unturned\n",
       "29186              90s_cars  227300              Euro Truck Simulator 2\n",
       "15128  stopreadingthisthing  304930                            Unturned\n",
       "16057           BillyDatKid  311190              Super Panda Adventures\n",
       "30597     76561198060545297  218620                            PAYDAY 2\n",
       "17650             Ep1cbunny  214560                   Mark of the Ninja\n",
       "1543               Haelnorr  233450                    Prison Architect\n",
       "22908           proletar666  258180                   Deus Ex: The Fall\n",
       "194      EizanAratoFujimaki      70                           Half-Life\n",
       "6435        Delirious_Panda  230410                            Warframe\n",
       "21215           sirasscakes  255710                    Cities: Skylines\n",
       "654              bobseagull     730    Counter-Strike: Global Offensive\n",
       "25412         UnbearableCat  211420  Dark Souls: Prepare to Die Edition\n",
       "26783      AKnightOfCydonia  233250              Planetary Annihilation\n",
       "1079      76561198084697858  212680              FTL: Faster Than Light\n",
       "28660             eileen007     730    Counter-Strike: Global Offensive\n",
       "36217                  Fezi    8930          Sid Meier's Civilization V\n",
       "22164       ToxicLegionaire  218620                            PAYDAY 2\n",
       "5301               alyboxie   61310        Fractal: Make Blooms Not War\n",
       "35019     76561198095725786   70000                          Dino D-Day\n",
       "19574               Reskrew   22380                  Fallout: New Vegas\n",
       "8508         Kermit_Suicide  315460                          Dig or Die"
      ]
     },
     "execution_count": 11,
     "metadata": {},
     "output_type": "execute_result"
    }
   ],
   "source": [
    "muestra = df_recommendacion_usuario_user_id.sample(n=100, random_state= 60).head(25) \n",
    "muestra"
   ]
  },
  {
   "cell_type": "markdown",
   "metadata": {},
   "source": [
    "11369 is really pissed off!"
   ]
  },
  {
   "cell_type": "markdown",
   "metadata": {},
   "source": []
  },
  {
   "cell_type": "markdown",
   "metadata": {},
   "source": [
    "## Guardamos los datasets preparados"
   ]
  },
  {
   "cell_type": "code",
   "execution_count": 21,
   "metadata": {},
   "outputs": [],
   "source": [
    "df_recommendacion_usuario_user_id.to_parquet('../Data/df_recommendacion_usuario_user_id.parquet', index=False)"
   ]
  }
 ],
 "metadata": {
  "kernelspec": {
   "display_name": "Python 3",
   "language": "python",
   "name": "python3"
  },
  "language_info": {
   "codemirror_mode": {
    "name": "ipython",
    "version": 3
   },
   "file_extension": ".py",
   "mimetype": "text/x-python",
   "name": "python",
   "nbconvert_exporter": "python",
   "pygments_lexer": "ipython3",
   "version": "3.11.1"
  },
  "orig_nbformat": 4
 },
 "nbformat": 4,
 "nbformat_minor": 2
}
