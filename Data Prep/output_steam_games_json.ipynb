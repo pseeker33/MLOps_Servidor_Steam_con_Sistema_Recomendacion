{
 "cells": [
  {
   "cell_type": "markdown",
   "metadata": {},
   "source": [
    "# CARGA DEL DATASET Y LIBRERIAS"
   ]
  },
  {
   "cell_type": "markdown",
   "metadata": {},
   "source": [
    "## Importacion de Librerias"
   ]
  },
  {
   "cell_type": "code",
   "execution_count": 231,
   "metadata": {},
   "outputs": [],
   "source": [
    "import pandas as pd\n",
    "import numpy as np\n",
    "import re\n",
    "\n",
    "#Seteos del notebook\n",
    "#pd.set_option('display.max_colwidth', 40)\n",
    "#pd.options.display.min_rows\n",
    "#pd.set_option('display.width', 1000)"
   ]
  },
  {
   "cell_type": "markdown",
   "metadata": {},
   "source": [
    "## Carga del dataset crudo para su tratamiento"
   ]
  },
  {
   "cell_type": "code",
   "execution_count": 232,
   "metadata": {},
   "outputs": [],
   "source": [
    "df_steam_games = pd.read_json('../raw_data/output_steam_games.json', lines=True)"
   ]
  },
  {
   "cell_type": "markdown",
   "metadata": {},
   "source": [
    "# LIMPIEZA Y TRANSFORMACION DEL DATASET CRUDO"
   ]
  },
  {
   "cell_type": "markdown",
   "metadata": {},
   "source": [
    "## Exploracion Basica"
   ]
  },
  {
   "cell_type": "code",
   "execution_count": 233,
   "metadata": {},
   "outputs": [
    {
     "name": "stdout",
     "output_type": "stream",
     "text": [
      "columnas en df_steam_games:  [publisher, genres, app_name, title, url, release_date, tags, reviews_url, specs, price, early_access, id, developer]\n"
     ]
    }
   ],
   "source": [
    "print('columnas en df_steam_games: ','[' + ', '.join(df_steam_games.keys()) + ']')"
   ]
  },
  {
   "cell_type": "code",
   "execution_count": 234,
   "metadata": {},
   "outputs": [
    {
     "name": "stdout",
     "output_type": "stream",
     "text": [
      "Numero de filas y campos:  (120445, 13)\n",
      "Tipos de las columnas:\n"
     ]
    },
    {
     "name": "stdout",
     "output_type": "stream",
     "text": [
      "publisher        object\n",
      "genres           object\n",
      "app_name         object\n",
      "title            object\n",
      "url              object\n",
      "release_date     object\n",
      "tags             object\n",
      "reviews_url      object\n",
      "specs            object\n",
      "price            object\n",
      "early_access    float64\n",
      "id              float64\n",
      "developer        object\n",
      "dtype: object\n",
      "\n",
      "\n",
      "Datos faltantes:\n",
      "publisher       96362\n",
      "genres          91593\n",
      "app_name        88312\n",
      "title           90360\n",
      "url             88310\n",
      "release_date    90377\n",
      "tags            88473\n",
      "reviews_url     88312\n",
      "specs           88980\n",
      "price           89687\n",
      "early_access    88310\n",
      "id              88312\n",
      "developer       91609\n",
      "dtype: int64\n"
     ]
    },
    {
     "data": {
      "text/html": [
       "<div>\n",
       "<style scoped>\n",
       "    .dataframe tbody tr th:only-of-type {\n",
       "        vertical-align: middle;\n",
       "    }\n",
       "\n",
       "    .dataframe tbody tr th {\n",
       "        vertical-align: top;\n",
       "    }\n",
       "\n",
       "    .dataframe thead th {\n",
       "        text-align: right;\n",
       "    }\n",
       "</style>\n",
       "<table border=\"1\" class=\"dataframe\">\n",
       "  <thead>\n",
       "    <tr style=\"text-align: right;\">\n",
       "      <th></th>\n",
       "      <th>publisher</th>\n",
       "      <th>genres</th>\n",
       "      <th>app_name</th>\n",
       "      <th>title</th>\n",
       "      <th>url</th>\n",
       "      <th>release_date</th>\n",
       "      <th>tags</th>\n",
       "      <th>reviews_url</th>\n",
       "      <th>specs</th>\n",
       "      <th>price</th>\n",
       "      <th>early_access</th>\n",
       "      <th>id</th>\n",
       "      <th>developer</th>\n",
       "    </tr>\n",
       "  </thead>\n",
       "  <tbody>\n",
       "    <tr>\n",
       "      <th>0</th>\n",
       "      <td>None</td>\n",
       "      <td>None</td>\n",
       "      <td>None</td>\n",
       "      <td>None</td>\n",
       "      <td>None</td>\n",
       "      <td>None</td>\n",
       "      <td>None</td>\n",
       "      <td>None</td>\n",
       "      <td>None</td>\n",
       "      <td>None</td>\n",
       "      <td>NaN</td>\n",
       "      <td>NaN</td>\n",
       "      <td>None</td>\n",
       "    </tr>\n",
       "    <tr>\n",
       "      <th>1</th>\n",
       "      <td>None</td>\n",
       "      <td>None</td>\n",
       "      <td>None</td>\n",
       "      <td>None</td>\n",
       "      <td>None</td>\n",
       "      <td>None</td>\n",
       "      <td>None</td>\n",
       "      <td>None</td>\n",
       "      <td>None</td>\n",
       "      <td>None</td>\n",
       "      <td>NaN</td>\n",
       "      <td>NaN</td>\n",
       "      <td>None</td>\n",
       "    </tr>\n",
       "    <tr>\n",
       "      <th>2</th>\n",
       "      <td>None</td>\n",
       "      <td>None</td>\n",
       "      <td>None</td>\n",
       "      <td>None</td>\n",
       "      <td>None</td>\n",
       "      <td>None</td>\n",
       "      <td>None</td>\n",
       "      <td>None</td>\n",
       "      <td>None</td>\n",
       "      <td>None</td>\n",
       "      <td>NaN</td>\n",
       "      <td>NaN</td>\n",
       "      <td>None</td>\n",
       "    </tr>\n",
       "  </tbody>\n",
       "</table>\n",
       "</div>"
      ],
      "text/plain": [
       "  publisher genres app_name title   url release_date  tags reviews_url specs   \n",
       "0      None   None     None  None  None         None  None        None  None  \\\n",
       "1      None   None     None  None  None         None  None        None  None   \n",
       "2      None   None     None  None  None         None  None        None  None   \n",
       "\n",
       "  price  early_access  id developer  \n",
       "0  None           NaN NaN      None  \n",
       "1  None           NaN NaN      None  \n",
       "2  None           NaN NaN      None  "
      ]
     },
     "execution_count": 234,
     "metadata": {},
     "output_type": "execute_result"
    }
   ],
   "source": [
    "print('Numero de filas y campos: ',df_steam_games.shape)\n",
    "print('Tipos de las columnas:')\n",
    "print(df_steam_games.dtypes)\n",
    "print('\\n')\n",
    "\n",
    "print('Datos faltantes:')\n",
    "print(df_steam_games.isnull().sum())\n",
    "df_steam_games.head(3)\n",
    "\n",
    "#df_user_reviews_userdata_prepared[['user_id','user_url']].head(5)"
   ]
  },
  {
   "cell_type": "markdown",
   "metadata": {},
   "source": [
    "Al parecer hay muchos valores faltantes en el dataset"
   ]
  },
  {
   "cell_type": "markdown",
   "metadata": {},
   "source": [
    "## Eliminacion de Datos Faltantes"
   ]
  },
  {
   "cell_type": "markdown",
   "metadata": {},
   "source": [
    "Eliminamos filas completamente vacias y reseteamos el indice"
   ]
  },
  {
   "cell_type": "code",
   "execution_count": 235,
   "metadata": {},
   "outputs": [
    {
     "name": "stdout",
     "output_type": "stream",
     "text": [
      "Numero de filas y campos antes de la eliminacion:  (120445, 13)\n",
      "Numero de filas y campos despues de la eliminacion:  (32135, 13)\n",
      "Datos faltantes:\n",
      "publisher       8052\n",
      "genres          3283\n",
      "app_name           2\n",
      "title           2050\n",
      "url                0\n",
      "release_date    2067\n",
      "tags             163\n",
      "reviews_url        2\n",
      "specs            670\n",
      "price           1377\n",
      "early_access       0\n",
      "id                 2\n",
      "developer       3299\n",
      "dtype: int64\n"
     ]
    }
   ],
   "source": [
    "print('Numero de filas y campos antes de la eliminacion: ',df_steam_games.shape)\n",
    "df_steam_games = df_steam_games.dropna(how='all') #elimina filas con valores faltantes en todas las columnas\n",
    "print('Numero de filas y campos despues de la eliminacion: ',df_steam_games.shape)\n",
    "df_steam_games.reset_index(inplace = True, drop = True)\n",
    "\n",
    "print('Datos faltantes:')\n",
    "print(df_steam_games.isnull().sum())"
   ]
  },
  {
   "cell_type": "markdown",
   "metadata": {},
   "source": [
    "Eliminamos todas las filas con valores faltantes en las columnas 'id' y 'price' Y reseteamos el indice"
   ]
  },
  {
   "cell_type": "code",
   "execution_count": 236,
   "metadata": {},
   "outputs": [
    {
     "name": "stdout",
     "output_type": "stream",
     "text": [
      "publisher       7773\n",
      "genres          3135\n",
      "app_name           0\n",
      "title           1932\n",
      "url                0\n",
      "release_date    1936\n",
      "tags             130\n",
      "reviews_url        0\n",
      "specs            655\n",
      "price              0\n",
      "early_access       0\n",
      "id                 0\n",
      "developer       3156\n",
      "dtype: int64\n"
     ]
    }
   ],
   "source": [
    "df_steam_games = df_steam_games.dropna(subset=['price'])\n",
    "df_steam_games = df_steam_games.dropna(subset=['id'])\n",
    "df_steam_games.reset_index(inplace = True, drop = True)\n",
    "\n",
    "print(df_steam_games.isnull().sum())"
   ]
  },
  {
   "cell_type": "markdown",
   "metadata": {},
   "source": [
    "## Tratamiento del campo 'id'"
   ]
  },
  {
   "cell_type": "markdown",
   "metadata": {},
   "source": [
    "### Exploramos 'id'"
   ]
  },
  {
   "cell_type": "code",
   "execution_count": 237,
   "metadata": {},
   "outputs": [
    {
     "name": "stdout",
     "output_type": "stream",
     "text": [
      "columnas en df_steam_games:  [publisher, genres, app_name, title, url, release_date, tags, reviews_url, specs, price, early_access, id, developer]\n",
      "Tipo de dato en 'id': float64\n"
     ]
    }
   ],
   "source": [
    "print('columnas en df_steam_games: ','[' + ', '.join(df_steam_games.keys()) + ']')\n",
    "print(\"Tipo de dato en 'id':\",df_steam_games['id'].dtype)\n"
   ]
  },
  {
   "cell_type": "markdown",
   "metadata": {},
   "source": [
    "Verificamos si hay valores unicos no numéricos en  'id'"
   ]
  },
  {
   "cell_type": "code",
   "execution_count": 238,
   "metadata": {},
   "outputs": [
    {
     "name": "stdout",
     "output_type": "stream",
     "text": [
      "Valores no numericos en 'id':  []\n"
     ]
    }
   ],
   "source": [
    "valores_no_numericos = [valor for valor in df_steam_games['id'].unique() if not str(valor).replace('.', '', 1).isdigit()] \n",
    "print(\"Valores no numericos en 'id': \", valores_no_numericos)"
   ]
  },
  {
   "cell_type": "markdown",
   "metadata": {},
   "source": [
    "Todos los valores en la columna 'id' deben tener el formato \"xx.00\". Verificamos si hay valores que no cumplan tal formato"
   ]
  },
  {
   "cell_type": "code",
   "execution_count": 239,
   "metadata": {},
   "outputs": [
    {
     "name": "stdout",
     "output_type": "stream",
     "text": [
      "Ides sin el formato \"xx.00\":  0\n"
     ]
    }
   ],
   "source": [
    "# Busca valores en 'id' que no sigan el formato deseado\n",
    "valores_no_validos = df_steam_games[~df_steam_games['id'].astype(str).str.contains(r'^\\d+\\.0$')]\n",
    "#valores_no_validos = df_steam_games_userdata_prepared[~df_steam_games_userdata_prepared['id'].astype(str).str.match(r'^\\d+\\.\\d{1}$')]\n",
    "\n",
    "print('Ides sin el formato \"xx.00\": ', len(valores_no_validos['id'])) #muestra la cantidad de valores sin el formato"
   ]
  },
  {
   "cell_type": "markdown",
   "metadata": {},
   "source": [
    "Los ides deben ser unicos, por lo que verificamos si existen valores repetidos"
   ]
  },
  {
   "cell_type": "code",
   "execution_count": 240,
   "metadata": {},
   "outputs": [
    {
     "name": "stdout",
     "output_type": "stream",
     "text": [
      "Total de valores en 'id':  30756\n",
      "Número de valores únicos en 'id':  30755\n"
     ]
    }
   ],
   "source": [
    "#Muestra los valores unicos en 'id'\n",
    "ides = df_steam_games['id'] #muestra todos los valores únicos en la columna 'price'\n",
    "print(\"Total de valores en 'id': \", len(ides))\n",
    "\n",
    "ides_unicos = df_steam_games['id'].unique() #muestra valores únicos en la columna 'price'\n",
    "print(\"Número de valores únicos en 'id': \", len(ides_unicos))\n"
   ]
  },
  {
   "cell_type": "markdown",
   "metadata": {},
   "source": [
    "Inferimos que existe un valor numerico repetido en 'id'. Lo capturamos y mostramos las filas implicadas "
   ]
  },
  {
   "cell_type": "code",
   "execution_count": 241,
   "metadata": {},
   "outputs": [
    {
     "name": "stdout",
     "output_type": "stream",
     "text": [
      "El id 612880.0 se repite en las filas con indices: [13286, 13926].\n"
     ]
    },
    {
     "data": {
      "text/html": [
       "<div>\n",
       "<style scoped>\n",
       "    .dataframe tbody tr th:only-of-type {\n",
       "        vertical-align: middle;\n",
       "    }\n",
       "\n",
       "    .dataframe tbody tr th {\n",
       "        vertical-align: top;\n",
       "    }\n",
       "\n",
       "    .dataframe thead th {\n",
       "        text-align: right;\n",
       "    }\n",
       "</style>\n",
       "<table border=\"1\" class=\"dataframe\">\n",
       "  <thead>\n",
       "    <tr style=\"text-align: right;\">\n",
       "      <th></th>\n",
       "      <th>publisher</th>\n",
       "      <th>genres</th>\n",
       "      <th>app_name</th>\n",
       "      <th>title</th>\n",
       "      <th>url</th>\n",
       "      <th>release_date</th>\n",
       "      <th>tags</th>\n",
       "      <th>reviews_url</th>\n",
       "      <th>specs</th>\n",
       "      <th>price</th>\n",
       "      <th>early_access</th>\n",
       "      <th>id</th>\n",
       "      <th>developer</th>\n",
       "    </tr>\n",
       "  </thead>\n",
       "  <tbody>\n",
       "    <tr>\n",
       "      <th>13286</th>\n",
       "      <td>Bethesda Softworks</td>\n",
       "      <td>[Action]</td>\n",
       "      <td>Wolfenstein II: The New Colossus</td>\n",
       "      <td>Wolfenstein II: The New Colossus</td>\n",
       "      <td>http://store.steampowered.com/app/612880/</td>\n",
       "      <td>2017-10-26</td>\n",
       "      <td>[Action, FPS, Gore, Violent, Alternate History...</td>\n",
       "      <td>http://steamcommunity.com/app/612880/reviews/?...</td>\n",
       "      <td>[Single-player, Steam Achievements, Full contr...</td>\n",
       "      <td>59.99</td>\n",
       "      <td>0.0</td>\n",
       "      <td>612880.0</td>\n",
       "      <td>Machine Games</td>\n",
       "    </tr>\n",
       "    <tr>\n",
       "      <th>13926</th>\n",
       "      <td>Bethesda Softworks</td>\n",
       "      <td>[Action]</td>\n",
       "      <td>Wolfenstein II: The New Colossus</td>\n",
       "      <td>Wolfenstein II: The New Colossus</td>\n",
       "      <td>http://store.steampowered.com/app/612880/Wolfe...</td>\n",
       "      <td>2017-10-26</td>\n",
       "      <td>[Action, FPS, Gore, Violent, Alternate History...</td>\n",
       "      <td>http://steamcommunity.com/app/612880/reviews/?...</td>\n",
       "      <td>[Single-player, Steam Achievements, Full contr...</td>\n",
       "      <td>59.99</td>\n",
       "      <td>0.0</td>\n",
       "      <td>612880.0</td>\n",
       "      <td>Machine Games</td>\n",
       "    </tr>\n",
       "  </tbody>\n",
       "</table>\n",
       "</div>"
      ],
      "text/plain": [
       "                publisher    genres                          app_name   \n",
       "13286  Bethesda Softworks  [Action]  Wolfenstein II: The New Colossus  \\\n",
       "13926  Bethesda Softworks  [Action]  Wolfenstein II: The New Colossus   \n",
       "\n",
       "                                  title   \n",
       "13286  Wolfenstein II: The New Colossus  \\\n",
       "13926  Wolfenstein II: The New Colossus   \n",
       "\n",
       "                                                     url release_date   \n",
       "13286          http://store.steampowered.com/app/612880/   2017-10-26  \\\n",
       "13926  http://store.steampowered.com/app/612880/Wolfe...   2017-10-26   \n",
       "\n",
       "                                                    tags   \n",
       "13286  [Action, FPS, Gore, Violent, Alternate History...  \\\n",
       "13926  [Action, FPS, Gore, Violent, Alternate History...   \n",
       "\n",
       "                                             reviews_url   \n",
       "13286  http://steamcommunity.com/app/612880/reviews/?...  \\\n",
       "13926  http://steamcommunity.com/app/612880/reviews/?...   \n",
       "\n",
       "                                                   specs  price  early_access   \n",
       "13286  [Single-player, Steam Achievements, Full contr...  59.99           0.0  \\\n",
       "13926  [Single-player, Steam Achievements, Full contr...  59.99           0.0   \n",
       "\n",
       "             id      developer  \n",
       "13286  612880.0  Machine Games  \n",
       "13926  612880.0  Machine Games  "
      ]
     },
     "execution_count": 241,
     "metadata": {},
     "output_type": "execute_result"
    }
   ],
   "source": [
    "# Captura el valor repetido en 'id'\n",
    "id_repetido = df_steam_games['id'].value_counts().index[df_steam_games['id'].value_counts() > 1]\n",
    "\n",
    "#Captura los indices de las filas que tienen el indice repetido\n",
    "indices_filas_repetidas = df_steam_games[df_steam_games['id'] == id_repetido[0]].index.tolist()\n",
    "\n",
    "# Captura todas las filas con el valor repetido en 'id'\n",
    "filas_con_ides_rep = df_steam_games.iloc[indices_filas_repetidas]\n",
    "\n",
    "#Imprime las capturas\n",
    "print(f\"El id {id_repetido[0]} se repite en las filas con indices: {indices_filas_repetidas}.\")\n",
    "filas_con_ides_rep"
   ]
  },
  {
   "cell_type": "markdown",
   "metadata": {},
   "source": [
    "### Eliminamos duplicado y reseteamos el indice"
   ]
  },
  {
   "cell_type": "markdown",
   "metadata": {},
   "source": [
    "Eliminamos la fila de indice 13926, reseteamos el indice y verificamos"
   ]
  },
  {
   "cell_type": "code",
   "execution_count": 242,
   "metadata": {},
   "outputs": [
    {
     "name": "stdout",
     "output_type": "stream",
     "text": [
      "Numero de filas y campos antes de la eliminacion:  (30756, 13)\n",
      "Numero de filas y campos despues de la eliminacion:  (30755, 13)\n",
      "Total de valores en 'id':  30755\n",
      "Número de valores únicos en 'id':  30755\n"
     ]
    },
    {
     "data": {
      "text/html": [
       "<div>\n",
       "<style scoped>\n",
       "    .dataframe tbody tr th:only-of-type {\n",
       "        vertical-align: middle;\n",
       "    }\n",
       "\n",
       "    .dataframe tbody tr th {\n",
       "        vertical-align: top;\n",
       "    }\n",
       "\n",
       "    .dataframe thead th {\n",
       "        text-align: right;\n",
       "    }\n",
       "</style>\n",
       "<table border=\"1\" class=\"dataframe\">\n",
       "  <thead>\n",
       "    <tr style=\"text-align: right;\">\n",
       "      <th></th>\n",
       "      <th>id</th>\n",
       "      <th>price</th>\n",
       "    </tr>\n",
       "  </thead>\n",
       "  <tbody>\n",
       "    <tr>\n",
       "      <th>13924</th>\n",
       "      <td>743520.0</td>\n",
       "      <td>2.99</td>\n",
       "    </tr>\n",
       "    <tr>\n",
       "      <th>13925</th>\n",
       "      <td>566680.0</td>\n",
       "      <td>1.99</td>\n",
       "    </tr>\n",
       "    <tr>\n",
       "      <th>13927</th>\n",
       "      <td>497800.0</td>\n",
       "      <td>9.99</td>\n",
       "    </tr>\n",
       "    <tr>\n",
       "      <th>13928</th>\n",
       "      <td>570540.0</td>\n",
       "      <td>9.99</td>\n",
       "    </tr>\n",
       "  </tbody>\n",
       "</table>\n",
       "</div>"
      ],
      "text/plain": [
       "             id price\n",
       "13924  743520.0  2.99\n",
       "13925  566680.0  1.99\n",
       "13927  497800.0  9.99\n",
       "13928  570540.0  9.99"
      ]
     },
     "execution_count": 242,
     "metadata": {},
     "output_type": "execute_result"
    }
   ],
   "source": [
    "print('Numero de filas y campos antes de la eliminacion: ',df_steam_games.shape)\n",
    "df_steam_games = df_steam_games.drop(13926)\n",
    "print('Numero de filas y campos despues de la eliminacion: ',df_steam_games.shape)# ELimina la fila\n",
    "\n",
    "ides = df_steam_games['id'] #muestra todos lo valores en la columna 'id'\n",
    "print(\"Total de valores en 'id': \", len(ides))\n",
    "\n",
    "ides_unicos = df_steam_games['id'].unique() #muestra valores únicos en la columna 'id'\n",
    "print(\"Número de valores únicos en 'id': \", len(ides_unicos))\n",
    "\n",
    "# Muestra las filas en el rango entre 13023 y 13027\n",
    "rango_indices = range(13924, 13928) \n",
    "filas_en_rango = df_steam_games.iloc[rango_indices][['id','price']] #filtra las filas \n",
    "filas_en_rango"
   ]
  },
  {
   "cell_type": "markdown",
   "metadata": {},
   "source": [
    "Reseteamos el indice"
   ]
  },
  {
   "cell_type": "code",
   "execution_count": 243,
   "metadata": {},
   "outputs": [],
   "source": [
    "df_steam_games.reset_index(inplace = True, drop = True)\n"
   ]
  },
  {
   "cell_type": "markdown",
   "metadata": {},
   "source": [
    "### Cambiamos el tipo a object y verificamos"
   ]
  },
  {
   "cell_type": "code",
   "execution_count": 244,
   "metadata": {},
   "outputs": [],
   "source": [
    "df_steam_games['id'] = df_steam_games['id'].astype(int)"
   ]
  },
  {
   "cell_type": "code",
   "execution_count": 245,
   "metadata": {},
   "outputs": [
    {
     "name": "stdout",
     "output_type": "stream",
     "text": [
      "id        int32\n",
      "price    object\n",
      "dtype: object\n"
     ]
    },
    {
     "data": {
      "text/html": [
       "<div>\n",
       "<style scoped>\n",
       "    .dataframe tbody tr th:only-of-type {\n",
       "        vertical-align: middle;\n",
       "    }\n",
       "\n",
       "    .dataframe tbody tr th {\n",
       "        vertical-align: top;\n",
       "    }\n",
       "\n",
       "    .dataframe thead th {\n",
       "        text-align: right;\n",
       "    }\n",
       "</style>\n",
       "<table border=\"1\" class=\"dataframe\">\n",
       "  <thead>\n",
       "    <tr style=\"text-align: right;\">\n",
       "      <th></th>\n",
       "      <th>id</th>\n",
       "      <th>price</th>\n",
       "    </tr>\n",
       "  </thead>\n",
       "  <tbody>\n",
       "    <tr>\n",
       "      <th>12353</th>\n",
       "      <td>768702</td>\n",
       "      <td>29.99</td>\n",
       "    </tr>\n",
       "    <tr>\n",
       "      <th>22482</th>\n",
       "      <td>427007</td>\n",
       "      <td>0.99</td>\n",
       "    </tr>\n",
       "    <tr>\n",
       "      <th>22891</th>\n",
       "      <td>455080</td>\n",
       "      <td>9.99</td>\n",
       "    </tr>\n",
       "    <tr>\n",
       "      <th>1415</th>\n",
       "      <td>218065</td>\n",
       "      <td>0.99</td>\n",
       "    </tr>\n",
       "    <tr>\n",
       "      <th>20464</th>\n",
       "      <td>537266</td>\n",
       "      <td>2.99</td>\n",
       "    </tr>\n",
       "    <tr>\n",
       "      <th>384</th>\n",
       "      <td>37390</td>\n",
       "      <td>6.99</td>\n",
       "    </tr>\n",
       "    <tr>\n",
       "      <th>12498</th>\n",
       "      <td>742380</td>\n",
       "      <td>4.99</td>\n",
       "    </tr>\n",
       "    <tr>\n",
       "      <th>11258</th>\n",
       "      <td>720100</td>\n",
       "      <td>4.99</td>\n",
       "    </tr>\n",
       "    <tr>\n",
       "      <th>10554</th>\n",
       "      <td>650760</td>\n",
       "      <td>16.99</td>\n",
       "    </tr>\n",
       "    <tr>\n",
       "      <th>2141</th>\n",
       "      <td>303332</td>\n",
       "      <td>12.99</td>\n",
       "    </tr>\n",
       "  </tbody>\n",
       "</table>\n",
       "</div>"
      ],
      "text/plain": [
       "           id  price\n",
       "12353  768702  29.99\n",
       "22482  427007   0.99\n",
       "22891  455080   9.99\n",
       "1415   218065   0.99\n",
       "20464  537266   2.99\n",
       "384     37390   6.99\n",
       "12498  742380   4.99\n",
       "11258  720100   4.99\n",
       "10554  650760  16.99\n",
       "2141   303332  12.99"
      ]
     },
     "execution_count": 245,
     "metadata": {},
     "output_type": "execute_result"
    }
   ],
   "source": [
    "df_steam_games_random = df_steam_games.sample(n=100, random_state =  102)  \n",
    "id_y_precio_random = df_steam_games_random[['id','price']].head(10)\n",
    "print(id_y_precio_random.dtypes)\n",
    "id_y_precio_random\n"
   ]
  },
  {
   "cell_type": "markdown",
   "metadata": {},
   "source": [
    "Cambiamos el tipo 'id' a object y mostramos 10 ides al azar  "
   ]
  },
  {
   "cell_type": "code",
   "execution_count": 246,
   "metadata": {},
   "outputs": [
    {
     "name": "stdout",
     "output_type": "stream",
     "text": [
      "id       object\n",
      "price    object\n",
      "dtype: object\n"
     ]
    },
    {
     "data": {
      "text/html": [
       "<div>\n",
       "<style scoped>\n",
       "    .dataframe tbody tr th:only-of-type {\n",
       "        vertical-align: middle;\n",
       "    }\n",
       "\n",
       "    .dataframe tbody tr th {\n",
       "        vertical-align: top;\n",
       "    }\n",
       "\n",
       "    .dataframe thead th {\n",
       "        text-align: right;\n",
       "    }\n",
       "</style>\n",
       "<table border=\"1\" class=\"dataframe\">\n",
       "  <thead>\n",
       "    <tr style=\"text-align: right;\">\n",
       "      <th></th>\n",
       "      <th>id</th>\n",
       "      <th>price</th>\n",
       "    </tr>\n",
       "  </thead>\n",
       "  <tbody>\n",
       "    <tr>\n",
       "      <th>12353</th>\n",
       "      <td>768702</td>\n",
       "      <td>29.99</td>\n",
       "    </tr>\n",
       "    <tr>\n",
       "      <th>22482</th>\n",
       "      <td>427007</td>\n",
       "      <td>0.99</td>\n",
       "    </tr>\n",
       "    <tr>\n",
       "      <th>22891</th>\n",
       "      <td>455080</td>\n",
       "      <td>9.99</td>\n",
       "    </tr>\n",
       "    <tr>\n",
       "      <th>1415</th>\n",
       "      <td>218065</td>\n",
       "      <td>0.99</td>\n",
       "    </tr>\n",
       "    <tr>\n",
       "      <th>20464</th>\n",
       "      <td>537266</td>\n",
       "      <td>2.99</td>\n",
       "    </tr>\n",
       "    <tr>\n",
       "      <th>384</th>\n",
       "      <td>37390</td>\n",
       "      <td>6.99</td>\n",
       "    </tr>\n",
       "    <tr>\n",
       "      <th>12498</th>\n",
       "      <td>742380</td>\n",
       "      <td>4.99</td>\n",
       "    </tr>\n",
       "    <tr>\n",
       "      <th>11258</th>\n",
       "      <td>720100</td>\n",
       "      <td>4.99</td>\n",
       "    </tr>\n",
       "    <tr>\n",
       "      <th>10554</th>\n",
       "      <td>650760</td>\n",
       "      <td>16.99</td>\n",
       "    </tr>\n",
       "    <tr>\n",
       "      <th>2141</th>\n",
       "      <td>303332</td>\n",
       "      <td>12.99</td>\n",
       "    </tr>\n",
       "  </tbody>\n",
       "</table>\n",
       "</div>"
      ],
      "text/plain": [
       "           id  price\n",
       "12353  768702  29.99\n",
       "22482  427007   0.99\n",
       "22891  455080   9.99\n",
       "1415   218065   0.99\n",
       "20464  537266   2.99\n",
       "384     37390   6.99\n",
       "12498  742380   4.99\n",
       "11258  720100   4.99\n",
       "10554  650760  16.99\n",
       "2141   303332  12.99"
      ]
     },
     "execution_count": 246,
     "metadata": {},
     "output_type": "execute_result"
    }
   ],
   "source": [
    "df_steam_games['id'] = df_steam_games['id'].astype(str) #\n",
    "\n",
    "df_steam_games_random = df_steam_games.sample(n=100, random_state =  102)  \n",
    "id_y_precio_random = df_steam_games_random[['id','price']].head(10)\n",
    "\n",
    "print(id_y_precio_random.dtypes)\n",
    "id_y_precio_random\n"
   ]
  },
  {
   "cell_type": "markdown",
   "metadata": {},
   "source": [
    "## Tratamiento del campo 'price'\n"
   ]
  },
  {
   "cell_type": "markdown",
   "metadata": {},
   "source": [
    "### Exploramos 'price'"
   ]
  },
  {
   "cell_type": "code",
   "execution_count": 247,
   "metadata": {},
   "outputs": [
    {
     "name": "stdout",
     "output_type": "stream",
     "text": [
      "(30755, 13)\n",
      "columnas en df_steam_games:  [publisher, genres, app_name, title, url, release_date, tags, reviews_url, specs, price, early_access, id, developer]\n",
      "Tipo de dato en 'price': object\n"
     ]
    }
   ],
   "source": [
    "print(df_steam_games.shape)\n",
    "print('columnas en df_steam_games: ','[' + ', '.join(df_steam_games.keys()) + ']')\n",
    "print(\"Tipo de dato en 'price':\",df_steam_games['price'].dtype)"
   ]
  },
  {
   "cell_type": "markdown",
   "metadata": {},
   "source": [
    "Mostramos los valores unicos de 'price'"
   ]
  },
  {
   "cell_type": "code",
   "execution_count": 248,
   "metadata": {},
   "outputs": [
    {
     "name": "stdout",
     "output_type": "stream",
     "text": [
      "Número de valores únicos en 'price':  162\n",
      "[4.99 'Free To Play' 'Free to Play' 0.99 2.99 3.99 9.99 18.99 29.99 'Free'\n",
      " 10.99 1.5899999999999999 14.99 1.99 59.99 8.99 6.99 7.99 39.99 19.99 7.49\n",
      " 12.99 5.99 2.49 15.99 1.25 24.99 17.99 61.99 3.49 11.99 13.99 'Free Demo'\n",
      " 'Play for Free!' 34.99 74.76 1.49 32.99 99.99 14.95 69.99 16.99 79.99\n",
      " 49.99 5.0 44.99 13.98 29.96 119.99 109.99 149.99 771.71 'Install Now'\n",
      " 21.99 89.99 'Play WARMACHINE: Tactics Demo' 0.98 139.92 4.29 64.99\n",
      " 'Free Mod' 54.99 74.99 'Install Theme' 0.89 'Third-party' 0.5 'Play Now'\n",
      " 299.99 1.29 3.0 15.0 5.49 23.99 49.0 20.99 10.93 1.3900000000000001\n",
      " 'Free HITMAN™ Holiday Pack' 36.99 4.49 2.0 4.0 9.0 234.99\n",
      " 1.9500000000000002 1.5 199.0 189.0 6.66 27.99 10.49 129.99 179.0 26.99\n",
      " 399.99 31.99 399.0 20.0 40.0 3.33 199.99 22.99 320.0 38.85 71.7 59.95\n",
      " 995.0 27.49 3.39 6.0 19.95 499.99 16.06 4.68 131.4 44.98 202.76 1.0 2.3\n",
      " 0.9500000000000001 172.24 249.99 2.9699999999999998 10.96 10.0 30.0 2.66\n",
      " 6.48 19.29 11.15 18.9 2.89 'Play the Demo' 99.0 87.94 599.0 8.98 9.69\n",
      " 0.49 9.98 9.95 7.0 'Starting at $499.00' 'Starting at $449.00' 12.89 6.49\n",
      " 1.87 42.99 41.99 289.99 'Free to Try' 23.96 5.65 12.0 13.37 189.96 124.99\n",
      " 'Free Movie' 19.98 160.91 'Free to Use']\n"
     ]
    }
   ],
   "source": [
    "unique_prices = df_steam_games['price'].unique()\n",
    "print(\"Número de valores únicos en 'price': \", len(unique_prices))\n",
    "print(unique_prices)"
   ]
  },
  {
   "cell_type": "markdown",
   "metadata": {},
   "source": [
    "Vemos datos no numericos innecesarios y valores numericos derrapando"
   ]
  },
  {
   "cell_type": "markdown",
   "metadata": {},
   "source": [
    "### Tratamiento de valores invalidos "
   ]
  },
  {
   "cell_type": "markdown",
   "metadata": {},
   "source": [
    "Redondeamos a dos decimales los numericos derrapados"
   ]
  },
  {
   "cell_type": "code",
   "execution_count": 249,
   "metadata": {},
   "outputs": [
    {
     "name": "stdout",
     "output_type": "stream",
     "text": [
      "Número de valores únicos en 'prices':  162\n",
      "[4.99 'Free To Play' 'Free to Play' 0.99 2.99 3.99 9.99 18.99 29.99 'Free'\n",
      " 10.99 1.59 14.99 1.99 59.99 8.99 6.99 7.99 39.99 19.99 7.49 12.99 5.99\n",
      " 2.49 15.99 1.25 24.99 17.99 61.99 3.49 11.99 13.99 'Free Demo'\n",
      " 'Play for Free!' 34.99 74.76 1.49 32.99 99.99 14.95 69.99 16.99 79.99\n",
      " 49.99 5.0 44.99 13.98 29.96 119.99 109.99 149.99 771.71 'Install Now'\n",
      " 21.99 89.99 'Play WARMACHINE: Tactics Demo' 0.98 139.92 4.29 64.99\n",
      " 'Free Mod' 54.99 74.99 'Install Theme' 0.89 'Third-party' 0.5 'Play Now'\n",
      " 299.99 1.29 3.0 15.0 5.49 23.99 49.0 20.99 10.93 1.39\n",
      " 'Free HITMAN™ Holiday Pack' 36.99 4.49 2.0 4.0 9.0 234.99 1.95 1.5 199.0\n",
      " 189.0 6.66 27.99 10.49 129.99 179.0 26.99 399.99 31.99 399.0 20.0 40.0\n",
      " 3.33 199.99 22.99 320.0 38.85 71.7 59.95 995.0 27.49 3.39 6.0 19.95\n",
      " 499.99 16.06 4.68 131.4 44.98 202.76 1.0 2.3 0.95 172.24 249.99 2.97\n",
      " 10.96 10.0 30.0 2.66 6.48 19.29 11.15 18.9 2.89 'Play the Demo' 99.0\n",
      " 87.94 599.0 8.98 9.69 0.49 9.98 9.95 7.0 'Starting at $499.00'\n",
      " 'Starting at $449.00' 12.89 6.49 1.87 42.99 41.99 289.99 'Free to Try'\n",
      " 23.96 5.65 12.0 13.37 189.96 124.99 'Free Movie' 19.98 160.91\n",
      " 'Free to Use']\n"
     ]
    }
   ],
   "source": [
    "# Función personalizada para redondear valores a dos decimales\n",
    "def redondear_a_dos_decimales(valor):\n",
    "    if isinstance(valor, (float, int)):\n",
    "        return round(valor, 2)\n",
    "    else:\n",
    "        return valor  # Mantener valores no numéricos\n",
    "\n",
    "# Aplica la función personalizada a la columna 'price'\n",
    "df_steam_games['price'] = df_steam_games['price'].apply(redondear_a_dos_decimales)\n",
    "\n",
    "unique_prices = df_steam_games['price'].unique()\n",
    "print(\"Número de valores únicos en 'prices': \", len(unique_prices))\n",
    "print(unique_prices)"
   ]
  },
  {
   "cell_type": "markdown",
   "metadata": {},
   "source": [
    "Convertimos el valor de todos los juegos gratuitos a 'Free To Play'"
   ]
  },
  {
   "cell_type": "code",
   "execution_count": 250,
   "metadata": {},
   "outputs": [
    {
     "name": "stdout",
     "output_type": "stream",
     "text": [
      "(30755, 13)\n"
     ]
    },
    {
     "name": "stdout",
     "output_type": "stream",
     "text": [
      "Número de filas en 'Free to Play' antes de la conversion:  462\n",
      "Número de filas en 'Free to Play' despues de la conversion:  1895\n",
      "Número de valores únicos en 'prices':  155\n",
      "[4.99 'Free To Play' 0.99 2.99 3.99 9.99 18.99 29.99 10.99 1.59 14.99 1.99\n",
      " 59.99 8.99 6.99 7.99 39.99 19.99 7.49 12.99 5.99 2.49 15.99 1.25 24.99\n",
      " 17.99 61.99 3.49 11.99 13.99 34.99 74.76 1.49 32.99 99.99 14.95 69.99\n",
      " 16.99 79.99 49.99 5.0 44.99 13.98 29.96 119.99 109.99 149.99 771.71\n",
      " 'Install Now' 21.99 89.99 'Play WARMACHINE: Tactics Demo' 0.98 139.92\n",
      " 4.29 64.99 'Free Mod' 54.99 74.99 'Install Theme' 0.89 'Third-party' 0.5\n",
      " 'Play Now' 299.99 1.29 3.0 15.0 5.49 23.99 49.0 20.99 10.93 1.39\n",
      " 'Free HITMAN™ Holiday Pack' 36.99 4.49 2.0 4.0 9.0 234.99 1.95 1.5 199.0\n",
      " 189.0 6.66 27.99 10.49 129.99 179.0 26.99 399.99 31.99 399.0 20.0 40.0\n",
      " 3.33 199.99 22.99 320.0 38.85 71.7 59.95 995.0 27.49 3.39 6.0 19.95\n",
      " 499.99 16.06 4.68 131.4 44.98 202.76 1.0 2.3 0.95 172.24 249.99 2.97\n",
      " 10.96 10.0 30.0 2.66 6.48 19.29 11.15 18.9 2.89 99.0 87.94 599.0 8.98\n",
      " 9.69 0.49 9.98 9.95 7.0 'Starting at $499.00' 'Starting at $449.00' 12.89\n",
      " 6.49 1.87 42.99 41.99 289.99 23.96 5.65 12.0 13.37 189.96 124.99\n",
      " 'Free Movie' 19.98 160.91]\n"
     ]
    }
   ],
   "source": [
    "print(df_steam_games.shape)\n",
    "filas_free_to_play = df_steam_games[df_steam_games['price'] == 'Free To Play'] \n",
    "print(\"Número de filas en 'Free to Play' antes de la conversion: \", filas_free_to_play.shape[0])\n",
    "\n",
    "df_steam_games['price'].replace(['Free', 'Free Demo', 'Free to Play', 'Play for Free!', 'Free to Use', 'Free to Try', 'Play the Demo'], 'Free To Play', inplace=True)\n",
    "\n",
    "filas_free_to_play = df_steam_games[df_steam_games['price'] == 'Free To Play'] \n",
    "print(\"Número de filas en 'Free to Play' despues de la conversion: \", filas_free_to_play.shape[0])\n",
    "\n",
    "unique_prices = df_steam_games['price'].unique()\n",
    "print(\"Número de valores únicos en 'prices': \", len(unique_prices))\n",
    "print(unique_prices)"
   ]
  },
  {
   "cell_type": "markdown",
   "metadata": {},
   "source": [
    "Eliminamos todos los valores no numéricos en el campo 'price', con excepción de 'Free To Play'"
   ]
  },
  {
   "cell_type": "code",
   "execution_count": 251,
   "metadata": {},
   "outputs": [
    {
     "name": "stdout",
     "output_type": "stream",
     "text": [
      "Número de filas en df antes de la eliminacion:  30755\n",
      "Número de filas en 'Free to Play' antes de la eliminacion:  1895\n",
      "\n",
      "\n",
      "Número de filas en df_steam_games despues de la eliminacion:  30740\n",
      "Número de filas en 'Free to Play' despues de la eliminacion:  1895\n",
      "\n",
      "\n",
      "Número de valores únicos en 'price':  145\n",
      "[4.99 'Free To Play' 0.99 2.99 3.99 9.99 18.99 29.99 10.99 1.59 14.99 1.99\n",
      " 59.99 8.99 6.99 7.99 39.99 19.99 7.49 12.99 5.99 2.49 15.99 1.25 24.99\n",
      " 17.99 61.99 3.49 11.99 13.99 34.99 74.76 1.49 32.99 99.99 14.95 69.99\n",
      " 16.99 79.99 49.99 5.0 44.99 13.98 29.96 119.99 109.99 149.99 771.71 21.99\n",
      " 89.99 0.98 139.92 4.29 64.99 54.99 74.99 0.89 0.5 299.99 1.29 3.0 15.0\n",
      " 5.49 23.99 49.0 20.99 10.93 1.39 36.99 4.49 2.0 4.0 9.0 234.99 1.95 1.5\n",
      " 199.0 189.0 6.66 27.99 10.49 129.99 179.0 26.99 399.99 31.99 399.0 20.0\n",
      " 40.0 3.33 199.99 22.99 320.0 38.85 71.7 59.95 995.0 27.49 3.39 6.0 19.95\n",
      " 499.99 16.06 4.68 131.4 44.98 202.76 1.0 2.3 0.95 172.24 249.99 2.97\n",
      " 10.96 10.0 30.0 2.66 6.48 19.29 11.15 18.9 2.89 99.0 87.94 599.0 8.98\n",
      " 9.69 0.49 9.98 9.95 7.0 12.89 6.49 1.87 42.99 41.99 289.99 23.96 5.65\n",
      " 12.0 13.37 189.96 124.99 19.98 160.91]\n"
     ]
    }
   ],
   "source": [
    "#df = df_steam_games.copy()\n",
    "# Checkeos previos\n",
    "print(\"Número de filas en df antes de la eliminacion: \", df_steam_games.shape[0])\n",
    "filas_free_to_play = df_steam_games[df_steam_games['price'] == 'Free To Play'] \n",
    "print(\"Número de filas en 'Free to Play' antes de la eliminacion: \", filas_free_to_play.shape[0])\n",
    "print('\\n')\n",
    "\n",
    "# Mantener solo los valores numéricos y 'Free To Play'\n",
    "df_steam_games['price'] = df_steam_games['price'].apply(lambda x: x if x == 'Free To Play' or re.match(r'^\\d+(\\.\\d+)?$', str(x)) else None)\n",
    "\n",
    "# Eliminar filas con valores nulos resultantes\n",
    "df_steam_games.dropna(subset=['price'], inplace=True)\n",
    "\n",
    "# Checkeos posteriores\n",
    "print(\"Número de filas en df_steam_games despues de la eliminacion: \", df_steam_games.shape[0])\n",
    "filas_free_to_play = df_steam_games[df_steam_games['price'] == 'Free To Play'] \n",
    "print(\"Número de filas en 'Free to Play' despues de la eliminacion: \", filas_free_to_play.shape[0])\n",
    "print('\\n')\n",
    "\n",
    "unique_prices = df_steam_games['price'].unique()\n",
    "print(\"Número de valores únicos en 'price': \", len(unique_prices))\n",
    "print(unique_prices)"
   ]
  },
  {
   "cell_type": "markdown",
   "metadata": {},
   "source": [
    "Checkamos 10 registros aleatorios"
   ]
  },
  {
   "cell_type": "code",
   "execution_count": 252,
   "metadata": {},
   "outputs": [
    {
     "data": {
      "text/html": [
       "<div>\n",
       "<style scoped>\n",
       "    .dataframe tbody tr th:only-of-type {\n",
       "        vertical-align: middle;\n",
       "    }\n",
       "\n",
       "    .dataframe tbody tr th {\n",
       "        vertical-align: top;\n",
       "    }\n",
       "\n",
       "    .dataframe thead th {\n",
       "        text-align: right;\n",
       "    }\n",
       "</style>\n",
       "<table border=\"1\" class=\"dataframe\">\n",
       "  <thead>\n",
       "    <tr style=\"text-align: right;\">\n",
       "      <th></th>\n",
       "      <th>id</th>\n",
       "      <th>price</th>\n",
       "    </tr>\n",
       "  </thead>\n",
       "  <tbody>\n",
       "    <tr>\n",
       "      <th>13892</th>\n",
       "      <td>731770</td>\n",
       "      <td>Free To Play</td>\n",
       "    </tr>\n",
       "    <tr>\n",
       "      <th>5104</th>\n",
       "      <td>442101</td>\n",
       "      <td>4.99</td>\n",
       "    </tr>\n",
       "    <tr>\n",
       "      <th>26083</th>\n",
       "      <td>222180</td>\n",
       "      <td>2.99</td>\n",
       "    </tr>\n",
       "    <tr>\n",
       "      <th>9994</th>\n",
       "      <td>463950</td>\n",
       "      <td>5.99</td>\n",
       "    </tr>\n",
       "    <tr>\n",
       "      <th>5429</th>\n",
       "      <td>439690</td>\n",
       "      <td>4.99</td>\n",
       "    </tr>\n",
       "    <tr>\n",
       "      <th>25986</th>\n",
       "      <td>314530</td>\n",
       "      <td>12.99</td>\n",
       "    </tr>\n",
       "    <tr>\n",
       "      <th>12894</th>\n",
       "      <td>733440</td>\n",
       "      <td>15.99</td>\n",
       "    </tr>\n",
       "    <tr>\n",
       "      <th>18203</th>\n",
       "      <td>513550</td>\n",
       "      <td>3.99</td>\n",
       "    </tr>\n",
       "    <tr>\n",
       "      <th>19387</th>\n",
       "      <td>523508</td>\n",
       "      <td>4.99</td>\n",
       "    </tr>\n",
       "    <tr>\n",
       "      <th>19158</th>\n",
       "      <td>569380</td>\n",
       "      <td>9.99</td>\n",
       "    </tr>\n",
       "  </tbody>\n",
       "</table>\n",
       "</div>"
      ],
      "text/plain": [
       "           id         price\n",
       "13892  731770  Free To Play\n",
       "5104   442101          4.99\n",
       "26083  222180          2.99\n",
       "9994   463950          5.99\n",
       "5429   439690          4.99\n",
       "25986  314530         12.99\n",
       "12894  733440         15.99\n",
       "18203  513550          3.99\n",
       "19387  523508          4.99\n",
       "19158  569380          9.99"
      ]
     },
     "execution_count": 252,
     "metadata": {},
     "output_type": "execute_result"
    }
   ],
   "source": [
    "muestra = df_steam_games.sample(n=100, random_state= 42)  \n",
    "muestra[['id','price']].head(10)"
   ]
  },
  {
   "cell_type": "markdown",
   "metadata": {},
   "source": [
    "## Tratamiento del campo 'release_date'"
   ]
  },
  {
   "cell_type": "markdown",
   "metadata": {},
   "source": [
    "### Exploramos 'release_date'"
   ]
  },
  {
   "cell_type": "code",
   "execution_count": 253,
   "metadata": {},
   "outputs": [
    {
     "name": "stdout",
     "output_type": "stream",
     "text": [
      "(30740, 13)\n",
      "Tipo de dato en 'release_date': object\n",
      "columnas en df_steam_games:  [publisher, genres, app_name, title, url, release_date, tags, reviews_url, specs, price, early_access, id, developer]\n",
      "Cantidad de valores faltantes en 'release_date': 1936\n"
     ]
    }
   ],
   "source": [
    "print(df_steam_games.shape)\n",
    "print(\"Tipo de dato en 'release_date':\",df_steam_games['release_date'].dtype)\n",
    "print('columnas en df_steam_games: ','[' + ', '.join(df_steam_games.keys()) + ']')\n",
    "print(\"Cantidad de valores faltantes en 'release_date':\",df_steam_games['release_date'].isnull().sum())\n",
    "\n",
    "#print(df_steam_games_prepared.isnull().sum())\n"
   ]
  },
  {
   "cell_type": "markdown",
   "metadata": {},
   "source": [
    "Vemos 1936 valores faltantes"
   ]
  },
  {
   "cell_type": "markdown",
   "metadata": {},
   "source": [
    "Buscamos todos los valores unicos en 'release_date' y pintamos 50 de ellos"
   ]
  },
  {
   "cell_type": "code",
   "execution_count": 254,
   "metadata": {},
   "outputs": [
    {
     "name": "stdout",
     "output_type": "stream",
     "text": [
      "Número de valores únicos en 'release_date':  3446\n",
      "\n",
      "\n",
      "Valores unicos aleatorios:\n",
      "[['2012-12-17' '2013-09-20' '2013-07-30' '2012-07-25' '2006-06-08']\n",
      " ['2017-08-08' '2017-07-04' '2017-04-01' '2005-04-05' '2017-03-24']\n",
      " ['2017-07-24' '2012-02-23' '1994-05-05' '2013-07-31' '2011-05-05']\n",
      " ['2013-01-12' '2016-11-14' '2010-06-08' '2002-11-09' '2017-06-21']\n",
      " ['2015-09-05' '2015-04-15' '2013-05-20' '2014-01-13' '1998-01-31']\n",
      " ['2013-03-21' '2016-07-15' '1997-12-02' 'Aug 2015' '2012-10-29']\n",
      " ['2016-02-01' '2010-06-04' '2015-01-23' '2014-09-01' '2012-07-31']\n",
      " ['2005-07-21' '2011-04-20' '2002-11-18' '2011-11-09' 'Apr 2015']\n",
      " ['2007-10-27' '2016-03-02' '2017-07-12' '2015-06-23' '2014-05-09']\n",
      " ['2003-09-25' '2013-06-28' '2006-12-12' '2011-07-05' '2001-11-13']]\n"
     ]
    }
   ],
   "source": [
    "unique_values = df_steam_games['release_date'].unique() # captura los valores únicos en la columna 'release_date'\n",
    "print(\"Número de valores únicos en 'release_date': \", len(unique_values))\n",
    "print('\\n')\n",
    "\n",
    "print(\"Valores unicos aleatorios:\")\n",
    "\n",
    "# Selecciona 50 índices aleatorios\n",
    "np.random.seed(90) \n",
    "indices_aleatorios = np.random.choice(len(unique_values), size=50, replace=False)\n",
    "\n",
    "# Convierte la serie en un arreglo 10x5\n",
    "matriz = np.array(unique_values[indices_aleatorios]).reshape(10, 5) \n",
    "print(matriz)"
   ]
  },
  {
   "cell_type": "markdown",
   "metadata": {},
   "source": [
    "Vemos que existen valores sin el formato de fecha correcto como 'Aug 2015' 'Apr 2015'  \n",
    "Pintamos los valores no validos en 'release_date'"
   ]
  },
  {
   "cell_type": "code",
   "execution_count": 255,
   "metadata": {},
   "outputs": [
    {
     "name": "stdout",
     "output_type": "stream",
     "text": [
      "Cantidad de valores totales no validos en 'release_date':  1975\n",
      "Cantidad de valores no validos unicos en 'release_date':  34\n",
      "\n",
      "\n",
      "[None 'Jun 2009' 'Oct 2010' 'Feb 2011' 'Sep 2014' 'Apr 2015' 'Apr 2016'\n",
      " 'Jul 2016' 'Jul 2017' 'SOON' '2018' 'Apr 2017' 'Jan 2017' 'Nov 2016'\n",
      " 'Oct 2016' 'Jun 2016' 'Aug 2015' 'Jun 2015' 'May 2015' 'Feb 2015'\n",
      " 'Jan 2015' 'Nov 2014' 'Aug 2014' 'Jul 2014' 'May 2014' 'Feb 2013'\n",
      " 'Dec 2012' 'Jul 2010' 'Mar 2010' 'Jan 2010' 'Oct 2009' 'Sep 2009'\n",
      " 'coming soon' 'SOON™']\n"
     ]
    }
   ],
   "source": [
    "# Define una expresión regular para el formato 'YYYY-MM-DD'\n",
    "fecha_correcta_regex = r'\\d{4}-\\d{2}-\\d{2}'\n",
    "\n",
    "# Encuentra todos los valores únicos que no coinciden con el formato correcto\n",
    "valores_no_validos = df_steam_games[~df_steam_games['release_date'].str.match(fecha_correcta_regex, na=False)]['release_date']\n",
    "valores_no_validos_unicos = valores_no_validos.unique()\n",
    "print(\"Cantidad de valores totales no validos en 'release_date': \", len(valores_no_validos))\n",
    "print(\"Cantidad de valores no validos unicos en 'release_date': \", len(valores_no_validos_unicos))\n",
    "print('\\n')\n",
    "# Imprime los valores únicos no válidos\n",
    "print(valores_no_validos_unicos)\n"
   ]
  },
  {
   "cell_type": "markdown",
   "metadata": {},
   "source": [
    "Contamos 39 valores no validos en 'release_date'"
   ]
  },
  {
   "cell_type": "markdown",
   "metadata": {},
   "source": [
    "### Eliminacion de valores faltantes"
   ]
  },
  {
   "cell_type": "code",
   "execution_count": 256,
   "metadata": {},
   "outputs": [
    {
     "name": "stdout",
     "output_type": "stream",
     "text": [
      "(28804, 13)\n",
      "Cantidad de valores faltantes en 'release_date': 0\n"
     ]
    }
   ],
   "source": [
    "df_steam_games.dropna(subset=['release_date'], inplace=True)\n",
    "print(df_steam_games.shape)\n",
    "print(\"Cantidad de valores faltantes en 'release_date':\",df_steam_games['release_date'].isnull().sum())"
   ]
  },
  {
   "cell_type": "markdown",
   "metadata": {},
   "source": [
    "### Tratamiento de valores invalidos"
   ]
  },
  {
   "cell_type": "markdown",
   "metadata": {},
   "source": [
    "Eliminamos los valores no validos tipo 'Feb 2013', 'SOON™', etc"
   ]
  },
  {
   "cell_type": "code",
   "execution_count": 257,
   "metadata": {},
   "outputs": [
    {
     "name": "stdout",
     "output_type": "stream",
     "text": [
      "Numero de filas y campos antes de la eliminacion:  (28804, 13)\n",
      "Numero de filas y campos despues de la eliminacion:  (28765, 13)\n"
     ]
    }
   ],
   "source": [
    "print('Numero de filas y campos antes de la eliminacion: ',df_steam_games.shape)\n",
    "# Define una expresión regular para el formato 'YYYY-MM-DD'\n",
    "fecha_correcta_regex = r'\\d{4}-\\d{2}-\\d{2}'\n",
    "\n",
    "# Filtra el DataFrame para mantener solo las filas con fechas válidas\n",
    "df_steam_games = df_steam_games[df_steam_games['release_date'].str.match(fecha_correcta_regex, na=False)]\n",
    "\n",
    "print('Numero de filas y campos despues de la eliminacion: ',df_steam_games.shape)"
   ]
  },
  {
   "cell_type": "markdown",
   "metadata": {},
   "source": [
    "## Guardamos el dataset preparado"
   ]
  },
  {
   "cell_type": "code",
   "execution_count": 258,
   "metadata": {},
   "outputs": [],
   "source": [
    "df_steam_games.to_csv('../Data/df_steam_games_prepared.csv', index=False)"
   ]
  },
  {
   "cell_type": "markdown",
   "metadata": {},
   "source": [
    "# CREACION DE LOS ENPOINT DATASETS"
   ]
  },
  {
   "cell_type": "markdown",
   "metadata": {},
   "source": [
    "Terminada la preparacion de los datos en 'df_steam_games' toca crear los diferentes datasets en formato parquet que van alimentar al servidor de consultas"
   ]
  },
  {
   "cell_type": "markdown",
   "metadata": {},
   "source": [
    "## Endpoint `'developer(desarrollador: str)'`"
   ]
  },
  {
   "cell_type": "markdown",
   "metadata": {},
   "source": [
    "### Transformacion"
   ]
  },
  {
   "cell_type": "code",
   "execution_count": null,
   "metadata": {},
   "outputs": [
    {
     "name": "stdout",
     "output_type": "stream",
     "text": [
      "columnas en df_steam_games:  [publisher, genres, app_name, title, url, release_date, tags, reviews_url, specs, price, early_access, id, developer]\n"
     ]
    }
   ],
   "source": [
    "print('columnas en df_steam_games: ','[' + ', '.join(df_steam_games.keys()) + ']')"
   ]
  },
  {
   "cell_type": "markdown",
   "metadata": {},
   "source": [
    "Filtramos los campos 'id' y 'developer'. Eliminamos el resto"
   ]
  },
  {
   "cell_type": "code",
   "execution_count": null,
   "metadata": {},
   "outputs": [
    {
     "name": "stdout",
     "output_type": "stream",
     "text": [
      "(28765, 3)\n",
      "developer       object\n",
      "release_date    object\n",
      "genres          object\n",
      "dtype: object\n"
     ]
    },
    {
     "data": {
      "text/html": [
       "<div>\n",
       "<style scoped>\n",
       "    .dataframe tbody tr th:only-of-type {\n",
       "        vertical-align: middle;\n",
       "    }\n",
       "\n",
       "    .dataframe tbody tr th {\n",
       "        vertical-align: top;\n",
       "    }\n",
       "\n",
       "    .dataframe thead th {\n",
       "        text-align: right;\n",
       "    }\n",
       "</style>\n",
       "<table border=\"1\" class=\"dataframe\">\n",
       "  <thead>\n",
       "    <tr style=\"text-align: right;\">\n",
       "      <th></th>\n",
       "      <th>developer</th>\n",
       "      <th>release_date</th>\n",
       "      <th>genres</th>\n",
       "    </tr>\n",
       "  </thead>\n",
       "  <tbody>\n",
       "    <tr>\n",
       "      <th>0</th>\n",
       "      <td>Kotoshiro</td>\n",
       "      <td>2018-01-04</td>\n",
       "      <td>['Action', 'Casual', 'Indie', 'Simulation', 'S...</td>\n",
       "    </tr>\n",
       "    <tr>\n",
       "      <th>1</th>\n",
       "      <td>Secret Level SRL</td>\n",
       "      <td>2018-01-04</td>\n",
       "      <td>['Free to Play', 'Indie', 'RPG', 'Strategy']</td>\n",
       "    </tr>\n",
       "    <tr>\n",
       "      <th>2</th>\n",
       "      <td>Poolians.com</td>\n",
       "      <td>2017-07-24</td>\n",
       "      <td>['Casual', 'Free to Play', 'Indie', 'Simulatio...</td>\n",
       "    </tr>\n",
       "  </tbody>\n",
       "</table>\n",
       "</div>"
      ],
      "text/plain": [
       "          developer release_date   \n",
       "0         Kotoshiro   2018-01-04  \\\n",
       "1  Secret Level SRL   2018-01-04   \n",
       "2      Poolians.com   2017-07-24   \n",
       "\n",
       "                                              genres  \n",
       "0  ['Action', 'Casual', 'Indie', 'Simulation', 'S...  \n",
       "1       ['Free to Play', 'Indie', 'RPG', 'Strategy']  \n",
       "2  ['Casual', 'Free to Play', 'Indie', 'Simulatio...  "
      ]
     },
     "metadata": {},
     "output_type": "display_data"
    }
   ],
   "source": [
    "columnas_a_mantener = ['developer','release_date','genres']\n",
    "df_steam_games_developer_desarrollador = df_steam_games[columnas_a_mantener]\n",
    "df_steam_games_developer_desarrollador = df_steam_games_developer_desarrollador.copy()\n",
    "\n",
    "df_steam_games_developer_desarrollador['genres'] = df_steam_games_developer_desarrollador['genres'].apply(lambda x: f\"'{x}'\")\n",
    "df_steam_games_developer_desarrollador['genres'] = df_steam_games_developer_desarrollador['genres'].str.strip(\"'\")\n",
    "\n",
    "print(df_steam_games_developer_desarrollador.shape)\n",
    "print(df_steam_games_developer_desarrollador.dtypes)\n",
    "df_steam_games_developer_desarrollador.head(3)"
   ]
  },
  {
   "cell_type": "markdown",
   "metadata": {},
   "source": [
    "### To Parquet"
   ]
  },
  {
   "cell_type": "code",
   "execution_count": null,
   "metadata": {},
   "outputs": [],
   "source": [
    "df_steam_games_developer_desarrollador.to_parquet('../Data/df_steam_games_developer_desarrollador.parquet', index=False)"
   ]
  },
  {
   "cell_type": "markdown",
   "metadata": {},
   "source": [
    "## Endpoint `'def userdata(user_id:str)'`"
   ]
  },
  {
   "cell_type": "markdown",
   "metadata": {},
   "source": [
    "### Transformacion"
   ]
  },
  {
   "cell_type": "markdown",
   "metadata": {},
   "source": [
    "Filtramos los campos 'id' y 'price'. Eliminamos el resto"
   ]
  },
  {
   "cell_type": "code",
   "execution_count": 259,
   "metadata": {},
   "outputs": [
    {
     "name": "stdout",
     "output_type": "stream",
     "text": [
      "(28765, 2)\n",
      "id       object\n",
      "price    object\n",
      "dtype: object\n"
     ]
    },
    {
     "data": {
      "text/html": [
       "<div>\n",
       "<style scoped>\n",
       "    .dataframe tbody tr th:only-of-type {\n",
       "        vertical-align: middle;\n",
       "    }\n",
       "\n",
       "    .dataframe tbody tr th {\n",
       "        vertical-align: top;\n",
       "    }\n",
       "\n",
       "    .dataframe thead th {\n",
       "        text-align: right;\n",
       "    }\n",
       "</style>\n",
       "<table border=\"1\" class=\"dataframe\">\n",
       "  <thead>\n",
       "    <tr style=\"text-align: right;\">\n",
       "      <th></th>\n",
       "      <th>id</th>\n",
       "      <th>price</th>\n",
       "    </tr>\n",
       "  </thead>\n",
       "  <tbody>\n",
       "    <tr>\n",
       "      <th>0</th>\n",
       "      <td>761140</td>\n",
       "      <td>4.99</td>\n",
       "    </tr>\n",
       "    <tr>\n",
       "      <th>1</th>\n",
       "      <td>643980</td>\n",
       "      <td>Free To Play</td>\n",
       "    </tr>\n",
       "    <tr>\n",
       "      <th>2</th>\n",
       "      <td>670290</td>\n",
       "      <td>Free To Play</td>\n",
       "    </tr>\n",
       "  </tbody>\n",
       "</table>\n",
       "</div>"
      ],
      "text/plain": [
       "       id         price\n",
       "0  761140          4.99\n",
       "1  643980  Free To Play\n",
       "2  670290  Free To Play"
      ]
     },
     "execution_count": 259,
     "metadata": {},
     "output_type": "execute_result"
    }
   ],
   "source": [
    "#df = df_steam_games.\n",
    "columnas_a_mantener = ['id','price']\n",
    "df_steam_games_userdata_user_id_respuesta1 = df_steam_games[columnas_a_mantener]\n",
    "df_steam_games_userdata_user_id_respuesta1 = df_steam_games_userdata_user_id_respuesta1.copy()\n",
    "df_steam_games_userdata_user_id_respuesta1['price'] = df_steam_games_userdata_user_id_respuesta1['price'].astype(str)\n",
    "\n",
    "print(df_steam_games_userdata_user_id_respuesta1.shape)\n",
    "print(df_steam_games_userdata_user_id_respuesta1.dtypes)\n",
    "df_steam_games_userdata_user_id_respuesta1.head(3)"
   ]
  },
  {
   "cell_type": "markdown",
   "metadata": {},
   "source": [
    "### To Parquet"
   ]
  },
  {
   "cell_type": "code",
   "execution_count": 260,
   "metadata": {},
   "outputs": [],
   "source": [
    "df_steam_games_userdata_user_id_respuesta1.to_parquet('../Data/df_steam_games_userdata_user_id_respuesta1.parquet', index=False)"
   ]
  },
  {
   "cell_type": "markdown",
   "metadata": {},
   "source": [
    "## Endpoint `'def UserForGenre(genero: str)'`"
   ]
  },
  {
   "cell_type": "markdown",
   "metadata": {},
   "source": [
    "### Transformacion"
   ]
  },
  {
   "cell_type": "markdown",
   "metadata": {},
   "source": [
    "Filtramos los campos 'id', 'genres' y 'release_date'. Eliminamos el resto"
   ]
  },
  {
   "cell_type": "code",
   "execution_count": 261,
   "metadata": {},
   "outputs": [
    {
     "name": "stdout",
     "output_type": "stream",
     "text": [
      "(28765, 3)\n",
      "id              object\n",
      "genres          object\n",
      "release_date    object\n",
      "dtype: object\n"
     ]
    },
    {
     "data": {
      "text/html": [
       "<div>\n",
       "<style scoped>\n",
       "    .dataframe tbody tr th:only-of-type {\n",
       "        vertical-align: middle;\n",
       "    }\n",
       "\n",
       "    .dataframe tbody tr th {\n",
       "        vertical-align: top;\n",
       "    }\n",
       "\n",
       "    .dataframe thead th {\n",
       "        text-align: right;\n",
       "    }\n",
       "</style>\n",
       "<table border=\"1\" class=\"dataframe\">\n",
       "  <thead>\n",
       "    <tr style=\"text-align: right;\">\n",
       "      <th></th>\n",
       "      <th>id</th>\n",
       "      <th>genres</th>\n",
       "      <th>release_date</th>\n",
       "    </tr>\n",
       "  </thead>\n",
       "  <tbody>\n",
       "    <tr>\n",
       "      <th>0</th>\n",
       "      <td>761140</td>\n",
       "      <td>['Action', 'Casual', 'Indie', 'Simulation', 'S...</td>\n",
       "      <td>2018-01-04</td>\n",
       "    </tr>\n",
       "    <tr>\n",
       "      <th>1</th>\n",
       "      <td>643980</td>\n",
       "      <td>['Free to Play', 'Indie', 'RPG', 'Strategy']</td>\n",
       "      <td>2018-01-04</td>\n",
       "    </tr>\n",
       "    <tr>\n",
       "      <th>2</th>\n",
       "      <td>670290</td>\n",
       "      <td>['Casual', 'Free to Play', 'Indie', 'Simulatio...</td>\n",
       "      <td>2017-07-24</td>\n",
       "    </tr>\n",
       "  </tbody>\n",
       "</table>\n",
       "</div>"
      ],
      "text/plain": [
       "       id                                             genres release_date\n",
       "0  761140  ['Action', 'Casual', 'Indie', 'Simulation', 'S...   2018-01-04\n",
       "1  643980       ['Free to Play', 'Indie', 'RPG', 'Strategy']   2018-01-04\n",
       "2  670290  ['Casual', 'Free to Play', 'Indie', 'Simulatio...   2017-07-24"
      ]
     },
     "execution_count": 261,
     "metadata": {},
     "output_type": "execute_result"
    }
   ],
   "source": [
    "#df = df_steam_games.\n",
    "columnas_a_mantener = ['id','genres','release_date']\n",
    "df_steam_games_userforgenre_genero = df_steam_games[columnas_a_mantener]\n",
    "df_steam_games_userforgenre_genero = df_steam_games_userforgenre_genero.copy()\n",
    "\n",
    "df_steam_games_userforgenre_genero['genres'] = df_steam_games_userforgenre_genero['genres'].apply(lambda x: f\"'{x}'\")\n",
    "df_steam_games_userforgenre_genero['genres'] = df_steam_games_userforgenre_genero['genres'].str.strip(\"'\")\n",
    "\n",
    "print(df_steam_games_userforgenre_genero.shape)\n",
    "print(df_steam_games_userforgenre_genero.dtypes)\n",
    "df_steam_games_userforgenre_genero.head(3)"
   ]
  },
  {
   "cell_type": "markdown",
   "metadata": {},
   "source": [
    "### To Parquet"
   ]
  },
  {
   "cell_type": "code",
   "execution_count": 262,
   "metadata": {},
   "outputs": [],
   "source": [
    "df_steam_games_userforgenre_genero.to_parquet('../Data/df_steam_games_userforgenre_genero.parquet', index=False)"
   ]
  },
  {
   "cell_type": "markdown",
   "metadata": {},
   "source": [
    "## Endpoint `'def best_developer_year(año : int)'`"
   ]
  },
  {
   "cell_type": "markdown",
   "metadata": {},
   "source": [
    "### Transformacion"
   ]
  },
  {
   "cell_type": "code",
   "execution_count": 263,
   "metadata": {},
   "outputs": [
    {
     "name": "stdout",
     "output_type": "stream",
     "text": [
      "columnas en df_steam_games:  [publisher, genres, app_name, title, url, release_date, tags, reviews_url, specs, price, early_access, id, developer]\n"
     ]
    }
   ],
   "source": [
    "print('columnas en df_steam_games: ','[' + ', '.join(df_steam_games.keys()) + ']')"
   ]
  },
  {
   "cell_type": "markdown",
   "metadata": {},
   "source": [
    "Filtramos los campos 'id' y 'developer'. Eliminamos el resto"
   ]
  },
  {
   "cell_type": "code",
   "execution_count": 264,
   "metadata": {},
   "outputs": [
    {
     "name": "stdout",
     "output_type": "stream",
     "text": [
      "(28765, 2)\n",
      "id           object\n",
      "developer    object\n",
      "dtype: object\n"
     ]
    },
    {
     "data": {
      "text/html": [
       "<div>\n",
       "<style scoped>\n",
       "    .dataframe tbody tr th:only-of-type {\n",
       "        vertical-align: middle;\n",
       "    }\n",
       "\n",
       "    .dataframe tbody tr th {\n",
       "        vertical-align: top;\n",
       "    }\n",
       "\n",
       "    .dataframe thead th {\n",
       "        text-align: right;\n",
       "    }\n",
       "</style>\n",
       "<table border=\"1\" class=\"dataframe\">\n",
       "  <thead>\n",
       "    <tr style=\"text-align: right;\">\n",
       "      <th></th>\n",
       "      <th>id</th>\n",
       "      <th>developer</th>\n",
       "    </tr>\n",
       "  </thead>\n",
       "  <tbody>\n",
       "    <tr>\n",
       "      <th>0</th>\n",
       "      <td>761140</td>\n",
       "      <td>Kotoshiro</td>\n",
       "    </tr>\n",
       "    <tr>\n",
       "      <th>1</th>\n",
       "      <td>643980</td>\n",
       "      <td>Secret Level SRL</td>\n",
       "    </tr>\n",
       "    <tr>\n",
       "      <th>2</th>\n",
       "      <td>670290</td>\n",
       "      <td>Poolians.com</td>\n",
       "    </tr>\n",
       "  </tbody>\n",
       "</table>\n",
       "</div>"
      ],
      "text/plain": [
       "       id         developer\n",
       "0  761140         Kotoshiro\n",
       "1  643980  Secret Level SRL\n",
       "2  670290      Poolians.com"
      ]
     },
     "execution_count": 264,
     "metadata": {},
     "output_type": "execute_result"
    }
   ],
   "source": [
    "columnas_a_mantener = ['id','developer']\n",
    "df_steam_games_best_developer_year_año = df_steam_games[columnas_a_mantener]\n",
    "\n",
    "print(df_steam_games_best_developer_year_año.shape)\n",
    "print(df_steam_games_best_developer_year_año.dtypes)\n",
    "df_steam_games_best_developer_year_año.head(3)"
   ]
  },
  {
   "cell_type": "markdown",
   "metadata": {},
   "source": [
    "### To Parquet"
   ]
  },
  {
   "cell_type": "code",
   "execution_count": 265,
   "metadata": {},
   "outputs": [],
   "source": [
    "df_steam_games_best_developer_year_año.to_parquet('../Data/df_steam_games_best_developer_year_año.parquet', index=False)"
   ]
  },
  {
   "cell_type": "markdown",
   "metadata": {},
   "source": [
    "# Listar variables para eliminarlas"
   ]
  },
  {
   "cell_type": "code",
   "execution_count": 270,
   "metadata": {},
   "outputs": [
    {
     "name": "stdout",
     "output_type": "stream",
     "text": [
      "Variables encontradas:  31\n"
     ]
    },
    {
     "name": "stdout",
     "output_type": "stream",
     "text": [
      "La variable df pesa 6379904 bytes y es de tipo pandas.core.frame.DataFrame\n",
      "La variable df_steam_games pesa 29785679 bytes y es de tipo pandas.core.frame.DataFrame\n",
      "La variable df_steam_games_best_developer_year_año pesa 4107446 bytes y es de tipo pandas.core.frame.DataFrame\n",
      "La variable df_steam_games_random pesa 103380 bytes y es de tipo pandas.core.frame.DataFrame\n",
      "La variable df_steam_games_userdata_user_id_respuesta1 pesa 3813351 bytes y es de tipo pandas.core.frame.DataFrame\n",
      "La variable df_steam_games_userforgenre_genero pesa 6379904 bytes y es de tipo pandas.core.frame.DataFrame\n",
      "La variable filas_free_to_play pesa 1941952 bytes y es de tipo pandas.core.frame.DataFrame\n",
      "La variable ides pesa 492112 bytes y es de tipo pandas.core.series.Series\n",
      "La variable ides_unicos pesa 246152 bytes y es de tipo numpy.ndarray\n",
      "La variable muestra pesa 101047 bytes y es de tipo pandas.core.frame.DataFrame\n"
     ]
    }
   ],
   "source": [
    "import builtins\n",
    "import sys\n",
    "\n",
    "# Obtener la lista de nombres de variables\n",
    "variable_names = dir()\n",
    "variables_descartables = ['exit','quit','Out','In','sys','var','var_name','variable_names','builtins','contenido','size','user_defined_variables','variables_descartables']\n",
    "# Filtrar las variables creadas manualmente\n",
    "user_defined_variables = [\n",
    "    var for var in variable_names \n",
    "    #if not var.startswith('_')\n",
    "    if var not in dir(builtins) and not var.startswith('_') and var not in variables_descartables\n",
    "]\n",
    "#print(user_defined_variables)\n",
    "print('Variables encontradas: ', len(user_defined_variables))\n",
    "# Imprimir el tamaño y la fecha de creación de las variables\n",
    "for var_name in user_defined_variables:\n",
    "    var = globals()[var_name]\n",
    "    if sys.getsizeof(var) >= 100000:\n",
    "        size = sys.getsizeof(var)  \n",
    "        contenido = eval(var_name)\n",
    "        print(f\"La variable {var_name} pesa {size} bytes y es de tipo {str(type(contenido))[8:-2]}\")"
   ]
  }
 ],
 "metadata": {
  "kernelspec": {
   "display_name": "Python 3",
   "language": "python",
   "name": "python3"
  },
  "language_info": {
   "codemirror_mode": {
    "name": "ipython",
    "version": 3
   },
   "file_extension": ".py",
   "mimetype": "text/x-python",
   "name": "python",
   "nbconvert_exporter": "python",
   "pygments_lexer": "ipython3",
   "version": "3.11.1"
  },
  "orig_nbformat": 4
 },
 "nbformat": 4,
 "nbformat_minor": 2
}
